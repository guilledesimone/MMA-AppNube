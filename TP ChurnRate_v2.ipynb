{
 "cells": [
  {
   "cell_type": "markdown",
   "metadata": {
    "id": "HWtWiOuJRMZi"
   },
   "source": [
    "**Materia Implementación de Aplicaciones de Aprendizaje Automático en la Nube**\n",
    "\n",
    "**TRABAJO PRACTICO**\n",
    "\n"
   ]
  },
  {
   "cell_type": "markdown",
   "metadata": {
    "id": "XF4VaCZCnaTy"
   },
   "source": [
    "**Introduccion**"
   ]
  },
  {
   "cell_type": "markdown",
   "metadata": {
    "id": "EnIyNVpTnmcE"
   },
   "source": [
    "Un gerente comercial de un banco de tarjetas de crédito está atravesando un problema de perdida clientes. Quieren analizar los datos para descubrir cual es la causa y aprovechar para predecir los clientes que probablemente se den de baja, para lanzar una campaña de retención focalizada en dicho universo.\n",
    "\n",
    "Fuente de datos https://www.kaggle.com/code/ganlak/credit-card-prediction-for-attrition-customer/data"
   ]
  },
  {
   "cell_type": "markdown",
   "metadata": {
    "id": "G8lsGP75rByp"
   },
   "source": [
    "**Columnas que componen el dataset:**\n",
    "\n",
    "* CLIENTNUM\n",
    "* Attrition_Flag\n",
    "* Customer_Age\n",
    "* Gender\n",
    "* Dependent_count\n",
    "* Education_Level\n",
    "* Marital_Status\n",
    "* Income_Category\n",
    "* Card_Category\n",
    "* Months_on_book\n",
    "* Total_Relationship_Count\n",
    "* Months_Inactive_12_mon\n",
    "* Contacts_Count_12_mon\n",
    "* Credit_Limit\n",
    "* Total_Revolving_Bal\n",
    "* Avg_Open_To_Buy\n",
    "* Total_Amt_Chng_Q4_Q1\n",
    "* Total_Trans_Amt\n",
    "* Total_Trans_Ct\n",
    "* Total_Ct_Chng_Q4_Q1\n",
    "* Avg_Utilization_Ratio\n",
    "\n"
   ]
  },
  {
   "cell_type": "code",
   "execution_count": 1,
   "metadata": {
    "executionInfo": {
     "elapsed": 6332,
     "status": "ok",
     "timestamp": 1670266297849,
     "user": {
      "displayName": "CAMILA BELEN ESCOBAR",
      "userId": "11228358377265717470"
     },
     "user_tz": 180
    },
    "id": "QjC6yIO8GqnM"
   },
   "outputs": [],
   "source": [
    "import pandas as pd \n",
    "import numpy as np\n",
    "import seaborn as sns\n",
    "import matplotlib.pyplot as plt\n",
    "%matplotlib inline\n",
    "#import plotly.express as px\n",
    "%matplotlib inline\n",
    "\n",
    "\n",
    "# Utilities\n",
    "import os\n",
    "import pickle\n",
    "import requests as req\n",
    "from io import BytesIO\n",
    "import boto3\n",
    "\n",
    "\n",
    "# MachineLearning\n",
    "from catboost import CatBoostClassifier\n",
    "\n",
    "\n",
    "import scipy.stats as st\n",
    "\n",
    "from sklearn.model_selection import train_test_split, cross_val_score, StratifiedKFold\n",
    "from sklearn.preprocessing import LabelEncoder\n",
    "from sklearn.preprocessing import StandardScaler\n",
    "\n",
    "from sklearn.model_selection import StratifiedKFold\n",
    "\n",
    "from sklearn.metrics import accuracy_score\n",
    "#from scikitplot.metrics import plot_roc\n",
    "from sklearn.metrics import roc_auc_score\n",
    "from sklearn.metrics import classification_report\n",
    "from keras.utils import to_categorical\n",
    "\n",
    "# Main modules\n",
    "import predictions as pr\n"
   ]
  },
  {
   "cell_type": "code",
   "execution_count": 2,
   "metadata": {},
   "outputs": [],
   "source": [
    "#!pip install catboost"
   ]
  },
  {
   "cell_type": "code",
   "execution_count": 3,
   "metadata": {},
   "outputs": [],
   "source": [
    "REGION = 'us-east-1'\n",
    "BUCKET_NAME = 'mma-models-in-production' # Unique through all accounts\n",
    "FOLDER = 'dist' # Should be clean before the execution"
   ]
  },
  {
   "cell_type": "markdown",
   "metadata": {
    "id": "Bt0He4ISEV8F"
   },
   "source": [
    "\n",
    "\n",
    "---\n",
    "#### **Importación del Dataset**\n",
    "\n",
    "\n",
    "---\n",
    "\n",
    "\n",
    "\n"
   ]
  },
  {
   "cell_type": "code",
   "execution_count": 4,
   "metadata": {},
   "outputs": [
    {
     "data": {
      "text/html": [
       "<div>\n",
       "<style scoped>\n",
       "    .dataframe tbody tr th:only-of-type {\n",
       "        vertical-align: middle;\n",
       "    }\n",
       "\n",
       "    .dataframe tbody tr th {\n",
       "        vertical-align: top;\n",
       "    }\n",
       "\n",
       "    .dataframe thead th {\n",
       "        text-align: right;\n",
       "    }\n",
       "</style>\n",
       "<table border=\"1\" class=\"dataframe\">\n",
       "  <thead>\n",
       "    <tr style=\"text-align: right;\">\n",
       "      <th></th>\n",
       "      <th>CLIENTNUM</th>\n",
       "      <th>Attrition_Flag</th>\n",
       "      <th>Customer_Age</th>\n",
       "      <th>Gender</th>\n",
       "      <th>Dependent_count</th>\n",
       "      <th>Education_Level</th>\n",
       "      <th>Marital_Status</th>\n",
       "      <th>Income_Category</th>\n",
       "      <th>Card_Category</th>\n",
       "      <th>Months_on_book</th>\n",
       "      <th>...</th>\n",
       "      <th>Credit_Limit</th>\n",
       "      <th>Total_Revolving_Bal</th>\n",
       "      <th>Avg_Open_To_Buy</th>\n",
       "      <th>Total_Amt_Chng_Q4_Q1</th>\n",
       "      <th>Total_Trans_Amt</th>\n",
       "      <th>Total_Trans_Ct</th>\n",
       "      <th>Total_Ct_Chng_Q4_Q1</th>\n",
       "      <th>Avg_Utilization_Ratio</th>\n",
       "      <th>Naive_Bayes_Classifier_Attrition_Flag_Card_Category_Contacts_Count_12_mon_Dependent_count_Education_Level_Months_Inactive_12_mon_1</th>\n",
       "      <th>Naive_Bayes_Classifier_Attrition_Flag_Card_Category_Contacts_Count_12_mon_Dependent_count_Education_Level_Months_Inactive_12_mon_2</th>\n",
       "    </tr>\n",
       "  </thead>\n",
       "  <tbody>\n",
       "    <tr>\n",
       "      <th>0</th>\n",
       "      <td>768805383</td>\n",
       "      <td>Existing Customer</td>\n",
       "      <td>45</td>\n",
       "      <td>M</td>\n",
       "      <td>3</td>\n",
       "      <td>High School</td>\n",
       "      <td>Married</td>\n",
       "      <td>$60K - $80K</td>\n",
       "      <td>Blue</td>\n",
       "      <td>39</td>\n",
       "      <td>...</td>\n",
       "      <td>12691.0</td>\n",
       "      <td>777</td>\n",
       "      <td>11914.0</td>\n",
       "      <td>1.335</td>\n",
       "      <td>1144</td>\n",
       "      <td>42</td>\n",
       "      <td>1.625</td>\n",
       "      <td>0.061</td>\n",
       "      <td>0.000093</td>\n",
       "      <td>0.99991</td>\n",
       "    </tr>\n",
       "    <tr>\n",
       "      <th>1</th>\n",
       "      <td>818770008</td>\n",
       "      <td>Existing Customer</td>\n",
       "      <td>49</td>\n",
       "      <td>F</td>\n",
       "      <td>5</td>\n",
       "      <td>Graduate</td>\n",
       "      <td>Single</td>\n",
       "      <td>Less than $40K</td>\n",
       "      <td>Blue</td>\n",
       "      <td>44</td>\n",
       "      <td>...</td>\n",
       "      <td>8256.0</td>\n",
       "      <td>864</td>\n",
       "      <td>7392.0</td>\n",
       "      <td>1.541</td>\n",
       "      <td>1291</td>\n",
       "      <td>33</td>\n",
       "      <td>3.714</td>\n",
       "      <td>0.105</td>\n",
       "      <td>0.000057</td>\n",
       "      <td>0.99994</td>\n",
       "    </tr>\n",
       "    <tr>\n",
       "      <th>2</th>\n",
       "      <td>713982108</td>\n",
       "      <td>Existing Customer</td>\n",
       "      <td>51</td>\n",
       "      <td>M</td>\n",
       "      <td>3</td>\n",
       "      <td>Graduate</td>\n",
       "      <td>Married</td>\n",
       "      <td>$80K - $120K</td>\n",
       "      <td>Blue</td>\n",
       "      <td>36</td>\n",
       "      <td>...</td>\n",
       "      <td>3418.0</td>\n",
       "      <td>0</td>\n",
       "      <td>3418.0</td>\n",
       "      <td>2.594</td>\n",
       "      <td>1887</td>\n",
       "      <td>20</td>\n",
       "      <td>2.333</td>\n",
       "      <td>0.000</td>\n",
       "      <td>0.000021</td>\n",
       "      <td>0.99998</td>\n",
       "    </tr>\n",
       "    <tr>\n",
       "      <th>3</th>\n",
       "      <td>769911858</td>\n",
       "      <td>Existing Customer</td>\n",
       "      <td>40</td>\n",
       "      <td>F</td>\n",
       "      <td>4</td>\n",
       "      <td>High School</td>\n",
       "      <td>Unknown</td>\n",
       "      <td>Less than $40K</td>\n",
       "      <td>Blue</td>\n",
       "      <td>34</td>\n",
       "      <td>...</td>\n",
       "      <td>3313.0</td>\n",
       "      <td>2517</td>\n",
       "      <td>796.0</td>\n",
       "      <td>1.405</td>\n",
       "      <td>1171</td>\n",
       "      <td>20</td>\n",
       "      <td>2.333</td>\n",
       "      <td>0.760</td>\n",
       "      <td>0.000134</td>\n",
       "      <td>0.99987</td>\n",
       "    </tr>\n",
       "    <tr>\n",
       "      <th>4</th>\n",
       "      <td>709106358</td>\n",
       "      <td>Existing Customer</td>\n",
       "      <td>40</td>\n",
       "      <td>M</td>\n",
       "      <td>3</td>\n",
       "      <td>Uneducated</td>\n",
       "      <td>Married</td>\n",
       "      <td>$60K - $80K</td>\n",
       "      <td>Blue</td>\n",
       "      <td>21</td>\n",
       "      <td>...</td>\n",
       "      <td>4716.0</td>\n",
       "      <td>0</td>\n",
       "      <td>4716.0</td>\n",
       "      <td>2.175</td>\n",
       "      <td>816</td>\n",
       "      <td>28</td>\n",
       "      <td>2.500</td>\n",
       "      <td>0.000</td>\n",
       "      <td>0.000022</td>\n",
       "      <td>0.99998</td>\n",
       "    </tr>\n",
       "  </tbody>\n",
       "</table>\n",
       "<p>5 rows × 23 columns</p>\n",
       "</div>"
      ],
      "text/plain": [
       "   CLIENTNUM     Attrition_Flag  Customer_Age Gender  Dependent_count  \\\n",
       "0  768805383  Existing Customer            45      M                3   \n",
       "1  818770008  Existing Customer            49      F                5   \n",
       "2  713982108  Existing Customer            51      M                3   \n",
       "3  769911858  Existing Customer            40      F                4   \n",
       "4  709106358  Existing Customer            40      M                3   \n",
       "\n",
       "  Education_Level Marital_Status Income_Category Card_Category  \\\n",
       "0     High School        Married     $60K - $80K          Blue   \n",
       "1        Graduate         Single  Less than $40K          Blue   \n",
       "2        Graduate        Married    $80K - $120K          Blue   \n",
       "3     High School        Unknown  Less than $40K          Blue   \n",
       "4      Uneducated        Married     $60K - $80K          Blue   \n",
       "\n",
       "   Months_on_book  ...  Credit_Limit  Total_Revolving_Bal  Avg_Open_To_Buy  \\\n",
       "0              39  ...       12691.0                  777          11914.0   \n",
       "1              44  ...        8256.0                  864           7392.0   \n",
       "2              36  ...        3418.0                    0           3418.0   \n",
       "3              34  ...        3313.0                 2517            796.0   \n",
       "4              21  ...        4716.0                    0           4716.0   \n",
       "\n",
       "   Total_Amt_Chng_Q4_Q1  Total_Trans_Amt  Total_Trans_Ct  Total_Ct_Chng_Q4_Q1  \\\n",
       "0                 1.335             1144              42                1.625   \n",
       "1                 1.541             1291              33                3.714   \n",
       "2                 2.594             1887              20                2.333   \n",
       "3                 1.405             1171              20                2.333   \n",
       "4                 2.175              816              28                2.500   \n",
       "\n",
       "   Avg_Utilization_Ratio  \\\n",
       "0                  0.061   \n",
       "1                  0.105   \n",
       "2                  0.000   \n",
       "3                  0.760   \n",
       "4                  0.000   \n",
       "\n",
       "   Naive_Bayes_Classifier_Attrition_Flag_Card_Category_Contacts_Count_12_mon_Dependent_count_Education_Level_Months_Inactive_12_mon_1  \\\n",
       "0                                           0.000093                                                                                    \n",
       "1                                           0.000057                                                                                    \n",
       "2                                           0.000021                                                                                    \n",
       "3                                           0.000134                                                                                    \n",
       "4                                           0.000022                                                                                    \n",
       "\n",
       "   Naive_Bayes_Classifier_Attrition_Flag_Card_Category_Contacts_Count_12_mon_Dependent_count_Education_Level_Months_Inactive_12_mon_2  \n",
       "0                                            0.99991                                                                                   \n",
       "1                                            0.99994                                                                                   \n",
       "2                                            0.99998                                                                                   \n",
       "3                                            0.99987                                                                                   \n",
       "4                                            0.99998                                                                                   \n",
       "\n",
       "[5 rows x 23 columns]"
      ]
     },
     "execution_count": 4,
     "metadata": {},
     "output_type": "execute_result"
    }
   ],
   "source": [
    "path = 'https://raw.githubusercontent.com/guilledesimone/MMA-AppNube/main/data/credit_card_churn.csv'\n",
    "\n",
    "# Read the CSV file with coma as delimiter, \n",
    "df = pd.read_csv(path, delimiter=',', header=0)\n",
    "\n",
    "df.head(5)"
   ]
  },
  {
   "cell_type": "markdown",
   "metadata": {
    "id": "ekTKg8FtVd3s"
   },
   "source": [
    "---\n",
    "## **Analisis Exploratorio del Dataset**\n",
    "\n",
    "---"
   ]
  },
  {
   "cell_type": "code",
   "execution_count": 5,
   "metadata": {
    "colab": {
     "base_uri": "https://localhost:8080/"
    },
    "executionInfo": {
     "elapsed": 18,
     "status": "ok",
     "timestamp": 1670266297850,
     "user": {
      "displayName": "CAMILA BELEN ESCOBAR",
      "userId": "11228358377265717470"
     },
     "user_tz": 180
    },
    "id": "XETyn6lcGLY8",
    "outputId": "f9c3625b-850d-4c06-e025-30a04c2b6392"
   },
   "outputs": [],
   "source": [
    "#df.info()"
   ]
  },
  {
   "cell_type": "code",
   "execution_count": 6,
   "metadata": {
    "colab": {
     "base_uri": "https://localhost:8080/",
     "height": 364
    },
    "executionInfo": {
     "elapsed": 15,
     "status": "ok",
     "timestamp": 1670266297850,
     "user": {
      "displayName": "CAMILA BELEN ESCOBAR",
      "userId": "11228358377265717470"
     },
     "user_tz": 180
    },
    "id": "z7LE41JPGPqz",
    "outputId": "6fea85ec-d6a7-4088-c71b-f2b41e9cfe3b"
   },
   "outputs": [
    {
     "data": {
      "text/html": [
       "<div>\n",
       "<style scoped>\n",
       "    .dataframe tbody tr th:only-of-type {\n",
       "        vertical-align: middle;\n",
       "    }\n",
       "\n",
       "    .dataframe tbody tr th {\n",
       "        vertical-align: top;\n",
       "    }\n",
       "\n",
       "    .dataframe thead th {\n",
       "        text-align: right;\n",
       "    }\n",
       "</style>\n",
       "<table border=\"1\" class=\"dataframe\">\n",
       "  <thead>\n",
       "    <tr style=\"text-align: right;\">\n",
       "      <th></th>\n",
       "      <th>CLIENTNUM</th>\n",
       "      <th>Customer_Age</th>\n",
       "      <th>Dependent_count</th>\n",
       "      <th>Months_on_book</th>\n",
       "      <th>Total_Relationship_Count</th>\n",
       "      <th>Months_Inactive_12_mon</th>\n",
       "      <th>Contacts_Count_12_mon</th>\n",
       "      <th>Credit_Limit</th>\n",
       "      <th>Total_Revolving_Bal</th>\n",
       "      <th>Avg_Open_To_Buy</th>\n",
       "      <th>Total_Amt_Chng_Q4_Q1</th>\n",
       "      <th>Total_Trans_Amt</th>\n",
       "      <th>Total_Trans_Ct</th>\n",
       "      <th>Total_Ct_Chng_Q4_Q1</th>\n",
       "      <th>Avg_Utilization_Ratio</th>\n",
       "      <th>Naive_Bayes_Classifier_Attrition_Flag_Card_Category_Contacts_Count_12_mon_Dependent_count_Education_Level_Months_Inactive_12_mon_1</th>\n",
       "      <th>Naive_Bayes_Classifier_Attrition_Flag_Card_Category_Contacts_Count_12_mon_Dependent_count_Education_Level_Months_Inactive_12_mon_2</th>\n",
       "    </tr>\n",
       "  </thead>\n",
       "  <tbody>\n",
       "    <tr>\n",
       "      <th>count</th>\n",
       "      <td>1.012700e+04</td>\n",
       "      <td>10127.000000</td>\n",
       "      <td>10127.000000</td>\n",
       "      <td>10127.000000</td>\n",
       "      <td>10127.000000</td>\n",
       "      <td>10127.000000</td>\n",
       "      <td>10127.000000</td>\n",
       "      <td>10127.000000</td>\n",
       "      <td>10127.000000</td>\n",
       "      <td>10127.000000</td>\n",
       "      <td>10127.000000</td>\n",
       "      <td>10127.000000</td>\n",
       "      <td>10127.000000</td>\n",
       "      <td>10127.000000</td>\n",
       "      <td>10127.000000</td>\n",
       "      <td>10127.000000</td>\n",
       "      <td>10127.000000</td>\n",
       "    </tr>\n",
       "    <tr>\n",
       "      <th>mean</th>\n",
       "      <td>7.391776e+08</td>\n",
       "      <td>46.325960</td>\n",
       "      <td>2.346203</td>\n",
       "      <td>35.928409</td>\n",
       "      <td>3.812580</td>\n",
       "      <td>2.341167</td>\n",
       "      <td>2.455317</td>\n",
       "      <td>8631.953698</td>\n",
       "      <td>1162.814061</td>\n",
       "      <td>7469.139637</td>\n",
       "      <td>0.759941</td>\n",
       "      <td>4404.086304</td>\n",
       "      <td>64.858695</td>\n",
       "      <td>0.712222</td>\n",
       "      <td>0.274894</td>\n",
       "      <td>0.159997</td>\n",
       "      <td>0.840003</td>\n",
       "    </tr>\n",
       "    <tr>\n",
       "      <th>std</th>\n",
       "      <td>3.690378e+07</td>\n",
       "      <td>8.016814</td>\n",
       "      <td>1.298908</td>\n",
       "      <td>7.986416</td>\n",
       "      <td>1.554408</td>\n",
       "      <td>1.010622</td>\n",
       "      <td>1.106225</td>\n",
       "      <td>9088.776650</td>\n",
       "      <td>814.987335</td>\n",
       "      <td>9090.685324</td>\n",
       "      <td>0.219207</td>\n",
       "      <td>3397.129254</td>\n",
       "      <td>23.472570</td>\n",
       "      <td>0.238086</td>\n",
       "      <td>0.275691</td>\n",
       "      <td>0.365301</td>\n",
       "      <td>0.365301</td>\n",
       "    </tr>\n",
       "    <tr>\n",
       "      <th>min</th>\n",
       "      <td>7.080821e+08</td>\n",
       "      <td>26.000000</td>\n",
       "      <td>0.000000</td>\n",
       "      <td>13.000000</td>\n",
       "      <td>1.000000</td>\n",
       "      <td>0.000000</td>\n",
       "      <td>0.000000</td>\n",
       "      <td>1438.300000</td>\n",
       "      <td>0.000000</td>\n",
       "      <td>3.000000</td>\n",
       "      <td>0.000000</td>\n",
       "      <td>510.000000</td>\n",
       "      <td>10.000000</td>\n",
       "      <td>0.000000</td>\n",
       "      <td>0.000000</td>\n",
       "      <td>0.000008</td>\n",
       "      <td>0.000420</td>\n",
       "    </tr>\n",
       "    <tr>\n",
       "      <th>25%</th>\n",
       "      <td>7.130368e+08</td>\n",
       "      <td>41.000000</td>\n",
       "      <td>1.000000</td>\n",
       "      <td>31.000000</td>\n",
       "      <td>3.000000</td>\n",
       "      <td>2.000000</td>\n",
       "      <td>2.000000</td>\n",
       "      <td>2555.000000</td>\n",
       "      <td>359.000000</td>\n",
       "      <td>1324.500000</td>\n",
       "      <td>0.631000</td>\n",
       "      <td>2155.500000</td>\n",
       "      <td>45.000000</td>\n",
       "      <td>0.582000</td>\n",
       "      <td>0.023000</td>\n",
       "      <td>0.000099</td>\n",
       "      <td>0.999660</td>\n",
       "    </tr>\n",
       "    <tr>\n",
       "      <th>50%</th>\n",
       "      <td>7.179264e+08</td>\n",
       "      <td>46.000000</td>\n",
       "      <td>2.000000</td>\n",
       "      <td>36.000000</td>\n",
       "      <td>4.000000</td>\n",
       "      <td>2.000000</td>\n",
       "      <td>2.000000</td>\n",
       "      <td>4549.000000</td>\n",
       "      <td>1276.000000</td>\n",
       "      <td>3474.000000</td>\n",
       "      <td>0.736000</td>\n",
       "      <td>3899.000000</td>\n",
       "      <td>67.000000</td>\n",
       "      <td>0.702000</td>\n",
       "      <td>0.176000</td>\n",
       "      <td>0.000181</td>\n",
       "      <td>0.999820</td>\n",
       "    </tr>\n",
       "    <tr>\n",
       "      <th>75%</th>\n",
       "      <td>7.731435e+08</td>\n",
       "      <td>52.000000</td>\n",
       "      <td>3.000000</td>\n",
       "      <td>40.000000</td>\n",
       "      <td>5.000000</td>\n",
       "      <td>3.000000</td>\n",
       "      <td>3.000000</td>\n",
       "      <td>11067.500000</td>\n",
       "      <td>1784.000000</td>\n",
       "      <td>9859.000000</td>\n",
       "      <td>0.859000</td>\n",
       "      <td>4741.000000</td>\n",
       "      <td>81.000000</td>\n",
       "      <td>0.818000</td>\n",
       "      <td>0.503000</td>\n",
       "      <td>0.000337</td>\n",
       "      <td>0.999900</td>\n",
       "    </tr>\n",
       "    <tr>\n",
       "      <th>max</th>\n",
       "      <td>8.283431e+08</td>\n",
       "      <td>73.000000</td>\n",
       "      <td>5.000000</td>\n",
       "      <td>56.000000</td>\n",
       "      <td>6.000000</td>\n",
       "      <td>6.000000</td>\n",
       "      <td>6.000000</td>\n",
       "      <td>34516.000000</td>\n",
       "      <td>2517.000000</td>\n",
       "      <td>34516.000000</td>\n",
       "      <td>3.397000</td>\n",
       "      <td>18484.000000</td>\n",
       "      <td>139.000000</td>\n",
       "      <td>3.714000</td>\n",
       "      <td>0.999000</td>\n",
       "      <td>0.999580</td>\n",
       "      <td>0.999990</td>\n",
       "    </tr>\n",
       "  </tbody>\n",
       "</table>\n",
       "</div>"
      ],
      "text/plain": [
       "          CLIENTNUM  Customer_Age  Dependent_count  Months_on_book  \\\n",
       "count  1.012700e+04  10127.000000     10127.000000    10127.000000   \n",
       "mean   7.391776e+08     46.325960         2.346203       35.928409   \n",
       "std    3.690378e+07      8.016814         1.298908        7.986416   \n",
       "min    7.080821e+08     26.000000         0.000000       13.000000   \n",
       "25%    7.130368e+08     41.000000         1.000000       31.000000   \n",
       "50%    7.179264e+08     46.000000         2.000000       36.000000   \n",
       "75%    7.731435e+08     52.000000         3.000000       40.000000   \n",
       "max    8.283431e+08     73.000000         5.000000       56.000000   \n",
       "\n",
       "       Total_Relationship_Count  Months_Inactive_12_mon  \\\n",
       "count              10127.000000            10127.000000   \n",
       "mean                   3.812580                2.341167   \n",
       "std                    1.554408                1.010622   \n",
       "min                    1.000000                0.000000   \n",
       "25%                    3.000000                2.000000   \n",
       "50%                    4.000000                2.000000   \n",
       "75%                    5.000000                3.000000   \n",
       "max                    6.000000                6.000000   \n",
       "\n",
       "       Contacts_Count_12_mon  Credit_Limit  Total_Revolving_Bal  \\\n",
       "count           10127.000000  10127.000000         10127.000000   \n",
       "mean                2.455317   8631.953698          1162.814061   \n",
       "std                 1.106225   9088.776650           814.987335   \n",
       "min                 0.000000   1438.300000             0.000000   \n",
       "25%                 2.000000   2555.000000           359.000000   \n",
       "50%                 2.000000   4549.000000          1276.000000   \n",
       "75%                 3.000000  11067.500000          1784.000000   \n",
       "max                 6.000000  34516.000000          2517.000000   \n",
       "\n",
       "       Avg_Open_To_Buy  Total_Amt_Chng_Q4_Q1  Total_Trans_Amt  Total_Trans_Ct  \\\n",
       "count     10127.000000          10127.000000     10127.000000    10127.000000   \n",
       "mean       7469.139637              0.759941      4404.086304       64.858695   \n",
       "std        9090.685324              0.219207      3397.129254       23.472570   \n",
       "min           3.000000              0.000000       510.000000       10.000000   \n",
       "25%        1324.500000              0.631000      2155.500000       45.000000   \n",
       "50%        3474.000000              0.736000      3899.000000       67.000000   \n",
       "75%        9859.000000              0.859000      4741.000000       81.000000   \n",
       "max       34516.000000              3.397000     18484.000000      139.000000   \n",
       "\n",
       "       Total_Ct_Chng_Q4_Q1  Avg_Utilization_Ratio  \\\n",
       "count         10127.000000           10127.000000   \n",
       "mean              0.712222               0.274894   \n",
       "std               0.238086               0.275691   \n",
       "min               0.000000               0.000000   \n",
       "25%               0.582000               0.023000   \n",
       "50%               0.702000               0.176000   \n",
       "75%               0.818000               0.503000   \n",
       "max               3.714000               0.999000   \n",
       "\n",
       "       Naive_Bayes_Classifier_Attrition_Flag_Card_Category_Contacts_Count_12_mon_Dependent_count_Education_Level_Months_Inactive_12_mon_1  \\\n",
       "count                                       10127.000000                                                                                    \n",
       "mean                                            0.159997                                                                                    \n",
       "std                                             0.365301                                                                                    \n",
       "min                                             0.000008                                                                                    \n",
       "25%                                             0.000099                                                                                    \n",
       "50%                                             0.000181                                                                                    \n",
       "75%                                             0.000337                                                                                    \n",
       "max                                             0.999580                                                                                    \n",
       "\n",
       "       Naive_Bayes_Classifier_Attrition_Flag_Card_Category_Contacts_Count_12_mon_Dependent_count_Education_Level_Months_Inactive_12_mon_2  \n",
       "count                                       10127.000000                                                                                   \n",
       "mean                                            0.840003                                                                                   \n",
       "std                                             0.365301                                                                                   \n",
       "min                                             0.000420                                                                                   \n",
       "25%                                             0.999660                                                                                   \n",
       "50%                                             0.999820                                                                                   \n",
       "75%                                             0.999900                                                                                   \n",
       "max                                             0.999990                                                                                   "
      ]
     },
     "execution_count": 6,
     "metadata": {},
     "output_type": "execute_result"
    }
   ],
   "source": [
    "df.describe()"
   ]
  },
  {
   "cell_type": "markdown",
   "metadata": {
    "id": "vGl62X_xMgmq"
   },
   "source": [
    "*Eliminamos columnas que claramente no son relevantes para el análisis (CLIENTNUM, Naive_Bayes_Classifier)*"
   ]
  },
  {
   "cell_type": "code",
   "execution_count": 7,
   "metadata": {
    "executionInfo": {
     "elapsed": 15,
     "status": "ok",
     "timestamp": 1670266297852,
     "user": {
      "displayName": "CAMILA BELEN ESCOBAR",
      "userId": "11228358377265717470"
     },
     "user_tz": 180
    },
    "id": "bN0QEnbnIo8B"
   },
   "outputs": [],
   "source": [
    "df.drop(df.loc[:,['CLIENTNUM','Naive_Bayes_Classifier_Attrition_Flag_Card_Category_Contacts_Count_12_mon_Dependent_count_Education_Level_Months_Inactive_12_mon_1',\n",
    " 'Naive_Bayes_Classifier_Attrition_Flag_Card_Category_Contacts_Count_12_mon_Dependent_count_Education_Level_Months_Inactive_12_mon_2']], axis=1, inplace=True)"
   ]
  },
  {
   "cell_type": "code",
   "execution_count": 8,
   "metadata": {
    "scrolled": true
   },
   "outputs": [
    {
     "data": {
      "text/plain": [
       "(10127, 20)"
      ]
     },
     "execution_count": 8,
     "metadata": {},
     "output_type": "execute_result"
    }
   ],
   "source": [
    "df.shape"
   ]
  },
  {
   "cell_type": "markdown",
   "metadata": {
    "id": "_ogyWwsAitfb"
   },
   "source": [
    "*Análisis de duplicados*"
   ]
  },
  {
   "cell_type": "code",
   "execution_count": 9,
   "metadata": {
    "colab": {
     "base_uri": "https://localhost:8080/"
    },
    "executionInfo": {
     "elapsed": 15,
     "status": "ok",
     "timestamp": 1670266297852,
     "user": {
      "displayName": "CAMILA BELEN ESCOBAR",
      "userId": "11228358377265717470"
     },
     "user_tz": 180
    },
    "id": "14IO6sBtHEGd",
    "outputId": "a922e8df-a89e-4f74-ccc3-783ffc711363"
   },
   "outputs": [
    {
     "data": {
      "text/plain": [
       "0"
      ]
     },
     "execution_count": 9,
     "metadata": {},
     "output_type": "execute_result"
    }
   ],
   "source": [
    "df.duplicated().sum()"
   ]
  },
  {
   "cell_type": "markdown",
   "metadata": {
    "id": "zWahE96mIJBY"
   },
   "source": [
    "*Verificamos nulos*"
   ]
  },
  {
   "cell_type": "code",
   "execution_count": 10,
   "metadata": {
    "colab": {
     "base_uri": "https://localhost:8080/"
    },
    "executionInfo": {
     "elapsed": 13,
     "status": "ok",
     "timestamp": 1670266297852,
     "user": {
      "displayName": "CAMILA BELEN ESCOBAR",
      "userId": "11228358377265717470"
     },
     "user_tz": 180
    },
    "id": "q1shrSsUHhEn",
    "outputId": "2b326650-de3b-407e-b514-a949efe71685"
   },
   "outputs": [
    {
     "data": {
      "text/plain": [
       "Attrition_Flag              0\n",
       "Customer_Age                0\n",
       "Gender                      0\n",
       "Dependent_count             0\n",
       "Education_Level             0\n",
       "Marital_Status              0\n",
       "Income_Category             0\n",
       "Card_Category               0\n",
       "Months_on_book              0\n",
       "Total_Relationship_Count    0\n",
       "Months_Inactive_12_mon      0\n",
       "Contacts_Count_12_mon       0\n",
       "Credit_Limit                0\n",
       "Total_Revolving_Bal         0\n",
       "Avg_Open_To_Buy             0\n",
       "Total_Amt_Chng_Q4_Q1        0\n",
       "Total_Trans_Amt             0\n",
       "Total_Trans_Ct              0\n",
       "Total_Ct_Chng_Q4_Q1         0\n",
       "Avg_Utilization_Ratio       0\n",
       "dtype: int64"
      ]
     },
     "execution_count": 10,
     "metadata": {},
     "output_type": "execute_result"
    }
   ],
   "source": [
    "df.isnull().sum()"
   ]
  },
  {
   "cell_type": "markdown",
   "metadata": {
    "id": "I12-er8YiTaW"
   },
   "source": [
    "*Analisis de Outliers:*"
   ]
  },
  {
   "cell_type": "code",
   "execution_count": 11,
   "metadata": {
    "executionInfo": {
     "elapsed": 13,
     "status": "ok",
     "timestamp": 1670266297853,
     "user": {
      "displayName": "CAMILA BELEN ESCOBAR",
      "userId": "11228358377265717470"
     },
     "user_tz": 180
    },
    "id": "xgr4gpKKWDQ1"
   },
   "outputs": [],
   "source": [
    "dfnum=df.select_dtypes(include=['int64','float64'])"
   ]
  },
  {
   "cell_type": "code",
   "execution_count": 12,
   "metadata": {
    "colab": {
     "base_uri": "https://localhost:8080/"
    },
    "executionInfo": {
     "elapsed": 13,
     "status": "ok",
     "timestamp": 1670266297853,
     "user": {
      "displayName": "CAMILA BELEN ESCOBAR",
      "userId": "11228358377265717470"
     },
     "user_tz": 180
    },
    "id": "AxzqxiGGSQ_5",
    "outputId": "1104c08e-b567-45ef-dca6-330b4f78a334"
   },
   "outputs": [
    {
     "name": "stdout",
     "output_type": "stream",
     "text": [
      "Customer_Age Max: 73   Customer_Age Percentil 99: 65.0\n",
      "Dependent_count Max: 5   Dependent_count Percentil 99: 5.0\n",
      "Months_on_book Max: 56   Months_on_book Percentil 99: 56.0\n",
      "Total_Relationship_Count Max: 6   Total_Relationship_Count Percentil 99: 6.0\n",
      "Months_Inactive_12_mon Max: 6   Months_Inactive_12_mon Percentil 99: 6.0\n",
      "Contacts_Count_12_mon Max: 6   Contacts_Count_12_mon Percentil 99: 5.0\n",
      "Credit_Limit Max: 34516.0   Credit_Limit Percentil 99: 34516.0\n",
      "Total_Revolving_Bal Max: 2517   Total_Revolving_Bal Percentil 99: 2517.0\n",
      "Avg_Open_To_Buy Max: 34516.0   Avg_Open_To_Buy Percentil 99: 34294.14\n",
      "Total_Amt_Chng_Q4_Q1 Max: 3.397   Total_Amt_Chng_Q4_Q1 Percentil 99: 1.5147399999999998\n",
      "Total_Trans_Amt Max: 18484   Total_Trans_Amt Percentil 99: 15882.359999999997\n",
      "Total_Trans_Ct Max: 139   Total_Trans_Ct Percentil 99: 123.0\n",
      "Total_Ct_Chng_Q4_Q1 Max: 3.714   Total_Ct_Chng_Q4_Q1 Percentil 99: 1.455\n",
      "Avg_Utilization_Ratio Max: 0.999   Avg_Utilization_Ratio Percentil 99: 0.9057399999999998\n"
     ]
    }
   ],
   "source": [
    "for i, col in enumerate(dfnum.columns):\n",
    "  print(col,'Max:',dfnum[col].max(),' ',col,'Percentil 99:',dfnum[col].quantile(0.99))"
   ]
  },
  {
   "cell_type": "markdown",
   "metadata": {
    "id": "Vgjt1BA9aNh6"
   },
   "source": [
    "No se ven grandes diferencias entre los valores maximos y el percentil 99 de las variables por lo tanto bajo este criterio los valores extremos no son llamativos. Ampliamos el análisis en los siguientes graficos con Boxplot dividiendo por variable objetivo Atriction Flag."
   ]
  },
  {
   "cell_type": "code",
   "execution_count": 13,
   "metadata": {
    "colab": {
     "base_uri": "https://localhost:8080/",
     "height": 1000
    },
    "executionInfo": {
     "elapsed": 2375,
     "status": "ok",
     "timestamp": 1670266300217,
     "user": {
      "displayName": "CAMILA BELEN ESCOBAR",
      "userId": "11228358377265717470"
     },
     "user_tz": 180
    },
    "id": "YEzQEYGvH85t",
    "outputId": "66637225-1eaa-4eaf-972c-99ed635d92b6"
   },
   "outputs": [
    {
     "data": {
      "image/png": "[encoded data removed]",
      "text/plain": [
       "<Figure size 2000x4000 with 14 Axes>"
      ]
     },
     "metadata": {},
     "output_type": "display_data"
    }
   ],
   "source": [
    "f,ax = plt.subplots(int(len(dfnum.columns)/2),2,figsize=(20,40),gridspec_kw={'wspace':0.15,'hspace':0.50})\n",
    "\n",
    "ax = ax.ravel()\n",
    "for i,col in enumerate(dfnum.columns):\n",
    "  sns.boxplot(x = df.Attrition_Flag, y = dfnum[col], ax=ax[i],notch=True);\n",
    "  ax[i].xaxis.get_label().set_fontsize(12)\n",
    "  ax[i].yaxis.get_label().set_fontsize(12)"
   ]
  },
  {
   "cell_type": "markdown",
   "metadata": {
    "id": "VVuGqKeXkPED"
   },
   "source": [
    "De las observaciones de los graficos se notan valores extremos en base a la clase de la variable objetivo:\n",
    "* Month on Book: para ambas clases.\n",
    "* Months_Inactive_12_mon: La media es considerablemente mayor para Attrited Customers, e incluso muestra algunos pocos valores extremos\n",
    "* Credit_Limit, Avg_Open_To_Buy: para ambas clases, en el extremo superior.\n",
    "* Total_Trans_Amt y Ct: presentan valores extremos superiores, sin embargo la media y los valores extremos son considerablemente menores para Attrited Customers\n",
    "* Avg_Utilization_Ratio: para Attrited Customers se observan valores extremos. Sin embargo la media es menor que la de Existing Customer inluso cerana a 0. Conclusion para esta clase solo un pequeño grupo demuestra una tasa elevada de uso.\n",
    "* Total_Revolving_Bal: indica el refinanciamiento del saldo de la tarjeta. No presenta valores extremos, sin embargo para Attrited Customers la media es cercana a 0, de hecho la media de Existing Custumers supera al maximo de Attrited Customers. Es decir los Existing Customers se financian en mayor medida con el descubierto de la tarjeta de credtito que los Attrited Customers   "
   ]
  },
  {
   "cell_type": "markdown",
   "metadata": {
    "id": "d57nmFOPzfUn"
   },
   "source": [
    "*Analisis de distribución de los datos en las variables numéricas*"
   ]
  },
  {
   "cell_type": "code",
   "execution_count": 14,
   "metadata": {
    "colab": {
     "base_uri": "https://localhost:8080/",
     "height": 1000
    },
    "executionInfo": {
     "elapsed": 5748,
     "status": "ok",
     "timestamp": 1670266305961,
     "user": {
      "displayName": "CAMILA BELEN ESCOBAR",
      "userId": "11228358377265717470"
     },
     "user_tz": 180
    },
    "id": "NOCaf122zgUa",
    "outputId": "5721b1bc-831d-49e0-e04e-d0e9fea19c17"
   },
   "outputs": [
    {
     "data": {
      "image/png": "[encoded data removed]",
      "text/plain": [
       "<Figure size 2000x2000 with 14 Axes>"
      ]
     },
     "metadata": {},
     "output_type": "display_data"
    }
   ],
   "source": [
    "# Distribuciones para cada variable numerica\n",
    "f,ax = plt.subplots(int(len(dfnum.columns)/2),2,figsize=(20,20),gridspec_kw={'wspace':0.15,'hspace':0.30})\n",
    "\n",
    "ax = ax.ravel()\n",
    "for i,col in enumerate(dfnum.columns):\n",
    "    sns.histplot(df[col].astype(float),ax=ax[i],kde=True)\n",
    "    ax[i].axvline(x=df[col].mean(),color='k',label='media')\n",
    "    ax[i].axvline(x=df[col].median(),color='r',label='mediana')\n",
    "    ax[i].legend()   \n"
   ]
  },
  {
   "cell_type": "markdown",
   "metadata": {
    "id": "mW8gMMgR0c_X"
   },
   "source": [
    "Observamos distribuciones normales con colas simetricas solo para Customer_Age, Total_Amt_Chng_Q4_Q1, Total_Ct_Chng_Q4_Q1.\n",
    "\n",
    "Para los features de Credit_Limit, Avg_open_To_Buy, Total_Trans_Amt, Dependant_Count y Avg_Utilization_Ratio tienen una ditribución más pesada por debajo de la media, en cambio el resto se comporta al revés\n"
   ]
  },
  {
   "cell_type": "markdown",
   "metadata": {
    "id": "kVH8ZiT9OFeq"
   },
   "source": [
    "*Separamos en columnas categoricas y numéricas*"
   ]
  },
  {
   "cell_type": "code",
   "execution_count": 15,
   "metadata": {
    "colab": {
     "base_uri": "https://localhost:8080/"
    },
    "executionInfo": {
     "elapsed": 19,
     "status": "ok",
     "timestamp": 1670266367393,
     "user": {
      "displayName": "CAMILA BELEN ESCOBAR",
      "userId": "11228358377265717470"
     },
     "user_tz": 180
    },
    "id": "k_68KhCQMbnN",
    "outputId": "ab059c1d-aa14-413c-a9bd-3d2272c84ed4"
   },
   "outputs": [
    {
     "name": "stdout",
     "output_type": "stream",
     "text": [
      "Las columnas categóricas son: ['Attrition_Flag', 'Gender', 'Education_Level', 'Marital_Status', 'Income_Category', 'Card_Category'] \n",
      "Las columnas numéricas son: ['Customer_Age', 'Dependent_count', 'Months_on_book', 'Total_Relationship_Count', 'Months_Inactive_12_mon', 'Contacts_Count_12_mon', 'Credit_Limit', 'Total_Revolving_Bal', 'Avg_Open_To_Buy', 'Total_Amt_Chng_Q4_Q1', 'Total_Trans_Amt', 'Total_Trans_Ct', 'Total_Ct_Chng_Q4_Q1', 'Avg_Utilization_Ratio']\n"
     ]
    }
   ],
   "source": [
    "categorical = list(df.select_dtypes(include=['object']).columns)\n",
    "numerical = list(df.select_dtypes(include=['int64','float64']).columns)\n",
    "\n",
    "print(f'Las columnas categóricas son: {categorical} \\nLas columnas numéricas son: {numerical}')"
   ]
  },
  {
   "cell_type": "markdown",
   "metadata": {
    "id": "5npNz8K-nmhK"
   },
   "source": [
    "---\n",
    "#### **Feature Selection**\n",
    "\n",
    "---"
   ]
  },
  {
   "cell_type": "markdown",
   "metadata": {
    "id": "YVTjwvg43nob"
   },
   "source": [
    "*Analizamos Correlaciones*"
   ]
  },
  {
   "cell_type": "code",
   "execution_count": 16,
   "metadata": {
    "colab": {
     "base_uri": "https://localhost:8080/",
     "height": 1000
    },
    "executionInfo": {
     "elapsed": 18,
     "status": "ok",
     "timestamp": 1670266367394,
     "user": {
      "displayName": "CAMILA BELEN ESCOBAR",
      "userId": "11228358377265717470"
     },
     "user_tz": 180
    },
    "id": "SCm7uRje4DTp",
    "outputId": "1aa28a9e-5c32-41a2-a932-ff685fe74abf"
   },
   "outputs": [
    {
     "data": {
      "text/plain": [
       "<Axes: >"
      ]
     },
     "execution_count": 16,
     "metadata": {},
     "output_type": "execute_result"
    },
    {
     "data": {
      "image/png": "[encoded data removed]",
      "text/plain": [
       "<Figure size 1500x1500 with 2 Axes>"
      ]
     },
     "metadata": {},
     "output_type": "display_data"
    }
   ],
   "source": [
    "plt.figure(figsize=(15,15))\n",
    "sns.heatmap(dfnum.corr(),annot=True, vmin=-1, vmax=1, center= 0, cmap= 'coolwarm')\n"
   ]
  },
  {
   "cell_type": "markdown",
   "metadata": {
    "id": "3nQLCQV1_MIU"
   },
   "source": [
    "*Graficamos un Pair Plot*"
   ]
  },
  {
   "cell_type": "code",
   "execution_count": 17,
   "metadata": {
    "colab": {
     "base_uri": "https://localhost:8080/",
     "height": 1000,
     "output_embedded_package_id": "13efNootqrFQPT0tnpPngi-gWc33ewBiR"
    },
    "executionInfo": {
     "elapsed": 89369,
     "status": "ok",
     "timestamp": 1670266456748,
     "user": {
      "displayName": "CAMILA BELEN ESCOBAR",
      "userId": "11228358377265717470"
     },
     "user_tz": 180
    },
    "id": "RxjD--BdaSFr",
    "outputId": "24823921-be2b-463a-d4b5-1f6867d271c4"
   },
   "outputs": [],
   "source": [
    "#graficamos en el pair plot las variables con mayores correlaciones\n",
    "vars= ['Total_Revolving_Bal','Credit_Limit','Avg_Open_To_Buy','Total_Amt_Chng_Q4_Q1', 'Total_Trans_Amt',\n",
    "       'Total_Trans_Ct', 'Total_Ct_Chng_Q4_Q1','Avg_Open_To_Buy','Months_on_book','Customer_Age']\n",
    "\n",
    "#sns.pairplot(data=df, vars=vars, hue='Attrition_Flag');"
   ]
  },
  {
   "cell_type": "markdown",
   "metadata": {
    "id": "XcfpiuHGJwaf"
   },
   "source": [
    "Se puede observar que existe una gran correlación entre las variables:\n",
    "\n",
    "* Credit_Limit\n",
    "* Avg_Open_To_Buy\n",
    "* Months_on_book\n",
    "* Customer_Age\n",
    "\n",
    "\n",
    "\n",
    "*Descartamos variables con mayores correlaciones:*"
   ]
  },
  {
   "cell_type": "code",
   "execution_count": 18,
   "metadata": {
    "executionInfo": {
     "elapsed": 21,
     "status": "ok",
     "timestamp": 1670266456749,
     "user": {
      "displayName": "CAMILA BELEN ESCOBAR",
      "userId": "11228358377265717470"
     },
     "user_tz": 180
    },
    "id": "rr--cXtm8s7i"
   },
   "outputs": [],
   "source": [
    "#df.drop(df.loc[:,['Credit_Limit','Avg_Open_To_Buy', 'Months_on_book','Customer_Age']], axis=1, inplace=True)\n",
    "\n",
    "\n",
    "# Cuando probamos de quitar tambien Total_Revolving_Bal','Total_Trans_Ct' los resultados de \n",
    "# performance empeoraron por este motivo las mantuvimos\n",
    "df.drop(df.loc[:,['Credit_Limit','Avg_Open_To_Buy', 'Months_on_book','Customer_Age','Total_Revolving_Bal','Total_Trans_Ct']], axis=1, inplace=True)\n"
   ]
  },
  {
   "cell_type": "code",
   "execution_count": 19,
   "metadata": {},
   "outputs": [
    {
     "data": {
      "text/plain": [
       "(10127, 14)"
      ]
     },
     "execution_count": 19,
     "metadata": {},
     "output_type": "execute_result"
    }
   ],
   "source": [
    "df.shape"
   ]
  },
  {
   "cell_type": "code",
   "execution_count": 20,
   "metadata": {
    "scrolled": true
   },
   "outputs": [
    {
     "name": "stdout",
     "output_type": "stream",
     "text": [
      "<class 'pandas.core.frame.DataFrame'>\n",
      "RangeIndex: 10127 entries, 0 to 10126\n",
      "Data columns (total 14 columns):\n",
      " #   Column                    Non-Null Count  Dtype  \n",
      "---  ------                    --------------  -----  \n",
      " 0   Attrition_Flag            10127 non-null  object \n",
      " 1   Gender                    10127 non-null  object \n",
      " 2   Dependent_count           10127 non-null  int64  \n",
      " 3   Education_Level           10127 non-null  object \n",
      " 4   Marital_Status            10127 non-null  object \n",
      " 5   Income_Category           10127 non-null  object \n",
      " 6   Card_Category             10127 non-null  object \n",
      " 7   Total_Relationship_Count  10127 non-null  int64  \n",
      " 8   Months_Inactive_12_mon    10127 non-null  int64  \n",
      " 9   Contacts_Count_12_mon     10127 non-null  int64  \n",
      " 10  Total_Amt_Chng_Q4_Q1      10127 non-null  float64\n",
      " 11  Total_Trans_Amt           10127 non-null  int64  \n",
      " 12  Total_Ct_Chng_Q4_Q1       10127 non-null  float64\n",
      " 13  Avg_Utilization_Ratio     10127 non-null  float64\n",
      "dtypes: float64(3), int64(5), object(6)\n",
      "memory usage: 1.1+ MB\n"
     ]
    }
   ],
   "source": [
    "df.info()"
   ]
  },
  {
   "cell_type": "code",
   "execution_count": 21,
   "metadata": {},
   "outputs": [],
   "source": [
    "df.drop(df.loc[:,['Total_Relationship_Count', 'Total_Amt_Chng_Q4_Q1','Total_Relationship_Count']], axis=1, inplace=True)"
   ]
  },
  {
   "cell_type": "markdown",
   "metadata": {
    "id": "wXEr2O1jRoT6"
   },
   "source": [
    "*Analisis de independencia de variables catagoricas respecto a la variable objetivo:* "
   ]
  },
  {
   "cell_type": "code",
   "execution_count": 22,
   "metadata": {
    "executionInfo": {
     "elapsed": 20,
     "status": "ok",
     "timestamp": 1670266456749,
     "user": {
      "displayName": "CAMILA BELEN ESCOBAR",
      "userId": "11228358377265717470"
     },
     "user_tz": 180
    },
    "id": "eX7VHN8p5ptg"
   },
   "outputs": [],
   "source": [
    "dfcategoricas=df.select_dtypes(include=['object'])"
   ]
  },
  {
   "cell_type": "code",
   "execution_count": 23,
   "metadata": {
    "colab": {
     "base_uri": "https://localhost:8080/",
     "height": 1000
    },
    "executionInfo": {
     "elapsed": 21,
     "status": "ok",
     "timestamp": 1670266456750,
     "user": {
      "displayName": "CAMILA BELEN ESCOBAR",
      "userId": "11228358377265717470"
     },
     "user_tz": 180
    },
    "id": "Olz0qDuJ56yn",
    "outputId": "69053644-1f2d-4bb1-e474-f96c1d378847"
   },
   "outputs": [
    {
     "data": {
      "text/html": [
       "<div>\n",
       "<style scoped>\n",
       "    .dataframe tbody tr th:only-of-type {\n",
       "        vertical-align: middle;\n",
       "    }\n",
       "\n",
       "    .dataframe tbody tr th {\n",
       "        vertical-align: top;\n",
       "    }\n",
       "\n",
       "    .dataframe thead th {\n",
       "        text-align: right;\n",
       "    }\n",
       "</style>\n",
       "<table border=\"1\" class=\"dataframe\">\n",
       "  <thead>\n",
       "    <tr style=\"text-align: right;\">\n",
       "      <th>Attrition_Flag</th>\n",
       "      <th>Attrited Customer</th>\n",
       "      <th>Existing Customer</th>\n",
       "    </tr>\n",
       "    <tr>\n",
       "      <th>Gender</th>\n",
       "      <th></th>\n",
       "      <th></th>\n",
       "    </tr>\n",
       "  </thead>\n",
       "  <tbody>\n",
       "    <tr>\n",
       "      <th>F</th>\n",
       "      <td>57.16</td>\n",
       "      <td>52.09</td>\n",
       "    </tr>\n",
       "    <tr>\n",
       "      <th>M</th>\n",
       "      <td>42.84</td>\n",
       "      <td>47.91</td>\n",
       "    </tr>\n",
       "  </tbody>\n",
       "</table>\n",
       "</div>"
      ],
      "text/plain": [
       "Attrition_Flag  Attrited Customer  Existing Customer\n",
       "Gender                                              \n",
       "F                           57.16              52.09\n",
       "M                           42.84              47.91"
      ]
     },
     "metadata": {},
     "output_type": "display_data"
    },
    {
     "name": "stdout",
     "output_type": "stream",
     "text": [
      "Confianza para rechazar HO de variables Independientes: 43.68%\n"
     ]
    },
    {
     "data": {
      "text/html": [
       "<div>\n",
       "<style scoped>\n",
       "    .dataframe tbody tr th:only-of-type {\n",
       "        vertical-align: middle;\n",
       "    }\n",
       "\n",
       "    .dataframe tbody tr th {\n",
       "        vertical-align: top;\n",
       "    }\n",
       "\n",
       "    .dataframe thead th {\n",
       "        text-align: right;\n",
       "    }\n",
       "</style>\n",
       "<table border=\"1\" class=\"dataframe\">\n",
       "  <thead>\n",
       "    <tr style=\"text-align: right;\">\n",
       "      <th>Attrition_Flag</th>\n",
       "      <th>Attrited Customer</th>\n",
       "      <th>Existing Customer</th>\n",
       "    </tr>\n",
       "    <tr>\n",
       "      <th>Education_Level</th>\n",
       "      <th></th>\n",
       "      <th></th>\n",
       "    </tr>\n",
       "  </thead>\n",
       "  <tbody>\n",
       "    <tr>\n",
       "      <th>College</th>\n",
       "      <td>9.47</td>\n",
       "      <td>10.11</td>\n",
       "    </tr>\n",
       "    <tr>\n",
       "      <th>Doctorate</th>\n",
       "      <td>5.84</td>\n",
       "      <td>4.19</td>\n",
       "    </tr>\n",
       "    <tr>\n",
       "      <th>Graduate</th>\n",
       "      <td>29.93</td>\n",
       "      <td>31.07</td>\n",
       "    </tr>\n",
       "    <tr>\n",
       "      <th>High School</th>\n",
       "      <td>18.81</td>\n",
       "      <td>20.08</td>\n",
       "    </tr>\n",
       "    <tr>\n",
       "      <th>Post-Graduate</th>\n",
       "      <td>5.65</td>\n",
       "      <td>4.99</td>\n",
       "    </tr>\n",
       "    <tr>\n",
       "      <th>Uneducated</th>\n",
       "      <td>14.57</td>\n",
       "      <td>14.71</td>\n",
       "    </tr>\n",
       "    <tr>\n",
       "      <th>Unknown</th>\n",
       "      <td>15.73</td>\n",
       "      <td>14.86</td>\n",
       "    </tr>\n",
       "  </tbody>\n",
       "</table>\n",
       "</div>"
      ],
      "text/plain": [
       "Attrition_Flag   Attrited Customer  Existing Customer\n",
       "Education_Level                                      \n",
       "College                       9.47              10.11\n",
       "Doctorate                     5.84               4.19\n",
       "Graduate                     29.93              31.07\n",
       "High School                  18.81              20.08\n",
       "Post-Graduate                 5.65               4.99\n",
       "Uneducated                   14.57              14.71\n",
       "Unknown                      15.73              14.86"
      ]
     },
     "metadata": {},
     "output_type": "display_data"
    },
    {
     "name": "stdout",
     "output_type": "stream",
     "text": [
      "Confianza para rechazar HO de variables Independientes: 0.13%\n"
     ]
    },
    {
     "data": {
      "text/html": [
       "<div>\n",
       "<style scoped>\n",
       "    .dataframe tbody tr th:only-of-type {\n",
       "        vertical-align: middle;\n",
       "    }\n",
       "\n",
       "    .dataframe tbody tr th {\n",
       "        vertical-align: top;\n",
       "    }\n",
       "\n",
       "    .dataframe thead th {\n",
       "        text-align: right;\n",
       "    }\n",
       "</style>\n",
       "<table border=\"1\" class=\"dataframe\">\n",
       "  <thead>\n",
       "    <tr style=\"text-align: right;\">\n",
       "      <th>Attrition_Flag</th>\n",
       "      <th>Attrited Customer</th>\n",
       "      <th>Existing Customer</th>\n",
       "    </tr>\n",
       "    <tr>\n",
       "      <th>Marital_Status</th>\n",
       "      <th></th>\n",
       "      <th></th>\n",
       "    </tr>\n",
       "  </thead>\n",
       "  <tbody>\n",
       "    <tr>\n",
       "      <th>Divorced</th>\n",
       "      <td>7.44</td>\n",
       "      <td>7.38</td>\n",
       "    </tr>\n",
       "    <tr>\n",
       "      <th>Married</th>\n",
       "      <td>43.58</td>\n",
       "      <td>46.80</td>\n",
       "    </tr>\n",
       "    <tr>\n",
       "      <th>Single</th>\n",
       "      <td>41.06</td>\n",
       "      <td>38.53</td>\n",
       "    </tr>\n",
       "    <tr>\n",
       "      <th>Unknown</th>\n",
       "      <td>7.93</td>\n",
       "      <td>7.29</td>\n",
       "    </tr>\n",
       "  </tbody>\n",
       "</table>\n",
       "</div>"
      ],
      "text/plain": [
       "Attrition_Flag  Attrited Customer  Existing Customer\n",
       "Marital_Status                                      \n",
       "Divorced                     7.44               7.38\n",
       "Married                     43.58              46.80\n",
       "Single                      41.06              38.53\n",
       "Unknown                      7.93               7.29"
      ]
     },
     "metadata": {},
     "output_type": "display_data"
    },
    {
     "name": "stdout",
     "output_type": "stream",
     "text": [
      "Confianza para rechazar HO de variables Independientes: 2.61%\n"
     ]
    },
    {
     "data": {
      "text/html": [
       "<div>\n",
       "<style scoped>\n",
       "    .dataframe tbody tr th:only-of-type {\n",
       "        vertical-align: middle;\n",
       "    }\n",
       "\n",
       "    .dataframe tbody tr th {\n",
       "        vertical-align: top;\n",
       "    }\n",
       "\n",
       "    .dataframe thead th {\n",
       "        text-align: right;\n",
       "    }\n",
       "</style>\n",
       "<table border=\"1\" class=\"dataframe\">\n",
       "  <thead>\n",
       "    <tr style=\"text-align: right;\">\n",
       "      <th>Attrition_Flag</th>\n",
       "      <th>Attrited Customer</th>\n",
       "      <th>Existing Customer</th>\n",
       "    </tr>\n",
       "    <tr>\n",
       "      <th>Income_Category</th>\n",
       "      <th></th>\n",
       "      <th></th>\n",
       "    </tr>\n",
       "  </thead>\n",
       "  <tbody>\n",
       "    <tr>\n",
       "      <th>$120K +</th>\n",
       "      <td>7.74</td>\n",
       "      <td>7.07</td>\n",
       "    </tr>\n",
       "    <tr>\n",
       "      <th>$40K - $60K</th>\n",
       "      <td>16.66</td>\n",
       "      <td>17.87</td>\n",
       "    </tr>\n",
       "    <tr>\n",
       "      <th>$60K - $80K</th>\n",
       "      <td>11.62</td>\n",
       "      <td>14.27</td>\n",
       "    </tr>\n",
       "    <tr>\n",
       "      <th>$80K - $120K</th>\n",
       "      <td>14.87</td>\n",
       "      <td>15.21</td>\n",
       "    </tr>\n",
       "    <tr>\n",
       "      <th>Less than $40K</th>\n",
       "      <td>37.62</td>\n",
       "      <td>34.69</td>\n",
       "    </tr>\n",
       "    <tr>\n",
       "      <th>Unknown</th>\n",
       "      <td>11.49</td>\n",
       "      <td>10.88</td>\n",
       "    </tr>\n",
       "  </tbody>\n",
       "</table>\n",
       "</div>"
      ],
      "text/plain": [
       "Attrition_Flag   Attrited Customer  Existing Customer\n",
       "Income_Category                                      \n",
       "$120K +                       7.74               7.07\n",
       "$40K - $60K                  16.66              17.87\n",
       "$60K - $80K                  11.62              14.27\n",
       "$80K - $120K                 14.87              15.21\n",
       "Less than $40K               37.62              34.69\n",
       "Unknown                      11.49              10.88"
      ]
     },
     "metadata": {},
     "output_type": "display_data"
    },
    {
     "name": "stdout",
     "output_type": "stream",
     "text": [
      "Confianza para rechazar HO de variables Independientes: 0.73%\n"
     ]
    },
    {
     "data": {
      "text/html": [
       "<div>\n",
       "<style scoped>\n",
       "    .dataframe tbody tr th:only-of-type {\n",
       "        vertical-align: middle;\n",
       "    }\n",
       "\n",
       "    .dataframe tbody tr th {\n",
       "        vertical-align: top;\n",
       "    }\n",
       "\n",
       "    .dataframe thead th {\n",
       "        text-align: right;\n",
       "    }\n",
       "</style>\n",
       "<table border=\"1\" class=\"dataframe\">\n",
       "  <thead>\n",
       "    <tr style=\"text-align: right;\">\n",
       "      <th>Attrition_Flag</th>\n",
       "      <th>Attrited Customer</th>\n",
       "      <th>Existing Customer</th>\n",
       "    </tr>\n",
       "    <tr>\n",
       "      <th>Card_Category</th>\n",
       "      <th></th>\n",
       "      <th></th>\n",
       "    </tr>\n",
       "  </thead>\n",
       "  <tbody>\n",
       "    <tr>\n",
       "      <th>Blue</th>\n",
       "      <td>93.36</td>\n",
       "      <td>93.14</td>\n",
       "    </tr>\n",
       "    <tr>\n",
       "      <th>Gold</th>\n",
       "      <td>1.29</td>\n",
       "      <td>1.12</td>\n",
       "    </tr>\n",
       "    <tr>\n",
       "      <th>Platinum</th>\n",
       "      <td>0.31</td>\n",
       "      <td>0.18</td>\n",
       "    </tr>\n",
       "    <tr>\n",
       "      <th>Silver</th>\n",
       "      <td>5.04</td>\n",
       "      <td>5.56</td>\n",
       "    </tr>\n",
       "  </tbody>\n",
       "</table>\n",
       "</div>"
      ],
      "text/plain": [
       "Attrition_Flag  Attrited Customer  Existing Customer\n",
       "Card_Category                                       \n",
       "Blue                        93.36              93.14\n",
       "Gold                         1.29               1.12\n",
       "Platinum                     0.31               0.18\n",
       "Silver                       5.04               5.56"
      ]
     },
     "metadata": {},
     "output_type": "display_data"
    },
    {
     "name": "stdout",
     "output_type": "stream",
     "text": [
      "Confianza para rechazar HO de variables Independientes: 0.51%\n"
     ]
    }
   ],
   "source": [
    "for col in [c for c in dfcategoricas.columns if c not in ['Attrition_Flag']]:\n",
    "  crosstab=pd.crosstab(dfcategoricas['Attrition_Flag'],dfcategoricas[col],normalize='index',margins = False).round(4)*100\n",
    "  display(crosstab.T)\n",
    "  stat,p_value,dof,expected=st.chi2_contingency(crosstab);\n",
    "  print('Confianza para rechazar HO de variables Independientes: {}%'.format(((1-p_value)*100).round(2)))\n"
   ]
  },
  {
   "cell_type": "markdown",
   "metadata": {
    "id": "iJwAkWz1sJHX"
   },
   "source": [
    "*Conclusion:* No podemos rechazar H0 de que son indenpendientes, pero si las quitamos el accuaracy cae solo 4 puntos y el modelo se llama con muchas menos variables."
   ]
  },
  {
   "cell_type": "code",
   "execution_count": 24,
   "metadata": {},
   "outputs": [],
   "source": [
    "df.drop(df.loc[:,['Gender', 'Education_Level','Marital_Status','Income_Category','Card_Category']], axis=1, inplace=True)"
   ]
  },
  {
   "cell_type": "code",
   "execution_count": 25,
   "metadata": {},
   "outputs": [
    {
     "data": {
      "text/plain": [
       "(10127, 7)"
      ]
     },
     "execution_count": 25,
     "metadata": {},
     "output_type": "execute_result"
    }
   ],
   "source": [
    "df.shape"
   ]
  },
  {
   "cell_type": "markdown",
   "metadata": {
    "id": "3z3Dnk_qfknU"
   },
   "source": [
    "#*Generamos las variables dummy:*"
   ]
  },
  {
   "cell_type": "code",
   "execution_count": 26,
   "metadata": {
    "colab": {
     "base_uri": "https://localhost:8080/",
     "height": 317
    },
    "executionInfo": {
     "elapsed": 20,
     "status": "ok",
     "timestamp": 1670266456750,
     "user": {
      "displayName": "CAMILA BELEN ESCOBAR",
      "userId": "11228358377265717470"
     },
     "user_tz": 180
    },
    "id": "IniODftHjuIy",
    "outputId": "33848c08-3166-4e6c-9dd4-3afe359ff3c5",
    "scrolled": true
   },
   "outputs": [
    {
     "data": {
      "text/html": [
       "<div>\n",
       "<style scoped>\n",
       "    .dataframe tbody tr th:only-of-type {\n",
       "        vertical-align: middle;\n",
       "    }\n",
       "\n",
       "    .dataframe tbody tr th {\n",
       "        vertical-align: top;\n",
       "    }\n",
       "\n",
       "    .dataframe thead th {\n",
       "        text-align: right;\n",
       "    }\n",
       "</style>\n",
       "<table border=\"1\" class=\"dataframe\">\n",
       "  <thead>\n",
       "    <tr style=\"text-align: right;\">\n",
       "      <th></th>\n",
       "      <th>Dependent_count</th>\n",
       "      <th>Months_Inactive_12_mon</th>\n",
       "      <th>Contacts_Count_12_mon</th>\n",
       "      <th>Total_Trans_Amt</th>\n",
       "      <th>Total_Ct_Chng_Q4_Q1</th>\n",
       "      <th>Avg_Utilization_Ratio</th>\n",
       "      <th>Attrition_Flag_Existing Customer</th>\n",
       "    </tr>\n",
       "  </thead>\n",
       "  <tbody>\n",
       "    <tr>\n",
       "      <th>0</th>\n",
       "      <td>3</td>\n",
       "      <td>1</td>\n",
       "      <td>3</td>\n",
       "      <td>1144</td>\n",
       "      <td>1.625</td>\n",
       "      <td>0.061</td>\n",
       "      <td>True</td>\n",
       "    </tr>\n",
       "    <tr>\n",
       "      <th>1</th>\n",
       "      <td>5</td>\n",
       "      <td>1</td>\n",
       "      <td>2</td>\n",
       "      <td>1291</td>\n",
       "      <td>3.714</td>\n",
       "      <td>0.105</td>\n",
       "      <td>True</td>\n",
       "    </tr>\n",
       "    <tr>\n",
       "      <th>2</th>\n",
       "      <td>3</td>\n",
       "      <td>1</td>\n",
       "      <td>0</td>\n",
       "      <td>1887</td>\n",
       "      <td>2.333</td>\n",
       "      <td>0.000</td>\n",
       "      <td>True</td>\n",
       "    </tr>\n",
       "    <tr>\n",
       "      <th>3</th>\n",
       "      <td>4</td>\n",
       "      <td>4</td>\n",
       "      <td>1</td>\n",
       "      <td>1171</td>\n",
       "      <td>2.333</td>\n",
       "      <td>0.760</td>\n",
       "      <td>True</td>\n",
       "    </tr>\n",
       "    <tr>\n",
       "      <th>4</th>\n",
       "      <td>3</td>\n",
       "      <td>1</td>\n",
       "      <td>0</td>\n",
       "      <td>816</td>\n",
       "      <td>2.500</td>\n",
       "      <td>0.000</td>\n",
       "      <td>True</td>\n",
       "    </tr>\n",
       "  </tbody>\n",
       "</table>\n",
       "</div>"
      ],
      "text/plain": [
       "   Dependent_count  Months_Inactive_12_mon  Contacts_Count_12_mon  \\\n",
       "0                3                       1                      3   \n",
       "1                5                       1                      2   \n",
       "2                3                       1                      0   \n",
       "3                4                       4                      1   \n",
       "4                3                       1                      0   \n",
       "\n",
       "   Total_Trans_Amt  Total_Ct_Chng_Q4_Q1  Avg_Utilization_Ratio  \\\n",
       "0             1144                1.625                  0.061   \n",
       "1             1291                3.714                  0.105   \n",
       "2             1887                2.333                  0.000   \n",
       "3             1171                2.333                  0.760   \n",
       "4              816                2.500                  0.000   \n",
       "\n",
       "   Attrition_Flag_Existing Customer  \n",
       "0                              True  \n",
       "1                              True  \n",
       "2                              True  \n",
       "3                              True  \n",
       "4                              True  "
      ]
     },
     "execution_count": 26,
     "metadata": {},
     "output_type": "execute_result"
    }
   ],
   "source": [
    "data = pd.get_dummies(df, drop_first=True)\n",
    "data.head()"
   ]
  },
  {
   "cell_type": "code",
   "execution_count": 27,
   "metadata": {
    "executionInfo": {
     "elapsed": 19,
     "status": "ok",
     "timestamp": 1670266456750,
     "user": {
      "displayName": "CAMILA BELEN ESCOBAR",
      "userId": "11228358377265717470"
     },
     "user_tz": 180
    },
    "id": "CE6yXGHqkBx1"
   },
   "outputs": [],
   "source": [
    "#Invertimos los Flags 0 por 1 para Attrition_Flag_Existing Customer para cambiarlo a  Attrition_Flag_Attrited_Customer\n",
    "\n",
    "data.loc[data['Attrition_Flag_Existing Customer']==1,'Attrition_Flag_Existing Customer']=2\n",
    "data.loc[data['Attrition_Flag_Existing Customer']==0,'Attrition_Flag_Existing Customer']=1\n",
    "data.loc[data['Attrition_Flag_Existing Customer']==2,'Attrition_Flag_Existing Customer']=0"
   ]
  },
  {
   "cell_type": "code",
   "execution_count": 28,
   "metadata": {
    "executionInfo": {
     "elapsed": 18,
     "status": "ok",
     "timestamp": 1670266456750,
     "user": {
      "displayName": "CAMILA BELEN ESCOBAR",
      "userId": "11228358377265717470"
     },
     "user_tz": 180
    },
    "id": "xBQ2orbLltWI"
   },
   "outputs": [],
   "source": [
    "data.rename(columns={'Attrition_Flag_Existing Customer':'Attrition_Flag_Attrited_Customer'},inplace=True)"
   ]
  },
  {
   "cell_type": "code",
   "execution_count": 29,
   "metadata": {},
   "outputs": [],
   "source": [
    "#### Encoder de los datos target"
   ]
  },
  {
   "cell_type": "code",
   "execution_count": 30,
   "metadata": {},
   "outputs": [],
   "source": [
    "#def fit_encoder(target_list: list) -> LabelEncoder:\n",
    "#    \"\"\"\n",
    "#        Fit a scikit-learn LabelEncoder based on target_list.\n",
    "#    \"\"\"    \n",
    "#    encoder = LabelEncoder()\n",
    "#    print('Fitting a LabelEncoder with given target')\n",
    "#    encoder.fit(target_list)\n",
    "    \n",
    "#    print('Found classes', encoder.classes_)\n",
    "#    print('Testing encoder', encoder.transform(encoder.classes_))\n",
    "#    \n",
    "#    file_name = 'encoder.pkl'\n",
    "#    with open(os.path.join(FOLDER, file_name), 'wb') as f:\n",
    "#        pickle.dump(encoder, f)\n",
    "\n",
    "    # TODO Part 2        \n",
    "    # au.upload_to_s3(BUCKET_NAME, FOLDER, file_name)        \n",
    "    \n",
    "#    print('Encoder saved')\n",
    "#    return encoder"
   ]
  },
  {
   "cell_type": "code",
   "execution_count": 31,
   "metadata": {},
   "outputs": [],
   "source": [
    "# All the target column\n",
    "#target_list = df['Attrition_Flag'].tolist()\n",
    "#encoder = fit_encoder(target_list)"
   ]
  },
  {
   "cell_type": "code",
   "execution_count": 32,
   "metadata": {},
   "outputs": [],
   "source": [
    "#def encode_and_one_hot_target(target_list: list, encoder: LabelEncoder) -> np.ndarray:\n",
    "#    print('Encoding target with given encoder')\n",
    "#    targets_encoded = encoder.transform(target_list)\n",
    "\n",
    "#    print('Convert encoded classes integers to dummy variables')\n",
    "#    targets_one_hot = to_categorical(targets_encoded)\n",
    "    \n",
    "#    print('Target final shape', targets_one_hot.shape)\n",
    "#    return targets_one_hot"
   ]
  },
  {
   "cell_type": "code",
   "execution_count": 33,
   "metadata": {},
   "outputs": [],
   "source": [
    "#y = encode_and_one_hot_target(target_list, encoder)"
   ]
  },
  {
   "cell_type": "markdown",
   "metadata": {
    "id": "bq6pKjpcpFOS"
   },
   "source": [
    "## **Modelos de Machine Learning**\n"
   ]
  },
  {
   "cell_type": "code",
   "execution_count": 34,
   "metadata": {},
   "outputs": [
    {
     "name": "stdout",
     "output_type": "stream",
     "text": [
      "<class 'pandas.core.frame.DataFrame'>\n",
      "RangeIndex: 10127 entries, 0 to 10126\n",
      "Data columns (total 7 columns):\n",
      " #   Column                            Non-Null Count  Dtype  \n",
      "---  ------                            --------------  -----  \n",
      " 0   Dependent_count                   10127 non-null  int64  \n",
      " 1   Months_Inactive_12_mon            10127 non-null  int64  \n",
      " 2   Contacts_Count_12_mon             10127 non-null  int64  \n",
      " 3   Total_Trans_Amt                   10127 non-null  int64  \n",
      " 4   Total_Ct_Chng_Q4_Q1               10127 non-null  float64\n",
      " 5   Avg_Utilization_Ratio             10127 non-null  float64\n",
      " 6   Attrition_Flag_Attrited_Customer  10127 non-null  object \n",
      "dtypes: float64(2), int64(4), object(1)\n",
      "memory usage: 553.9+ KB\n"
     ]
    }
   ],
   "source": [
    "##\n",
    "data.info()"
   ]
  },
  {
   "cell_type": "code",
   "execution_count": 35,
   "metadata": {
    "executionInfo": {
     "elapsed": 19,
     "status": "ok",
     "timestamp": 1670266456751,
     "user": {
      "displayName": "CAMILA BELEN ESCOBAR",
      "userId": "11228358377265717470"
     },
     "user_tz": 180
    },
    "id": "1I9eltyxpNT-",
    "scrolled": true
   },
   "outputs": [],
   "source": [
    "#X = df.drop([\"Attrition_Flag\"], axis = 1)\n",
    "\n",
    "\n",
    "\n",
    "y = data['Attrition_Flag_Attrited_Customer']\n",
    "X = data.drop(['Attrition_Flag_Attrited_Customer'], axis = 1)"
   ]
  },
  {
   "cell_type": "code",
   "execution_count": 36,
   "metadata": {
    "colab": {
     "base_uri": "https://localhost:8080/"
    },
    "executionInfo": {
     "elapsed": 19,
     "status": "ok",
     "timestamp": 1670266456751,
     "user": {
      "displayName": "CAMILA BELEN ESCOBAR",
      "userId": "11228358377265717470"
     },
     "user_tz": 180
    },
    "id": "TG9hG66jGo5v",
    "outputId": "f142d2bd-408d-438d-c5d6-7afb66c4296f",
    "scrolled": true
   },
   "outputs": [
    {
     "data": {
      "text/plain": [
       "Attrition_Flag_Attrited_Customer\n",
       "0    0.83934\n",
       "1    0.16066\n",
       "Name: proportion, dtype: float64"
      ]
     },
     "execution_count": 36,
     "metadata": {},
     "output_type": "execute_result"
    }
   ],
   "source": [
    "#df['Attrition_Flag'].value_counts(normalize=True)\n",
    "data['Attrition_Flag_Attrited_Customer'].value_counts(normalize=True)"
   ]
  },
  {
   "cell_type": "markdown",
   "metadata": {
    "id": "OQko_Bwgafm4"
   },
   "source": [
    "*Division del Dataset en Train y Test:*"
   ]
  },
  {
   "cell_type": "markdown",
   "metadata": {
    "id": "K8KMkhhvHtJ6"
   },
   "source": [
    "Como las clases están muy desbalanceadas lo tenemos en cuenta en el split, con el stratify. Tambien al evaluar el modelo utilizando F1score en lugar de accuracy"
   ]
  },
  {
   "cell_type": "code",
   "execution_count": 37,
   "metadata": {
    "executionInfo": {
     "elapsed": 18,
     "status": "ok",
     "timestamp": 1670266456751,
     "user": {
      "displayName": "CAMILA BELEN ESCOBAR",
      "userId": "11228358377265717470"
     },
     "user_tz": 180
    },
    "id": "OnecBzCCpKHy"
   },
   "outputs": [],
   "source": [
    "X_train, X_test, y_train, y_test = train_test_split(X, y, stratify=y, random_state=14)"
   ]
  },
  {
   "cell_type": "markdown",
   "metadata": {
    "id": "GPpV6RTXxEop"
   },
   "source": [
    "**Normalización de los datos**"
   ]
  },
  {
   "cell_type": "code",
   "execution_count": 38,
   "metadata": {},
   "outputs": [],
   "source": [
    "def fit_normalizer(input_data: pd.DataFrame) -> StandardScaler:\n",
    "    \"\"\"\n",
    "        Fit a scikit-learn Normalizer based on input_data.\n",
    "    \"\"\"    \n",
    "    scaler = StandardScaler()\n",
    "    print('Fitting a Normalizer with given input')    \n",
    "    scaler.fit(input_data)\n",
    "    \n",
    "    file_name = 'normalizer.pkl'\n",
    "    with open(os.path.join(FOLDER, file_name), 'wb') as f:\n",
    "        pickle.dump(scaler, f)\n",
    "    \n",
    "    # TODO Part 2\n",
    "    # au.upload_to_s3(BUCKET_NAME, FOLDER, file_name)        \n",
    "    \n",
    "    print('Normalizer saved')\n",
    "    return scaler"
   ]
  },
  {
   "cell_type": "code",
   "execution_count": 39,
   "metadata": {
    "scrolled": true
   },
   "outputs": [
    {
     "name": "stdout",
     "output_type": "stream",
     "text": [
      "Fitting a Normalizer with given input\n",
      "Normalizer saved\n"
     ]
    }
   ],
   "source": [
    "#El normalizer se debe fitear con el set de entrenamiento unicamente\n",
    "\n",
    "stds = fit_normalizer(X_train)"
   ]
  },
  {
   "cell_type": "code",
   "execution_count": 40,
   "metadata": {
    "executionInfo": {
     "elapsed": 18,
     "status": "ok",
     "timestamp": 1670266456751,
     "user": {
      "displayName": "CAMILA BELEN ESCOBAR",
      "userId": "11228358377265717470"
     },
     "user_tz": 180
    },
    "id": "nd-fapn4pezd"
   },
   "outputs": [],
   "source": [
    "X_train = pd.DataFrame(stds.transform(X_train), columns=X.columns)\n",
    "X_test = pd.DataFrame(stds.transform(X_test), columns=X.columns)\n"
   ]
  },
  {
   "cell_type": "code",
   "execution_count": 41,
   "metadata": {},
   "outputs": [
    {
     "data": {
      "text/plain": [
       "(7595, 6)"
      ]
     },
     "execution_count": 41,
     "metadata": {},
     "output_type": "execute_result"
    }
   ],
   "source": [
    "X_train.shape"
   ]
  },
  {
   "cell_type": "code",
   "execution_count": 42,
   "metadata": {},
   "outputs": [
    {
     "data": {
      "text/plain": [
       "(2532, 6)"
      ]
     },
     "execution_count": 42,
     "metadata": {},
     "output_type": "execute_result"
    }
   ],
   "source": [
    "X_test.shape"
   ]
  },
  {
   "cell_type": "code",
   "execution_count": 43,
   "metadata": {},
   "outputs": [
    {
     "data": {
      "text/plain": [
       "(7595,)"
      ]
     },
     "execution_count": 43,
     "metadata": {},
     "output_type": "execute_result"
    }
   ],
   "source": [
    "y_train.shape"
   ]
  },
  {
   "cell_type": "code",
   "execution_count": 44,
   "metadata": {},
   "outputs": [
    {
     "data": {
      "text/plain": [
       "(2532,)"
      ]
     },
     "execution_count": 44,
     "metadata": {},
     "output_type": "execute_result"
    }
   ],
   "source": [
    "y_test.shape"
   ]
  },
  {
   "cell_type": "code",
   "execution_count": 45,
   "metadata": {
    "scrolled": false
   },
   "outputs": [
    {
     "name": "stdout",
     "output_type": "stream",
     "text": [
      "<class 'pandas.core.frame.DataFrame'>\n",
      "RangeIndex: 7595 entries, 0 to 7594\n",
      "Data columns (total 6 columns):\n",
      " #   Column                  Non-Null Count  Dtype  \n",
      "---  ------                  --------------  -----  \n",
      " 0   Dependent_count         7595 non-null   float64\n",
      " 1   Months_Inactive_12_mon  7595 non-null   float64\n",
      " 2   Contacts_Count_12_mon   7595 non-null   float64\n",
      " 3   Total_Trans_Amt         7595 non-null   float64\n",
      " 4   Total_Ct_Chng_Q4_Q1     7595 non-null   float64\n",
      " 5   Avg_Utilization_Ratio   7595 non-null   float64\n",
      "dtypes: float64(6)\n",
      "memory usage: 356.1 KB\n"
     ]
    }
   ],
   "source": [
    "X_train.info()"
   ]
  },
  {
   "cell_type": "markdown",
   "metadata": {
    "id": "G_zE0WGx3y9r"
   },
   "source": [
    "**CatBoost**"
   ]
  },
  {
   "cell_type": "code",
   "execution_count": 46,
   "metadata": {},
   "outputs": [],
   "source": [
    "def fit_CatBoost(X_train: np.ndarray, y_train: np.ndarray) -> CatBoostClassifier:\n",
    "    \"\"\"\n",
    "        Fits a CatBoost model, saves the model weights and returns it.\n",
    "    \"\"\"\n",
    "    # Instantiate the model learning model \n",
    "    model_cat = CatBoostClassifier()\n",
    "    \n",
    "    # Fitting the model\n",
    "    print('Fitting model')\n",
    "    model=model_cat.fit(X_train, y_train)\n",
    "    \n",
    "    file_name = 'model.pkl'\n",
    "    with open(os.path.join(FOLDER, file_name), 'wb') as f:\n",
    "        pickle.dump(model, f)\n",
    "      \n",
    "    # TODO Part 2    \n",
    "    # au.upload_to_s3(BUCKET_NAME, FOLDER, file_name)        \n",
    "\n",
    "    print('Model saved')\n",
    "    return model"
   ]
  },
  {
   "cell_type": "code",
   "execution_count": 47,
   "metadata": {},
   "outputs": [
    {
     "name": "stdout",
     "output_type": "stream",
     "text": [
      "Fitting model\n",
      "Learning rate set to 0.024486\n",
      "0:\tlearn: 0.6603911\ttotal: 148ms\tremaining: 2m 28s\n",
      "1:\tlearn: 0.6348358\ttotal: 159ms\tremaining: 1m 19s\n",
      "2:\tlearn: 0.6085342\ttotal: 169ms\tremaining: 56s\n",
      "3:\tlearn: 0.5906976\ttotal: 180ms\tremaining: 44.7s\n",
      "4:\tlearn: 0.5708692\ttotal: 192ms\tremaining: 38.3s\n",
      "5:\tlearn: 0.5516037\ttotal: 199ms\tremaining: 33s\n",
      "6:\tlearn: 0.5342224\ttotal: 216ms\tremaining: 30.7s\n",
      "7:\tlearn: 0.5175904\ttotal: 227ms\tremaining: 28.2s\n",
      "8:\tlearn: 0.5012748\ttotal: 239ms\tremaining: 26.3s\n",
      "9:\tlearn: 0.4861909\ttotal: 248ms\tremaining: 24.6s\n",
      "10:\tlearn: 0.4725207\ttotal: 260ms\tremaining: 23.4s\n",
      "11:\tlearn: 0.4633921\ttotal: 271ms\tremaining: 22.3s\n",
      "12:\tlearn: 0.4507605\ttotal: 279ms\tremaining: 21.2s\n",
      "13:\tlearn: 0.4350548\ttotal: 292ms\tremaining: 20.6s\n",
      "14:\tlearn: 0.4238282\ttotal: 304ms\tremaining: 19.9s\n",
      "15:\tlearn: 0.4138263\ttotal: 314ms\tremaining: 19.3s\n",
      "16:\tlearn: 0.4025661\ttotal: 327ms\tremaining: 18.9s\n",
      "17:\tlearn: 0.3951659\ttotal: 340ms\tremaining: 18.6s\n",
      "18:\tlearn: 0.3874344\ttotal: 355ms\tremaining: 18.3s\n",
      "19:\tlearn: 0.3793446\ttotal: 366ms\tremaining: 18s\n",
      "20:\tlearn: 0.3739463\ttotal: 377ms\tremaining: 17.6s\n",
      "21:\tlearn: 0.3659405\ttotal: 400ms\tremaining: 17.8s\n",
      "22:\tlearn: 0.3585331\ttotal: 409ms\tremaining: 17.4s\n",
      "23:\tlearn: 0.3528318\ttotal: 420ms\tremaining: 17.1s\n",
      "24:\tlearn: 0.3474906\ttotal: 431ms\tremaining: 16.8s\n",
      "25:\tlearn: 0.3424569\ttotal: 440ms\tremaining: 16.5s\n",
      "26:\tlearn: 0.3369693\ttotal: 453ms\tremaining: 16.3s\n",
      "27:\tlearn: 0.3330175\ttotal: 465ms\tremaining: 16.1s\n",
      "28:\tlearn: 0.3265639\ttotal: 473ms\tremaining: 15.8s\n",
      "29:\tlearn: 0.3216635\ttotal: 485ms\tremaining: 15.7s\n",
      "30:\tlearn: 0.3178954\ttotal: 497ms\tremaining: 15.5s\n",
      "31:\tlearn: 0.3145601\ttotal: 506ms\tremaining: 15.3s\n",
      "32:\tlearn: 0.3090415\ttotal: 518ms\tremaining: 15.2s\n",
      "33:\tlearn: 0.3050249\ttotal: 531ms\tremaining: 15.1s\n",
      "34:\tlearn: 0.3008479\ttotal: 544ms\tremaining: 15s\n",
      "35:\tlearn: 0.2978507\ttotal: 560ms\tremaining: 15s\n",
      "36:\tlearn: 0.2933731\ttotal: 579ms\tremaining: 15.1s\n",
      "37:\tlearn: 0.2908199\ttotal: 589ms\tremaining: 14.9s\n",
      "38:\tlearn: 0.2880912\ttotal: 599ms\tremaining: 14.8s\n",
      "39:\tlearn: 0.2860905\ttotal: 613ms\tremaining: 14.7s\n",
      "40:\tlearn: 0.2830858\ttotal: 625ms\tremaining: 14.6s\n",
      "41:\tlearn: 0.2792799\ttotal: 634ms\tremaining: 14.5s\n",
      "42:\tlearn: 0.2772105\ttotal: 643ms\tremaining: 14.3s\n",
      "43:\tlearn: 0.2747388\ttotal: 652ms\tremaining: 14.2s\n",
      "44:\tlearn: 0.2719703\ttotal: 661ms\tremaining: 14s\n",
      "45:\tlearn: 0.2705931\ttotal: 669ms\tremaining: 13.9s\n",
      "46:\tlearn: 0.2692818\ttotal: 678ms\tremaining: 13.7s\n",
      "47:\tlearn: 0.2670100\ttotal: 687ms\tremaining: 13.6s\n",
      "48:\tlearn: 0.2651855\ttotal: 695ms\tremaining: 13.5s\n",
      "49:\tlearn: 0.2629366\ttotal: 702ms\tremaining: 13.3s\n",
      "50:\tlearn: 0.2614404\ttotal: 710ms\tremaining: 13.2s\n",
      "51:\tlearn: 0.2597818\ttotal: 718ms\tremaining: 13.1s\n",
      "52:\tlearn: 0.2584109\ttotal: 725ms\tremaining: 13s\n",
      "53:\tlearn: 0.2568361\ttotal: 733ms\tremaining: 12.8s\n",
      "54:\tlearn: 0.2546477\ttotal: 742ms\tremaining: 12.7s\n",
      "55:\tlearn: 0.2516479\ttotal: 749ms\tremaining: 12.6s\n",
      "56:\tlearn: 0.2506006\ttotal: 757ms\tremaining: 12.5s\n",
      "57:\tlearn: 0.2492847\ttotal: 766ms\tremaining: 12.4s\n",
      "58:\tlearn: 0.2483370\ttotal: 776ms\tremaining: 12.4s\n",
      "59:\tlearn: 0.2468526\ttotal: 785ms\tremaining: 12.3s\n",
      "60:\tlearn: 0.2458382\ttotal: 794ms\tremaining: 12.2s\n",
      "61:\tlearn: 0.2439744\ttotal: 803ms\tremaining: 12.2s\n",
      "62:\tlearn: 0.2426394\ttotal: 812ms\tremaining: 12.1s\n",
      "63:\tlearn: 0.2406661\ttotal: 822ms\tremaining: 12s\n",
      "64:\tlearn: 0.2390565\ttotal: 829ms\tremaining: 11.9s\n",
      "65:\tlearn: 0.2379538\ttotal: 838ms\tremaining: 11.9s\n",
      "66:\tlearn: 0.2370737\ttotal: 846ms\tremaining: 11.8s\n",
      "67:\tlearn: 0.2355547\ttotal: 855ms\tremaining: 11.7s\n",
      "68:\tlearn: 0.2341054\ttotal: 862ms\tremaining: 11.6s\n",
      "69:\tlearn: 0.2326206\ttotal: 871ms\tremaining: 11.6s\n",
      "70:\tlearn: 0.2312926\ttotal: 879ms\tremaining: 11.5s\n",
      "71:\tlearn: 0.2301082\ttotal: 888ms\tremaining: 11.4s\n",
      "72:\tlearn: 0.2295496\ttotal: 895ms\tremaining: 11.4s\n",
      "73:\tlearn: 0.2283371\ttotal: 902ms\tremaining: 11.3s\n",
      "74:\tlearn: 0.2277414\ttotal: 909ms\tremaining: 11.2s\n",
      "75:\tlearn: 0.2269971\ttotal: 917ms\tremaining: 11.2s\n",
      "76:\tlearn: 0.2259239\ttotal: 925ms\tremaining: 11.1s\n",
      "77:\tlearn: 0.2253518\ttotal: 934ms\tremaining: 11s\n",
      "78:\tlearn: 0.2244930\ttotal: 945ms\tremaining: 11s\n",
      "79:\tlearn: 0.2236198\ttotal: 958ms\tremaining: 11s\n",
      "80:\tlearn: 0.2225374\ttotal: 968ms\tremaining: 11s\n",
      "81:\tlearn: 0.2218727\ttotal: 982ms\tremaining: 11s\n",
      "82:\tlearn: 0.2210098\ttotal: 1s\tremaining: 11.1s\n",
      "83:\tlearn: 0.2202887\ttotal: 1.01s\tremaining: 11.1s\n",
      "84:\tlearn: 0.2195976\ttotal: 1.02s\tremaining: 11s\n",
      "85:\tlearn: 0.2190545\ttotal: 1.04s\tremaining: 11s\n",
      "86:\tlearn: 0.2181993\ttotal: 1.05s\tremaining: 11s\n",
      "87:\tlearn: 0.2176247\ttotal: 1.06s\tremaining: 11s\n",
      "88:\tlearn: 0.2169207\ttotal: 1.08s\tremaining: 11s\n",
      "89:\tlearn: 0.2161692\ttotal: 1.09s\tremaining: 11.1s\n",
      "90:\tlearn: 0.2157658\ttotal: 1.1s\tremaining: 11s\n",
      "91:\tlearn: 0.2152898\ttotal: 1.12s\tremaining: 11s\n",
      "92:\tlearn: 0.2147566\ttotal: 1.13s\tremaining: 11s\n",
      "93:\tlearn: 0.2140033\ttotal: 1.14s\tremaining: 11s\n",
      "94:\tlearn: 0.2132772\ttotal: 1.15s\tremaining: 11s\n",
      "95:\tlearn: 0.2125578\ttotal: 1.17s\tremaining: 11s\n",
      "96:\tlearn: 0.2121767\ttotal: 1.18s\tremaining: 11s\n",
      "97:\tlearn: 0.2117395\ttotal: 1.19s\tremaining: 11s\n",
      "98:\tlearn: 0.2113449\ttotal: 1.21s\tremaining: 11s\n",
      "99:\tlearn: 0.2108873\ttotal: 1.22s\tremaining: 11s\n",
      "100:\tlearn: 0.2105806\ttotal: 1.23s\tremaining: 10.9s\n",
      "101:\tlearn: 0.2101609\ttotal: 1.24s\tremaining: 10.9s\n",
      "102:\tlearn: 0.2096882\ttotal: 1.25s\tremaining: 10.9s\n",
      "103:\tlearn: 0.2093664\ttotal: 1.26s\tremaining: 10.9s\n",
      "104:\tlearn: 0.2086081\ttotal: 1.27s\tremaining: 10.9s\n",
      "105:\tlearn: 0.2081212\ttotal: 1.29s\tremaining: 10.9s\n",
      "106:\tlearn: 0.2077432\ttotal: 1.29s\tremaining: 10.8s\n",
      "107:\tlearn: 0.2072354\ttotal: 1.31s\tremaining: 10.8s\n",
      "108:\tlearn: 0.2067081\ttotal: 1.32s\tremaining: 10.8s\n",
      "109:\tlearn: 0.2063747\ttotal: 1.33s\tremaining: 10.8s\n",
      "110:\tlearn: 0.2058653\ttotal: 1.34s\tremaining: 10.8s\n",
      "111:\tlearn: 0.2055043\ttotal: 1.36s\tremaining: 10.8s\n",
      "112:\tlearn: 0.2049582\ttotal: 1.37s\tremaining: 10.7s\n",
      "113:\tlearn: 0.2045702\ttotal: 1.37s\tremaining: 10.7s\n",
      "114:\tlearn: 0.2041335\ttotal: 1.38s\tremaining: 10.7s\n",
      "115:\tlearn: 0.2037359\ttotal: 1.39s\tremaining: 10.6s\n",
      "116:\tlearn: 0.2034173\ttotal: 1.4s\tremaining: 10.6s\n",
      "117:\tlearn: 0.2031391\ttotal: 1.42s\tremaining: 10.6s\n",
      "118:\tlearn: 0.2026225\ttotal: 1.43s\tremaining: 10.6s\n",
      "119:\tlearn: 0.2021011\ttotal: 1.44s\tremaining: 10.6s\n",
      "120:\tlearn: 0.2016237\ttotal: 1.45s\tremaining: 10.5s\n",
      "121:\tlearn: 0.2012455\ttotal: 1.46s\tremaining: 10.5s\n",
      "122:\tlearn: 0.2006183\ttotal: 1.47s\tremaining: 10.5s\n",
      "123:\tlearn: 0.2003101\ttotal: 1.48s\tremaining: 10.5s\n",
      "124:\tlearn: 0.1997793\ttotal: 1.49s\tremaining: 10.4s\n",
      "125:\tlearn: 0.1993409\ttotal: 1.5s\tremaining: 10.4s\n",
      "126:\tlearn: 0.1989949\ttotal: 1.5s\tremaining: 10.4s\n",
      "127:\tlearn: 0.1986506\ttotal: 1.51s\tremaining: 10.3s\n",
      "128:\tlearn: 0.1982812\ttotal: 1.53s\tremaining: 10.3s\n",
      "129:\tlearn: 0.1979513\ttotal: 1.53s\tremaining: 10.3s\n",
      "130:\tlearn: 0.1974938\ttotal: 1.54s\tremaining: 10.2s\n",
      "131:\tlearn: 0.1972093\ttotal: 1.55s\tremaining: 10.2s\n",
      "132:\tlearn: 0.1967843\ttotal: 1.56s\tremaining: 10.2s\n",
      "133:\tlearn: 0.1964432\ttotal: 1.57s\tremaining: 10.2s\n",
      "134:\tlearn: 0.1961315\ttotal: 1.58s\tremaining: 10.1s\n",
      "135:\tlearn: 0.1956996\ttotal: 1.59s\tremaining: 10.1s\n",
      "136:\tlearn: 0.1952656\ttotal: 1.6s\tremaining: 10.1s\n",
      "137:\tlearn: 0.1949094\ttotal: 1.61s\tremaining: 10.1s\n",
      "138:\tlearn: 0.1945441\ttotal: 1.62s\tremaining: 10s\n",
      "139:\tlearn: 0.1942166\ttotal: 1.63s\tremaining: 10s\n",
      "140:\tlearn: 0.1939165\ttotal: 1.64s\tremaining: 10s\n",
      "141:\tlearn: 0.1936326\ttotal: 1.65s\tremaining: 9.96s\n",
      "142:\tlearn: 0.1933452\ttotal: 1.66s\tremaining: 9.95s\n",
      "143:\tlearn: 0.1930846\ttotal: 1.67s\tremaining: 9.93s\n",
      "144:\tlearn: 0.1927959\ttotal: 1.68s\tremaining: 9.89s\n",
      "145:\tlearn: 0.1925210\ttotal: 1.69s\tremaining: 9.86s\n",
      "146:\tlearn: 0.1923492\ttotal: 1.69s\tremaining: 9.83s\n",
      "147:\tlearn: 0.1920863\ttotal: 1.7s\tremaining: 9.79s\n",
      "148:\tlearn: 0.1915504\ttotal: 1.71s\tremaining: 9.76s\n",
      "149:\tlearn: 0.1913229\ttotal: 1.72s\tremaining: 9.72s\n",
      "150:\tlearn: 0.1910962\ttotal: 1.72s\tremaining: 9.69s\n",
      "151:\tlearn: 0.1909539\ttotal: 1.73s\tremaining: 9.66s\n",
      "152:\tlearn: 0.1906188\ttotal: 1.74s\tremaining: 9.63s\n",
      "153:\tlearn: 0.1904239\ttotal: 1.75s\tremaining: 9.6s\n",
      "154:\tlearn: 0.1901162\ttotal: 1.76s\tremaining: 9.57s\n",
      "155:\tlearn: 0.1898680\ttotal: 1.76s\tremaining: 9.54s\n",
      "156:\tlearn: 0.1895887\ttotal: 1.77s\tremaining: 9.51s\n",
      "157:\tlearn: 0.1893228\ttotal: 1.78s\tremaining: 9.48s\n",
      "158:\tlearn: 0.1891722\ttotal: 1.78s\tremaining: 9.45s\n",
      "159:\tlearn: 0.1890304\ttotal: 1.79s\tremaining: 9.42s\n",
      "160:\tlearn: 0.1888490\ttotal: 1.8s\tremaining: 9.39s\n",
      "161:\tlearn: 0.1885835\ttotal: 1.81s\tremaining: 9.36s\n",
      "162:\tlearn: 0.1881826\ttotal: 1.82s\tremaining: 9.33s\n",
      "163:\tlearn: 0.1880110\ttotal: 1.82s\tremaining: 9.3s\n",
      "164:\tlearn: 0.1877424\ttotal: 1.83s\tremaining: 9.27s\n"
     ]
    },
    {
     "name": "stdout",
     "output_type": "stream",
     "text": [
      "165:\tlearn: 0.1874887\ttotal: 1.84s\tremaining: 9.24s\n",
      "166:\tlearn: 0.1871765\ttotal: 1.85s\tremaining: 9.22s\n",
      "167:\tlearn: 0.1868194\ttotal: 1.86s\tremaining: 9.21s\n",
      "168:\tlearn: 0.1866137\ttotal: 1.87s\tremaining: 9.18s\n",
      "169:\tlearn: 0.1863963\ttotal: 1.88s\tremaining: 9.16s\n",
      "170:\tlearn: 0.1859865\ttotal: 1.89s\tremaining: 9.14s\n",
      "171:\tlearn: 0.1857501\ttotal: 1.89s\tremaining: 9.12s\n",
      "172:\tlearn: 0.1855095\ttotal: 1.9s\tremaining: 9.09s\n",
      "173:\tlearn: 0.1853515\ttotal: 1.91s\tremaining: 9.07s\n",
      "174:\tlearn: 0.1851333\ttotal: 1.92s\tremaining: 9.04s\n",
      "175:\tlearn: 0.1849094\ttotal: 1.93s\tremaining: 9.03s\n",
      "176:\tlearn: 0.1846470\ttotal: 1.94s\tremaining: 9.01s\n",
      "177:\tlearn: 0.1844216\ttotal: 1.95s\tremaining: 9.01s\n",
      "178:\tlearn: 0.1842039\ttotal: 1.96s\tremaining: 9.01s\n",
      "179:\tlearn: 0.1840055\ttotal: 1.97s\tremaining: 8.98s\n",
      "180:\tlearn: 0.1837832\ttotal: 1.98s\tremaining: 8.97s\n",
      "181:\tlearn: 0.1836052\ttotal: 1.99s\tremaining: 8.96s\n",
      "182:\tlearn: 0.1834533\ttotal: 2s\tremaining: 8.95s\n",
      "183:\tlearn: 0.1832633\ttotal: 2.02s\tremaining: 8.94s\n",
      "184:\tlearn: 0.1830395\ttotal: 2.03s\tremaining: 8.94s\n",
      "185:\tlearn: 0.1828976\ttotal: 2.04s\tremaining: 8.95s\n",
      "186:\tlearn: 0.1826887\ttotal: 2.05s\tremaining: 8.93s\n",
      "187:\tlearn: 0.1823546\ttotal: 2.07s\tremaining: 8.93s\n",
      "188:\tlearn: 0.1821800\ttotal: 2.08s\tremaining: 8.93s\n",
      "189:\tlearn: 0.1820691\ttotal: 2.1s\tremaining: 8.95s\n",
      "190:\tlearn: 0.1818079\ttotal: 2.11s\tremaining: 8.95s\n",
      "191:\tlearn: 0.1816838\ttotal: 2.13s\tremaining: 8.97s\n",
      "192:\tlearn: 0.1814806\ttotal: 2.15s\tremaining: 8.99s\n",
      "193:\tlearn: 0.1811437\ttotal: 2.16s\tremaining: 8.99s\n",
      "194:\tlearn: 0.1808911\ttotal: 2.18s\tremaining: 8.99s\n",
      "195:\tlearn: 0.1807303\ttotal: 2.19s\tremaining: 8.99s\n",
      "196:\tlearn: 0.1805517\ttotal: 2.2s\tremaining: 8.97s\n",
      "197:\tlearn: 0.1803039\ttotal: 2.22s\tremaining: 9.01s\n",
      "198:\tlearn: 0.1801842\ttotal: 2.23s\tremaining: 8.99s\n",
      "199:\tlearn: 0.1799906\ttotal: 2.26s\tremaining: 9.04s\n",
      "200:\tlearn: 0.1798366\ttotal: 2.27s\tremaining: 9.04s\n",
      "201:\tlearn: 0.1797113\ttotal: 2.29s\tremaining: 9.05s\n",
      "202:\tlearn: 0.1796105\ttotal: 2.31s\tremaining: 9.07s\n",
      "203:\tlearn: 0.1794413\ttotal: 2.32s\tremaining: 9.06s\n",
      "204:\tlearn: 0.1792949\ttotal: 2.33s\tremaining: 9.05s\n",
      "205:\tlearn: 0.1790802\ttotal: 2.35s\tremaining: 9.05s\n",
      "206:\tlearn: 0.1787810\ttotal: 2.36s\tremaining: 9.05s\n",
      "207:\tlearn: 0.1786424\ttotal: 2.37s\tremaining: 9.04s\n",
      "208:\tlearn: 0.1785123\ttotal: 2.39s\tremaining: 9.04s\n",
      "209:\tlearn: 0.1783056\ttotal: 2.4s\tremaining: 9.03s\n",
      "210:\tlearn: 0.1781035\ttotal: 2.42s\tremaining: 9.03s\n",
      "211:\tlearn: 0.1779060\ttotal: 2.43s\tremaining: 9.02s\n",
      "212:\tlearn: 0.1777318\ttotal: 2.44s\tremaining: 9s\n",
      "213:\tlearn: 0.1775870\ttotal: 2.44s\tremaining: 8.97s\n",
      "214:\tlearn: 0.1774060\ttotal: 2.45s\tremaining: 8.95s\n",
      "215:\tlearn: 0.1772642\ttotal: 2.46s\tremaining: 8.92s\n",
      "216:\tlearn: 0.1769813\ttotal: 2.47s\tremaining: 8.9s\n",
      "217:\tlearn: 0.1768934\ttotal: 2.48s\tremaining: 8.88s\n",
      "218:\tlearn: 0.1767761\ttotal: 2.49s\tremaining: 8.87s\n",
      "219:\tlearn: 0.1766193\ttotal: 2.5s\tremaining: 8.85s\n",
      "220:\tlearn: 0.1764466\ttotal: 2.5s\tremaining: 8.83s\n",
      "221:\tlearn: 0.1763049\ttotal: 2.51s\tremaining: 8.81s\n",
      "222:\tlearn: 0.1759874\ttotal: 2.52s\tremaining: 8.79s\n",
      "223:\tlearn: 0.1758196\ttotal: 2.54s\tremaining: 8.8s\n",
      "224:\tlearn: 0.1757003\ttotal: 2.55s\tremaining: 8.79s\n",
      "225:\tlearn: 0.1755877\ttotal: 2.56s\tremaining: 8.78s\n",
      "226:\tlearn: 0.1754015\ttotal: 2.58s\tremaining: 8.78s\n",
      "227:\tlearn: 0.1752513\ttotal: 2.59s\tremaining: 8.76s\n",
      "228:\tlearn: 0.1750029\ttotal: 2.6s\tremaining: 8.76s\n",
      "229:\tlearn: 0.1748805\ttotal: 2.62s\tremaining: 8.76s\n",
      "230:\tlearn: 0.1747618\ttotal: 2.63s\tremaining: 8.77s\n",
      "231:\tlearn: 0.1746439\ttotal: 2.65s\tremaining: 8.76s\n",
      "232:\tlearn: 0.1745492\ttotal: 2.66s\tremaining: 8.76s\n",
      "233:\tlearn: 0.1744013\ttotal: 2.68s\tremaining: 8.76s\n",
      "234:\tlearn: 0.1741556\ttotal: 2.69s\tremaining: 8.76s\n",
      "235:\tlearn: 0.1740409\ttotal: 2.7s\tremaining: 8.74s\n",
      "236:\tlearn: 0.1738938\ttotal: 2.72s\tremaining: 8.74s\n",
      "237:\tlearn: 0.1737434\ttotal: 2.73s\tremaining: 8.75s\n",
      "238:\tlearn: 0.1736427\ttotal: 2.75s\tremaining: 8.75s\n",
      "239:\tlearn: 0.1734564\ttotal: 2.76s\tremaining: 8.75s\n",
      "240:\tlearn: 0.1733441\ttotal: 2.77s\tremaining: 8.74s\n",
      "241:\tlearn: 0.1732655\ttotal: 2.78s\tremaining: 8.72s\n",
      "242:\tlearn: 0.1731758\ttotal: 2.79s\tremaining: 8.7s\n",
      "243:\tlearn: 0.1729591\ttotal: 2.8s\tremaining: 8.69s\n",
      "244:\tlearn: 0.1728346\ttotal: 2.81s\tremaining: 8.67s\n",
      "245:\tlearn: 0.1727261\ttotal: 2.82s\tremaining: 8.66s\n",
      "246:\tlearn: 0.1725482\ttotal: 2.83s\tremaining: 8.64s\n",
      "247:\tlearn: 0.1723675\ttotal: 2.84s\tremaining: 8.62s\n",
      "248:\tlearn: 0.1721909\ttotal: 2.85s\tremaining: 8.61s\n",
      "249:\tlearn: 0.1720798\ttotal: 2.86s\tremaining: 8.59s\n",
      "250:\tlearn: 0.1719617\ttotal: 2.87s\tremaining: 8.57s\n",
      "251:\tlearn: 0.1718943\ttotal: 2.89s\tremaining: 8.57s\n",
      "252:\tlearn: 0.1717558\ttotal: 2.9s\tremaining: 8.55s\n",
      "253:\tlearn: 0.1716621\ttotal: 2.91s\tremaining: 8.54s\n",
      "254:\tlearn: 0.1716497\ttotal: 2.91s\tremaining: 8.52s\n",
      "255:\tlearn: 0.1715681\ttotal: 2.92s\tremaining: 8.5s\n",
      "256:\tlearn: 0.1714519\ttotal: 2.94s\tremaining: 8.49s\n",
      "257:\tlearn: 0.1713002\ttotal: 2.94s\tremaining: 8.47s\n",
      "258:\tlearn: 0.1710867\ttotal: 2.95s\tremaining: 8.45s\n",
      "259:\tlearn: 0.1709378\ttotal: 2.96s\tremaining: 8.44s\n",
      "260:\tlearn: 0.1708354\ttotal: 2.97s\tremaining: 8.42s\n",
      "261:\tlearn: 0.1707330\ttotal: 2.98s\tremaining: 8.4s\n",
      "262:\tlearn: 0.1706281\ttotal: 2.99s\tremaining: 8.39s\n",
      "263:\tlearn: 0.1704437\ttotal: 3s\tremaining: 8.37s\n",
      "264:\tlearn: 0.1703193\ttotal: 3.01s\tremaining: 8.35s\n",
      "265:\tlearn: 0.1701997\ttotal: 3.02s\tremaining: 8.34s\n",
      "266:\tlearn: 0.1700589\ttotal: 3.03s\tremaining: 8.32s\n",
      "267:\tlearn: 0.1699726\ttotal: 3.04s\tremaining: 8.3s\n",
      "268:\tlearn: 0.1698472\ttotal: 3.05s\tremaining: 8.29s\n",
      "269:\tlearn: 0.1696984\ttotal: 3.06s\tremaining: 8.27s\n",
      "270:\tlearn: 0.1695082\ttotal: 3.07s\tremaining: 8.26s\n",
      "271:\tlearn: 0.1694457\ttotal: 3.08s\tremaining: 8.24s\n",
      "272:\tlearn: 0.1693621\ttotal: 3.09s\tremaining: 8.22s\n",
      "273:\tlearn: 0.1692725\ttotal: 3.1s\tremaining: 8.21s\n",
      "274:\tlearn: 0.1691853\ttotal: 3.11s\tremaining: 8.2s\n",
      "275:\tlearn: 0.1690139\ttotal: 3.12s\tremaining: 8.19s\n",
      "276:\tlearn: 0.1688846\ttotal: 3.13s\tremaining: 8.18s\n",
      "277:\tlearn: 0.1687903\ttotal: 3.14s\tremaining: 8.16s\n",
      "278:\tlearn: 0.1686715\ttotal: 3.15s\tremaining: 8.15s\n",
      "279:\tlearn: 0.1685605\ttotal: 3.17s\tremaining: 8.15s\n",
      "280:\tlearn: 0.1684844\ttotal: 3.18s\tremaining: 8.14s\n",
      "281:\tlearn: 0.1683959\ttotal: 3.2s\tremaining: 8.15s\n",
      "282:\tlearn: 0.1681120\ttotal: 3.22s\tremaining: 8.16s\n",
      "283:\tlearn: 0.1679939\ttotal: 3.23s\tremaining: 8.15s\n",
      "284:\tlearn: 0.1678507\ttotal: 3.25s\tremaining: 8.14s\n",
      "285:\tlearn: 0.1677313\ttotal: 3.26s\tremaining: 8.14s\n",
      "286:\tlearn: 0.1676057\ttotal: 3.27s\tremaining: 8.13s\n",
      "287:\tlearn: 0.1674925\ttotal: 3.28s\tremaining: 8.12s\n",
      "288:\tlearn: 0.1673790\ttotal: 3.3s\tremaining: 8.11s\n",
      "289:\tlearn: 0.1673019\ttotal: 3.31s\tremaining: 8.12s\n",
      "290:\tlearn: 0.1671856\ttotal: 3.33s\tremaining: 8.11s\n",
      "291:\tlearn: 0.1669678\ttotal: 3.34s\tremaining: 8.1s\n",
      "292:\tlearn: 0.1668536\ttotal: 3.36s\tremaining: 8.1s\n",
      "293:\tlearn: 0.1667148\ttotal: 3.38s\tremaining: 8.11s\n",
      "294:\tlearn: 0.1666112\ttotal: 3.39s\tremaining: 8.11s\n",
      "295:\tlearn: 0.1664856\ttotal: 3.41s\tremaining: 8.11s\n",
      "296:\tlearn: 0.1663825\ttotal: 3.42s\tremaining: 8.1s\n",
      "297:\tlearn: 0.1662986\ttotal: 3.44s\tremaining: 8.09s\n",
      "298:\tlearn: 0.1661604\ttotal: 3.45s\tremaining: 8.09s\n",
      "299:\tlearn: 0.1660252\ttotal: 3.47s\tremaining: 8.09s\n",
      "300:\tlearn: 0.1659217\ttotal: 3.48s\tremaining: 8.09s\n",
      "301:\tlearn: 0.1657099\ttotal: 3.49s\tremaining: 8.07s\n",
      "302:\tlearn: 0.1656208\ttotal: 3.52s\tremaining: 8.09s\n",
      "303:\tlearn: 0.1655404\ttotal: 3.52s\tremaining: 8.07s\n",
      "304:\tlearn: 0.1654474\ttotal: 3.54s\tremaining: 8.07s\n",
      "305:\tlearn: 0.1653722\ttotal: 3.55s\tremaining: 8.06s\n",
      "306:\tlearn: 0.1652876\ttotal: 3.56s\tremaining: 8.04s\n",
      "307:\tlearn: 0.1651626\ttotal: 3.57s\tremaining: 8.03s\n",
      "308:\tlearn: 0.1650405\ttotal: 3.58s\tremaining: 8.02s\n",
      "309:\tlearn: 0.1648919\ttotal: 3.6s\tremaining: 8s\n",
      "310:\tlearn: 0.1647944\ttotal: 3.6s\tremaining: 7.99s\n",
      "311:\tlearn: 0.1646706\ttotal: 3.61s\tremaining: 7.97s\n",
      "312:\tlearn: 0.1645846\ttotal: 3.63s\tremaining: 7.96s\n",
      "313:\tlearn: 0.1645007\ttotal: 3.63s\tremaining: 7.94s\n",
      "314:\tlearn: 0.1644112\ttotal: 3.64s\tremaining: 7.92s\n",
      "315:\tlearn: 0.1643297\ttotal: 3.65s\tremaining: 7.91s\n",
      "316:\tlearn: 0.1642814\ttotal: 3.66s\tremaining: 7.89s\n",
      "317:\tlearn: 0.1641709\ttotal: 3.67s\tremaining: 7.87s\n",
      "318:\tlearn: 0.1640716\ttotal: 3.68s\tremaining: 7.86s\n",
      "319:\tlearn: 0.1639142\ttotal: 3.69s\tremaining: 7.85s\n",
      "320:\tlearn: 0.1637402\ttotal: 3.7s\tremaining: 7.83s\n",
      "321:\tlearn: 0.1636203\ttotal: 3.71s\tremaining: 7.81s\n",
      "322:\tlearn: 0.1635364\ttotal: 3.72s\tremaining: 7.79s\n",
      "323:\tlearn: 0.1634058\ttotal: 3.73s\tremaining: 7.77s\n"
     ]
    },
    {
     "name": "stdout",
     "output_type": "stream",
     "text": [
      "324:\tlearn: 0.1633258\ttotal: 3.73s\tremaining: 7.75s\n",
      "325:\tlearn: 0.1632477\ttotal: 3.74s\tremaining: 7.74s\n",
      "326:\tlearn: 0.1630614\ttotal: 3.75s\tremaining: 7.72s\n",
      "327:\tlearn: 0.1629374\ttotal: 3.76s\tremaining: 7.71s\n",
      "328:\tlearn: 0.1628573\ttotal: 3.77s\tremaining: 7.69s\n",
      "329:\tlearn: 0.1627395\ttotal: 3.78s\tremaining: 7.67s\n",
      "330:\tlearn: 0.1626379\ttotal: 3.79s\tremaining: 7.65s\n",
      "331:\tlearn: 0.1624974\ttotal: 3.79s\tremaining: 7.63s\n",
      "332:\tlearn: 0.1624208\ttotal: 3.8s\tremaining: 7.62s\n",
      "333:\tlearn: 0.1623406\ttotal: 3.81s\tremaining: 7.6s\n",
      "334:\tlearn: 0.1622963\ttotal: 3.82s\tremaining: 7.58s\n",
      "335:\tlearn: 0.1621713\ttotal: 3.82s\tremaining: 7.56s\n",
      "336:\tlearn: 0.1620479\ttotal: 3.83s\tremaining: 7.54s\n",
      "337:\tlearn: 0.1618644\ttotal: 3.84s\tremaining: 7.52s\n",
      "338:\tlearn: 0.1618188\ttotal: 3.85s\tremaining: 7.5s\n",
      "339:\tlearn: 0.1616998\ttotal: 3.85s\tremaining: 7.48s\n",
      "340:\tlearn: 0.1616044\ttotal: 3.86s\tremaining: 7.46s\n",
      "341:\tlearn: 0.1615355\ttotal: 3.87s\tremaining: 7.44s\n",
      "342:\tlearn: 0.1614255\ttotal: 3.87s\tremaining: 7.42s\n",
      "343:\tlearn: 0.1612844\ttotal: 3.88s\tremaining: 7.4s\n",
      "344:\tlearn: 0.1612301\ttotal: 3.89s\tremaining: 7.38s\n",
      "345:\tlearn: 0.1611257\ttotal: 3.9s\tremaining: 7.37s\n",
      "346:\tlearn: 0.1609970\ttotal: 3.9s\tremaining: 7.35s\n",
      "347:\tlearn: 0.1607749\ttotal: 3.91s\tremaining: 7.33s\n",
      "348:\tlearn: 0.1607062\ttotal: 3.92s\tremaining: 7.31s\n",
      "349:\tlearn: 0.1605771\ttotal: 3.92s\tremaining: 7.29s\n",
      "350:\tlearn: 0.1604490\ttotal: 3.93s\tremaining: 7.27s\n",
      "351:\tlearn: 0.1603493\ttotal: 3.94s\tremaining: 7.26s\n",
      "352:\tlearn: 0.1603095\ttotal: 3.95s\tremaining: 7.25s\n",
      "353:\tlearn: 0.1602481\ttotal: 3.96s\tremaining: 7.23s\n",
      "354:\tlearn: 0.1601807\ttotal: 3.97s\tremaining: 7.21s\n",
      "355:\tlearn: 0.1601176\ttotal: 3.98s\tremaining: 7.2s\n",
      "356:\tlearn: 0.1600441\ttotal: 3.98s\tremaining: 7.18s\n",
      "357:\tlearn: 0.1599645\ttotal: 4s\tremaining: 7.17s\n",
      "358:\tlearn: 0.1598510\ttotal: 4s\tremaining: 7.15s\n",
      "359:\tlearn: 0.1597901\ttotal: 4.02s\tremaining: 7.14s\n",
      "360:\tlearn: 0.1596748\ttotal: 4.03s\tremaining: 7.13s\n",
      "361:\tlearn: 0.1596233\ttotal: 4.04s\tremaining: 7.12s\n",
      "362:\tlearn: 0.1595086\ttotal: 4.05s\tremaining: 7.11s\n",
      "363:\tlearn: 0.1594466\ttotal: 4.06s\tremaining: 7.09s\n",
      "364:\tlearn: 0.1593762\ttotal: 4.07s\tremaining: 7.08s\n",
      "365:\tlearn: 0.1592382\ttotal: 4.08s\tremaining: 7.07s\n",
      "366:\tlearn: 0.1591723\ttotal: 4.09s\tremaining: 7.05s\n",
      "367:\tlearn: 0.1590340\ttotal: 4.1s\tremaining: 7.05s\n",
      "368:\tlearn: 0.1588907\ttotal: 4.11s\tremaining: 7.04s\n",
      "369:\tlearn: 0.1588027\ttotal: 4.12s\tremaining: 7.02s\n",
      "370:\tlearn: 0.1587462\ttotal: 4.14s\tremaining: 7.01s\n",
      "371:\tlearn: 0.1586110\ttotal: 4.15s\tremaining: 7.01s\n",
      "372:\tlearn: 0.1584810\ttotal: 4.16s\tremaining: 7s\n",
      "373:\tlearn: 0.1584167\ttotal: 4.17s\tremaining: 6.99s\n",
      "374:\tlearn: 0.1582878\ttotal: 4.18s\tremaining: 6.97s\n",
      "375:\tlearn: 0.1582295\ttotal: 4.2s\tremaining: 6.97s\n",
      "376:\tlearn: 0.1580862\ttotal: 4.21s\tremaining: 6.96s\n",
      "377:\tlearn: 0.1579527\ttotal: 4.22s\tremaining: 6.95s\n",
      "378:\tlearn: 0.1578969\ttotal: 4.23s\tremaining: 6.94s\n",
      "379:\tlearn: 0.1577969\ttotal: 4.25s\tremaining: 6.94s\n",
      "380:\tlearn: 0.1576802\ttotal: 4.26s\tremaining: 6.93s\n",
      "381:\tlearn: 0.1575462\ttotal: 4.28s\tremaining: 6.92s\n",
      "382:\tlearn: 0.1575044\ttotal: 4.29s\tremaining: 6.91s\n",
      "383:\tlearn: 0.1574070\ttotal: 4.3s\tremaining: 6.89s\n",
      "384:\tlearn: 0.1572843\ttotal: 4.31s\tremaining: 6.88s\n",
      "385:\tlearn: 0.1572361\ttotal: 4.32s\tremaining: 6.87s\n",
      "386:\tlearn: 0.1571164\ttotal: 4.33s\tremaining: 6.85s\n",
      "387:\tlearn: 0.1570613\ttotal: 4.33s\tremaining: 6.84s\n",
      "388:\tlearn: 0.1569693\ttotal: 4.34s\tremaining: 6.82s\n",
      "389:\tlearn: 0.1568699\ttotal: 4.35s\tremaining: 6.81s\n",
      "390:\tlearn: 0.1567698\ttotal: 4.36s\tremaining: 6.79s\n",
      "391:\tlearn: 0.1566790\ttotal: 4.37s\tremaining: 6.78s\n",
      "392:\tlearn: 0.1565239\ttotal: 4.38s\tremaining: 6.76s\n",
      "393:\tlearn: 0.1564557\ttotal: 4.38s\tremaining: 6.74s\n",
      "394:\tlearn: 0.1563036\ttotal: 4.39s\tremaining: 6.73s\n",
      "395:\tlearn: 0.1561835\ttotal: 4.4s\tremaining: 6.71s\n",
      "396:\tlearn: 0.1561162\ttotal: 4.41s\tremaining: 6.69s\n",
      "397:\tlearn: 0.1560097\ttotal: 4.42s\tremaining: 6.68s\n",
      "398:\tlearn: 0.1558520\ttotal: 4.42s\tremaining: 6.66s\n",
      "399:\tlearn: 0.1557781\ttotal: 4.43s\tremaining: 6.65s\n",
      "400:\tlearn: 0.1556522\ttotal: 4.44s\tremaining: 6.63s\n",
      "401:\tlearn: 0.1555980\ttotal: 4.45s\tremaining: 6.61s\n",
      "402:\tlearn: 0.1554807\ttotal: 4.45s\tremaining: 6.6s\n",
      "403:\tlearn: 0.1554014\ttotal: 4.46s\tremaining: 6.58s\n",
      "404:\tlearn: 0.1552600\ttotal: 4.47s\tremaining: 6.57s\n",
      "405:\tlearn: 0.1551602\ttotal: 4.48s\tremaining: 6.55s\n",
      "406:\tlearn: 0.1550771\ttotal: 4.48s\tremaining: 6.53s\n",
      "407:\tlearn: 0.1550023\ttotal: 4.49s\tremaining: 6.52s\n",
      "408:\tlearn: 0.1548109\ttotal: 4.5s\tremaining: 6.5s\n",
      "409:\tlearn: 0.1547175\ttotal: 4.51s\tremaining: 6.49s\n",
      "410:\tlearn: 0.1546456\ttotal: 4.51s\tremaining: 6.47s\n",
      "411:\tlearn: 0.1545069\ttotal: 4.52s\tremaining: 6.45s\n",
      "412:\tlearn: 0.1544308\ttotal: 4.53s\tremaining: 6.44s\n",
      "413:\tlearn: 0.1543746\ttotal: 4.54s\tremaining: 6.42s\n",
      "414:\tlearn: 0.1542686\ttotal: 4.54s\tremaining: 6.41s\n",
      "415:\tlearn: 0.1541910\ttotal: 4.55s\tremaining: 6.39s\n",
      "416:\tlearn: 0.1540582\ttotal: 4.56s\tremaining: 6.38s\n",
      "417:\tlearn: 0.1539583\ttotal: 4.57s\tremaining: 6.36s\n",
      "418:\tlearn: 0.1538723\ttotal: 4.58s\tremaining: 6.34s\n",
      "419:\tlearn: 0.1538095\ttotal: 4.58s\tremaining: 6.33s\n",
      "420:\tlearn: 0.1537270\ttotal: 4.59s\tremaining: 6.31s\n",
      "421:\tlearn: 0.1536559\ttotal: 4.6s\tremaining: 6.3s\n",
      "422:\tlearn: 0.1535568\ttotal: 4.6s\tremaining: 6.28s\n",
      "423:\tlearn: 0.1534990\ttotal: 4.61s\tremaining: 6.26s\n",
      "424:\tlearn: 0.1534181\ttotal: 4.62s\tremaining: 6.25s\n",
      "425:\tlearn: 0.1532793\ttotal: 4.63s\tremaining: 6.23s\n",
      "426:\tlearn: 0.1532062\ttotal: 4.63s\tremaining: 6.22s\n",
      "427:\tlearn: 0.1530941\ttotal: 4.64s\tremaining: 6.2s\n",
      "428:\tlearn: 0.1529732\ttotal: 4.65s\tremaining: 6.19s\n",
      "429:\tlearn: 0.1528836\ttotal: 4.66s\tremaining: 6.17s\n",
      "430:\tlearn: 0.1528198\ttotal: 4.66s\tremaining: 6.16s\n",
      "431:\tlearn: 0.1527095\ttotal: 4.67s\tremaining: 6.14s\n",
      "432:\tlearn: 0.1526019\ttotal: 4.68s\tremaining: 6.13s\n",
      "433:\tlearn: 0.1524872\ttotal: 4.69s\tremaining: 6.11s\n",
      "434:\tlearn: 0.1524025\ttotal: 4.69s\tremaining: 6.1s\n",
      "435:\tlearn: 0.1523115\ttotal: 4.7s\tremaining: 6.08s\n",
      "436:\tlearn: 0.1522571\ttotal: 4.71s\tremaining: 6.07s\n",
      "437:\tlearn: 0.1521439\ttotal: 4.72s\tremaining: 6.05s\n",
      "438:\tlearn: 0.1520752\ttotal: 4.72s\tremaining: 6.04s\n",
      "439:\tlearn: 0.1519562\ttotal: 4.73s\tremaining: 6.02s\n",
      "440:\tlearn: 0.1518678\ttotal: 4.74s\tremaining: 6.01s\n",
      "441:\tlearn: 0.1517591\ttotal: 4.75s\tremaining: 5.99s\n",
      "442:\tlearn: 0.1516756\ttotal: 4.75s\tremaining: 5.98s\n",
      "443:\tlearn: 0.1516136\ttotal: 4.76s\tremaining: 5.96s\n",
      "444:\tlearn: 0.1515432\ttotal: 4.77s\tremaining: 5.95s\n",
      "445:\tlearn: 0.1514314\ttotal: 4.78s\tremaining: 5.93s\n",
      "446:\tlearn: 0.1513162\ttotal: 4.79s\tremaining: 5.92s\n",
      "447:\tlearn: 0.1512262\ttotal: 4.79s\tremaining: 5.91s\n",
      "448:\tlearn: 0.1511139\ttotal: 4.8s\tremaining: 5.89s\n",
      "449:\tlearn: 0.1510079\ttotal: 4.81s\tremaining: 5.87s\n",
      "450:\tlearn: 0.1509101\ttotal: 4.81s\tremaining: 5.86s\n",
      "451:\tlearn: 0.1508066\ttotal: 4.82s\tremaining: 5.84s\n",
      "452:\tlearn: 0.1507543\ttotal: 4.83s\tremaining: 5.83s\n",
      "453:\tlearn: 0.1506268\ttotal: 4.83s\tremaining: 5.81s\n",
      "454:\tlearn: 0.1505594\ttotal: 4.84s\tremaining: 5.8s\n",
      "455:\tlearn: 0.1505114\ttotal: 4.84s\tremaining: 5.78s\n",
      "456:\tlearn: 0.1504237\ttotal: 4.85s\tremaining: 5.77s\n",
      "457:\tlearn: 0.1503535\ttotal: 4.86s\tremaining: 5.75s\n",
      "458:\tlearn: 0.1502535\ttotal: 4.87s\tremaining: 5.74s\n",
      "459:\tlearn: 0.1501987\ttotal: 4.88s\tremaining: 5.72s\n",
      "460:\tlearn: 0.1500657\ttotal: 4.89s\tremaining: 5.71s\n",
      "461:\tlearn: 0.1499905\ttotal: 4.89s\tremaining: 5.7s\n",
      "462:\tlearn: 0.1499296\ttotal: 4.9s\tremaining: 5.69s\n",
      "463:\tlearn: 0.1498360\ttotal: 4.91s\tremaining: 5.67s\n",
      "464:\tlearn: 0.1497703\ttotal: 4.92s\tremaining: 5.66s\n",
      "465:\tlearn: 0.1497032\ttotal: 4.92s\tremaining: 5.64s\n",
      "466:\tlearn: 0.1496238\ttotal: 4.93s\tremaining: 5.63s\n",
      "467:\tlearn: 0.1495832\ttotal: 4.94s\tremaining: 5.62s\n",
      "468:\tlearn: 0.1494252\ttotal: 4.95s\tremaining: 5.61s\n",
      "469:\tlearn: 0.1493666\ttotal: 4.96s\tremaining: 5.59s\n",
      "470:\tlearn: 0.1492649\ttotal: 4.97s\tremaining: 5.58s\n",
      "471:\tlearn: 0.1491478\ttotal: 4.98s\tremaining: 5.57s\n",
      "472:\tlearn: 0.1490750\ttotal: 4.99s\tremaining: 5.56s\n",
      "473:\tlearn: 0.1490049\ttotal: 5s\tremaining: 5.55s\n",
      "474:\tlearn: 0.1488312\ttotal: 5s\tremaining: 5.53s\n",
      "475:\tlearn: 0.1487671\ttotal: 5.01s\tremaining: 5.52s\n",
      "476:\tlearn: 0.1487015\ttotal: 5.02s\tremaining: 5.51s\n",
      "477:\tlearn: 0.1486097\ttotal: 5.03s\tremaining: 5.49s\n",
      "478:\tlearn: 0.1485184\ttotal: 5.04s\tremaining: 5.48s\n",
      "479:\tlearn: 0.1484423\ttotal: 5.05s\tremaining: 5.47s\n",
      "480:\tlearn: 0.1483691\ttotal: 5.05s\tremaining: 5.45s\n",
      "481:\tlearn: 0.1482790\ttotal: 5.06s\tremaining: 5.44s\n",
      "482:\tlearn: 0.1482048\ttotal: 5.07s\tremaining: 5.43s\n",
      "483:\tlearn: 0.1481119\ttotal: 5.08s\tremaining: 5.42s\n",
      "484:\tlearn: 0.1480272\ttotal: 5.08s\tremaining: 5.4s\n",
      "485:\tlearn: 0.1479606\ttotal: 5.09s\tremaining: 5.39s\n",
      "486:\tlearn: 0.1478690\ttotal: 5.1s\tremaining: 5.37s\n",
      "487:\tlearn: 0.1478246\ttotal: 5.11s\tremaining: 5.36s\n",
      "488:\tlearn: 0.1477611\ttotal: 5.12s\tremaining: 5.35s\n",
      "489:\tlearn: 0.1476785\ttotal: 5.12s\tremaining: 5.33s\n",
      "490:\tlearn: 0.1476130\ttotal: 5.13s\tremaining: 5.32s\n",
      "491:\tlearn: 0.1475332\ttotal: 5.14s\tremaining: 5.31s\n",
      "492:\tlearn: 0.1474097\ttotal: 5.14s\tremaining: 5.29s\n"
     ]
    },
    {
     "name": "stdout",
     "output_type": "stream",
     "text": [
      "493:\tlearn: 0.1473332\ttotal: 5.16s\tremaining: 5.28s\n",
      "494:\tlearn: 0.1472741\ttotal: 5.16s\tremaining: 5.27s\n",
      "495:\tlearn: 0.1471811\ttotal: 5.17s\tremaining: 5.26s\n",
      "496:\tlearn: 0.1471145\ttotal: 5.18s\tremaining: 5.24s\n",
      "497:\tlearn: 0.1470129\ttotal: 5.19s\tremaining: 5.23s\n",
      "498:\tlearn: 0.1469252\ttotal: 5.2s\tremaining: 5.22s\n",
      "499:\tlearn: 0.1468315\ttotal: 5.2s\tremaining: 5.2s\n",
      "500:\tlearn: 0.1467262\ttotal: 5.21s\tremaining: 5.19s\n",
      "501:\tlearn: 0.1466474\ttotal: 5.21s\tremaining: 5.17s\n",
      "502:\tlearn: 0.1465711\ttotal: 5.22s\tremaining: 5.16s\n",
      "503:\tlearn: 0.1464939\ttotal: 5.23s\tremaining: 5.15s\n",
      "504:\tlearn: 0.1464105\ttotal: 5.24s\tremaining: 5.14s\n",
      "505:\tlearn: 0.1462956\ttotal: 5.25s\tremaining: 5.12s\n",
      "506:\tlearn: 0.1462273\ttotal: 5.25s\tremaining: 5.11s\n",
      "507:\tlearn: 0.1461282\ttotal: 5.26s\tremaining: 5.1s\n",
      "508:\tlearn: 0.1460360\ttotal: 5.27s\tremaining: 5.09s\n",
      "509:\tlearn: 0.1459666\ttotal: 5.28s\tremaining: 5.07s\n",
      "510:\tlearn: 0.1458910\ttotal: 5.29s\tremaining: 5.06s\n",
      "511:\tlearn: 0.1458314\ttotal: 5.3s\tremaining: 5.05s\n",
      "512:\tlearn: 0.1457458\ttotal: 5.3s\tremaining: 5.04s\n",
      "513:\tlearn: 0.1456084\ttotal: 5.31s\tremaining: 5.02s\n",
      "514:\tlearn: 0.1455406\ttotal: 5.32s\tremaining: 5.01s\n",
      "515:\tlearn: 0.1454687\ttotal: 5.33s\tremaining: 5s\n",
      "516:\tlearn: 0.1453737\ttotal: 5.34s\tremaining: 4.99s\n",
      "517:\tlearn: 0.1452639\ttotal: 5.34s\tremaining: 4.97s\n",
      "518:\tlearn: 0.1451918\ttotal: 5.35s\tremaining: 4.96s\n",
      "519:\tlearn: 0.1451195\ttotal: 5.36s\tremaining: 4.95s\n",
      "520:\tlearn: 0.1450433\ttotal: 5.37s\tremaining: 4.93s\n",
      "521:\tlearn: 0.1449898\ttotal: 5.37s\tremaining: 4.92s\n",
      "522:\tlearn: 0.1449495\ttotal: 5.38s\tremaining: 4.91s\n",
      "523:\tlearn: 0.1448278\ttotal: 5.39s\tremaining: 4.89s\n",
      "524:\tlearn: 0.1447514\ttotal: 5.39s\tremaining: 4.88s\n",
      "525:\tlearn: 0.1446853\ttotal: 5.4s\tremaining: 4.86s\n",
      "526:\tlearn: 0.1446110\ttotal: 5.41s\tremaining: 4.85s\n",
      "527:\tlearn: 0.1445457\ttotal: 5.41s\tremaining: 4.84s\n",
      "528:\tlearn: 0.1444937\ttotal: 5.42s\tremaining: 4.82s\n",
      "529:\tlearn: 0.1444454\ttotal: 5.42s\tremaining: 4.81s\n",
      "530:\tlearn: 0.1443698\ttotal: 5.43s\tremaining: 4.8s\n",
      "531:\tlearn: 0.1442725\ttotal: 5.44s\tremaining: 4.78s\n",
      "532:\tlearn: 0.1441898\ttotal: 5.44s\tremaining: 4.77s\n",
      "533:\tlearn: 0.1440714\ttotal: 5.45s\tremaining: 4.76s\n",
      "534:\tlearn: 0.1439526\ttotal: 5.46s\tremaining: 4.75s\n",
      "535:\tlearn: 0.1438947\ttotal: 5.47s\tremaining: 4.74s\n",
      "536:\tlearn: 0.1437907\ttotal: 5.48s\tremaining: 4.73s\n",
      "537:\tlearn: 0.1437347\ttotal: 5.49s\tremaining: 4.72s\n",
      "538:\tlearn: 0.1436406\ttotal: 5.5s\tremaining: 4.7s\n",
      "539:\tlearn: 0.1436032\ttotal: 5.51s\tremaining: 4.69s\n",
      "540:\tlearn: 0.1435437\ttotal: 5.52s\tremaining: 4.68s\n",
      "541:\tlearn: 0.1435078\ttotal: 5.53s\tremaining: 4.67s\n",
      "542:\tlearn: 0.1434547\ttotal: 5.54s\tremaining: 4.66s\n",
      "543:\tlearn: 0.1433659\ttotal: 5.55s\tremaining: 4.65s\n",
      "544:\tlearn: 0.1433086\ttotal: 5.56s\tremaining: 4.64s\n",
      "545:\tlearn: 0.1432252\ttotal: 5.57s\tremaining: 4.63s\n",
      "546:\tlearn: 0.1431801\ttotal: 5.58s\tremaining: 4.62s\n",
      "547:\tlearn: 0.1431451\ttotal: 5.58s\tremaining: 4.61s\n",
      "548:\tlearn: 0.1430832\ttotal: 5.59s\tremaining: 4.59s\n",
      "549:\tlearn: 0.1429777\ttotal: 5.6s\tremaining: 4.58s\n",
      "550:\tlearn: 0.1429231\ttotal: 5.61s\tremaining: 4.57s\n",
      "551:\tlearn: 0.1428806\ttotal: 5.62s\tremaining: 4.56s\n",
      "552:\tlearn: 0.1427806\ttotal: 5.63s\tremaining: 4.55s\n",
      "553:\tlearn: 0.1427122\ttotal: 5.64s\tremaining: 4.54s\n",
      "554:\tlearn: 0.1426295\ttotal: 5.64s\tremaining: 4.53s\n",
      "555:\tlearn: 0.1425352\ttotal: 5.65s\tremaining: 4.51s\n",
      "556:\tlearn: 0.1424504\ttotal: 5.66s\tremaining: 4.5s\n",
      "557:\tlearn: 0.1423768\ttotal: 5.67s\tremaining: 4.49s\n",
      "558:\tlearn: 0.1422704\ttotal: 5.67s\tremaining: 4.48s\n",
      "559:\tlearn: 0.1422196\ttotal: 5.68s\tremaining: 4.46s\n",
      "560:\tlearn: 0.1421175\ttotal: 5.69s\tremaining: 4.45s\n",
      "561:\tlearn: 0.1420314\ttotal: 5.7s\tremaining: 4.44s\n",
      "562:\tlearn: 0.1419787\ttotal: 5.71s\tremaining: 4.43s\n",
      "563:\tlearn: 0.1419083\ttotal: 5.71s\tremaining: 4.42s\n",
      "564:\tlearn: 0.1418284\ttotal: 5.72s\tremaining: 4.4s\n",
      "565:\tlearn: 0.1417472\ttotal: 5.73s\tremaining: 4.39s\n",
      "566:\tlearn: 0.1416226\ttotal: 5.74s\tremaining: 4.38s\n",
      "567:\tlearn: 0.1415757\ttotal: 5.74s\tremaining: 4.37s\n",
      "568:\tlearn: 0.1415098\ttotal: 5.75s\tremaining: 4.36s\n",
      "569:\tlearn: 0.1414567\ttotal: 5.76s\tremaining: 4.34s\n",
      "570:\tlearn: 0.1413943\ttotal: 5.76s\tremaining: 4.33s\n",
      "571:\tlearn: 0.1413266\ttotal: 5.77s\tremaining: 4.32s\n",
      "572:\tlearn: 0.1412664\ttotal: 5.78s\tremaining: 4.31s\n",
      "573:\tlearn: 0.1412002\ttotal: 5.79s\tremaining: 4.3s\n",
      "574:\tlearn: 0.1411418\ttotal: 5.8s\tremaining: 4.29s\n",
      "575:\tlearn: 0.1410521\ttotal: 5.81s\tremaining: 4.27s\n",
      "576:\tlearn: 0.1409384\ttotal: 5.81s\tremaining: 4.26s\n",
      "577:\tlearn: 0.1408767\ttotal: 5.82s\tremaining: 4.25s\n",
      "578:\tlearn: 0.1408274\ttotal: 5.83s\tremaining: 4.24s\n",
      "579:\tlearn: 0.1407553\ttotal: 5.83s\tremaining: 4.22s\n",
      "580:\tlearn: 0.1407216\ttotal: 5.84s\tremaining: 4.21s\n",
      "581:\tlearn: 0.1406316\ttotal: 5.85s\tremaining: 4.2s\n",
      "582:\tlearn: 0.1405473\ttotal: 5.86s\tremaining: 4.19s\n",
      "583:\tlearn: 0.1404819\ttotal: 5.86s\tremaining: 4.18s\n",
      "584:\tlearn: 0.1404061\ttotal: 5.87s\tremaining: 4.17s\n",
      "585:\tlearn: 0.1403593\ttotal: 5.88s\tremaining: 4.15s\n",
      "586:\tlearn: 0.1402970\ttotal: 5.89s\tremaining: 4.14s\n",
      "587:\tlearn: 0.1402318\ttotal: 5.9s\tremaining: 4.13s\n",
      "588:\tlearn: 0.1401764\ttotal: 5.91s\tremaining: 4.12s\n",
      "589:\tlearn: 0.1400828\ttotal: 5.92s\tremaining: 4.11s\n",
      "590:\tlearn: 0.1400058\ttotal: 5.92s\tremaining: 4.1s\n",
      "591:\tlearn: 0.1399412\ttotal: 5.93s\tremaining: 4.09s\n",
      "592:\tlearn: 0.1398632\ttotal: 5.94s\tremaining: 4.08s\n",
      "593:\tlearn: 0.1397924\ttotal: 5.95s\tremaining: 4.07s\n",
      "594:\tlearn: 0.1397320\ttotal: 5.96s\tremaining: 4.06s\n",
      "595:\tlearn: 0.1396435\ttotal: 5.97s\tremaining: 4.05s\n",
      "596:\tlearn: 0.1395263\ttotal: 5.98s\tremaining: 4.04s\n",
      "597:\tlearn: 0.1394607\ttotal: 6s\tremaining: 4.03s\n",
      "598:\tlearn: 0.1393929\ttotal: 6.01s\tremaining: 4.02s\n",
      "599:\tlearn: 0.1392815\ttotal: 6.01s\tremaining: 4.01s\n",
      "600:\tlearn: 0.1392346\ttotal: 6.03s\tremaining: 4s\n",
      "601:\tlearn: 0.1391902\ttotal: 6.04s\tremaining: 3.99s\n",
      "602:\tlearn: 0.1391220\ttotal: 6.05s\tremaining: 3.98s\n",
      "603:\tlearn: 0.1390569\ttotal: 6.06s\tremaining: 3.97s\n",
      "604:\tlearn: 0.1389825\ttotal: 6.07s\tremaining: 3.96s\n",
      "605:\tlearn: 0.1389235\ttotal: 6.08s\tremaining: 3.95s\n",
      "606:\tlearn: 0.1388213\ttotal: 6.09s\tremaining: 3.94s\n",
      "607:\tlearn: 0.1387291\ttotal: 6.11s\tremaining: 3.94s\n",
      "608:\tlearn: 0.1386537\ttotal: 6.11s\tremaining: 3.92s\n",
      "609:\tlearn: 0.1385961\ttotal: 6.12s\tremaining: 3.92s\n",
      "610:\tlearn: 0.1385080\ttotal: 6.14s\tremaining: 3.91s\n",
      "611:\tlearn: 0.1383969\ttotal: 6.14s\tremaining: 3.9s\n",
      "612:\tlearn: 0.1383345\ttotal: 6.16s\tremaining: 3.89s\n",
      "613:\tlearn: 0.1382760\ttotal: 6.17s\tremaining: 3.88s\n",
      "614:\tlearn: 0.1382483\ttotal: 6.18s\tremaining: 3.87s\n",
      "615:\tlearn: 0.1381687\ttotal: 6.19s\tremaining: 3.86s\n",
      "616:\tlearn: 0.1381120\ttotal: 6.21s\tremaining: 3.85s\n",
      "617:\tlearn: 0.1380682\ttotal: 6.22s\tremaining: 3.84s\n",
      "618:\tlearn: 0.1380415\ttotal: 6.23s\tremaining: 3.83s\n",
      "619:\tlearn: 0.1379679\ttotal: 6.24s\tremaining: 3.82s\n",
      "620:\tlearn: 0.1378660\ttotal: 6.25s\tremaining: 3.82s\n",
      "621:\tlearn: 0.1377571\ttotal: 6.26s\tremaining: 3.81s\n",
      "622:\tlearn: 0.1376798\ttotal: 6.27s\tremaining: 3.79s\n",
      "623:\tlearn: 0.1376075\ttotal: 6.28s\tremaining: 3.79s\n",
      "624:\tlearn: 0.1375439\ttotal: 6.29s\tremaining: 3.77s\n",
      "625:\tlearn: 0.1375031\ttotal: 6.3s\tremaining: 3.76s\n",
      "626:\tlearn: 0.1374379\ttotal: 6.31s\tremaining: 3.75s\n",
      "627:\tlearn: 0.1373809\ttotal: 6.32s\tremaining: 3.75s\n",
      "628:\tlearn: 0.1373006\ttotal: 6.34s\tremaining: 3.74s\n",
      "629:\tlearn: 0.1372261\ttotal: 6.35s\tremaining: 3.73s\n",
      "630:\tlearn: 0.1371449\ttotal: 6.37s\tremaining: 3.72s\n",
      "631:\tlearn: 0.1370587\ttotal: 6.38s\tremaining: 3.72s\n",
      "632:\tlearn: 0.1370308\ttotal: 6.4s\tremaining: 3.71s\n",
      "633:\tlearn: 0.1369506\ttotal: 6.41s\tremaining: 3.7s\n",
      "634:\tlearn: 0.1368661\ttotal: 6.42s\tremaining: 3.69s\n",
      "635:\tlearn: 0.1368317\ttotal: 6.43s\tremaining: 3.68s\n",
      "636:\tlearn: 0.1367310\ttotal: 6.44s\tremaining: 3.67s\n",
      "637:\tlearn: 0.1366897\ttotal: 6.45s\tremaining: 3.66s\n",
      "638:\tlearn: 0.1366261\ttotal: 6.45s\tremaining: 3.65s\n",
      "639:\tlearn: 0.1365533\ttotal: 6.46s\tremaining: 3.63s\n",
      "640:\tlearn: 0.1364921\ttotal: 6.47s\tremaining: 3.63s\n",
      "641:\tlearn: 0.1364002\ttotal: 6.48s\tremaining: 3.61s\n",
      "642:\tlearn: 0.1363005\ttotal: 6.49s\tremaining: 3.6s\n",
      "643:\tlearn: 0.1362384\ttotal: 6.5s\tremaining: 3.59s\n",
      "644:\tlearn: 0.1361451\ttotal: 6.51s\tremaining: 3.58s\n",
      "645:\tlearn: 0.1360981\ttotal: 6.51s\tremaining: 3.57s\n",
      "646:\tlearn: 0.1360338\ttotal: 6.53s\tremaining: 3.56s\n",
      "647:\tlearn: 0.1359810\ttotal: 6.53s\tremaining: 3.55s\n",
      "648:\tlearn: 0.1359370\ttotal: 6.54s\tremaining: 3.54s\n",
      "649:\tlearn: 0.1358621\ttotal: 6.55s\tremaining: 3.53s\n",
      "650:\tlearn: 0.1357754\ttotal: 6.56s\tremaining: 3.52s\n",
      "651:\tlearn: 0.1357510\ttotal: 6.57s\tremaining: 3.51s\n",
      "652:\tlearn: 0.1357264\ttotal: 6.58s\tremaining: 3.5s\n",
      "653:\tlearn: 0.1356563\ttotal: 6.59s\tremaining: 3.49s\n",
      "654:\tlearn: 0.1356327\ttotal: 6.6s\tremaining: 3.48s\n",
      "655:\tlearn: 0.1355917\ttotal: 6.61s\tremaining: 3.47s\n",
      "656:\tlearn: 0.1355268\ttotal: 6.63s\tremaining: 3.46s\n",
      "657:\tlearn: 0.1354761\ttotal: 6.64s\tremaining: 3.45s\n",
      "658:\tlearn: 0.1354314\ttotal: 6.64s\tremaining: 3.44s\n",
      "659:\tlearn: 0.1352829\ttotal: 6.66s\tremaining: 3.43s\n",
      "660:\tlearn: 0.1352128\ttotal: 6.67s\tremaining: 3.42s\n",
      "661:\tlearn: 0.1351452\ttotal: 6.68s\tremaining: 3.41s\n",
      "662:\tlearn: 0.1350929\ttotal: 6.69s\tremaining: 3.4s\n",
      "663:\tlearn: 0.1350173\ttotal: 6.7s\tremaining: 3.39s\n",
      "664:\tlearn: 0.1349745\ttotal: 6.71s\tremaining: 3.38s\n",
      "665:\tlearn: 0.1349323\ttotal: 6.72s\tremaining: 3.37s\n",
      "666:\tlearn: 0.1348499\ttotal: 6.73s\tremaining: 3.36s\n",
      "667:\tlearn: 0.1347970\ttotal: 6.74s\tremaining: 3.35s\n",
      "668:\tlearn: 0.1347161\ttotal: 6.75s\tremaining: 3.34s\n",
      "669:\tlearn: 0.1346435\ttotal: 6.76s\tremaining: 3.33s\n",
      "670:\tlearn: 0.1345754\ttotal: 6.77s\tremaining: 3.32s\n"
     ]
    },
    {
     "name": "stdout",
     "output_type": "stream",
     "text": [
      "671:\tlearn: 0.1345110\ttotal: 6.79s\tremaining: 3.31s\n",
      "672:\tlearn: 0.1344690\ttotal: 6.8s\tremaining: 3.3s\n",
      "673:\tlearn: 0.1344008\ttotal: 6.81s\tremaining: 3.3s\n",
      "674:\tlearn: 0.1343312\ttotal: 6.83s\tremaining: 3.29s\n",
      "675:\tlearn: 0.1342812\ttotal: 6.84s\tremaining: 3.28s\n",
      "676:\tlearn: 0.1342315\ttotal: 6.85s\tremaining: 3.27s\n",
      "677:\tlearn: 0.1342041\ttotal: 6.85s\tremaining: 3.25s\n",
      "678:\tlearn: 0.1341239\ttotal: 6.86s\tremaining: 3.24s\n",
      "679:\tlearn: 0.1340897\ttotal: 6.87s\tremaining: 3.23s\n",
      "680:\tlearn: 0.1340120\ttotal: 6.88s\tremaining: 3.22s\n",
      "681:\tlearn: 0.1339476\ttotal: 6.89s\tremaining: 3.21s\n",
      "682:\tlearn: 0.1339092\ttotal: 6.9s\tremaining: 3.2s\n",
      "683:\tlearn: 0.1338551\ttotal: 6.9s\tremaining: 3.19s\n",
      "684:\tlearn: 0.1338144\ttotal: 6.91s\tremaining: 3.18s\n",
      "685:\tlearn: 0.1337543\ttotal: 6.92s\tremaining: 3.17s\n",
      "686:\tlearn: 0.1336998\ttotal: 6.93s\tremaining: 3.16s\n",
      "687:\tlearn: 0.1336358\ttotal: 6.93s\tremaining: 3.14s\n",
      "688:\tlearn: 0.1335894\ttotal: 6.94s\tremaining: 3.13s\n",
      "689:\tlearn: 0.1335064\ttotal: 6.95s\tremaining: 3.12s\n",
      "690:\tlearn: 0.1334383\ttotal: 6.96s\tremaining: 3.11s\n",
      "691:\tlearn: 0.1333426\ttotal: 6.97s\tremaining: 3.1s\n",
      "692:\tlearn: 0.1332844\ttotal: 6.98s\tremaining: 3.09s\n",
      "693:\tlearn: 0.1332311\ttotal: 6.98s\tremaining: 3.08s\n",
      "694:\tlearn: 0.1331636\ttotal: 7s\tremaining: 3.07s\n",
      "695:\tlearn: 0.1330638\ttotal: 7s\tremaining: 3.06s\n",
      "696:\tlearn: 0.1330225\ttotal: 7.01s\tremaining: 3.05s\n",
      "697:\tlearn: 0.1329598\ttotal: 7.02s\tremaining: 3.04s\n",
      "698:\tlearn: 0.1328947\ttotal: 7.03s\tremaining: 3.03s\n",
      "699:\tlearn: 0.1328468\ttotal: 7.04s\tremaining: 3.02s\n",
      "700:\tlearn: 0.1327502\ttotal: 7.04s\tremaining: 3s\n",
      "701:\tlearn: 0.1327123\ttotal: 7.05s\tremaining: 2.99s\n",
      "702:\tlearn: 0.1326385\ttotal: 7.06s\tremaining: 2.98s\n",
      "703:\tlearn: 0.1325409\ttotal: 7.06s\tremaining: 2.97s\n",
      "704:\tlearn: 0.1324760\ttotal: 7.07s\tremaining: 2.96s\n",
      "705:\tlearn: 0.1324431\ttotal: 7.08s\tremaining: 2.95s\n",
      "706:\tlearn: 0.1324070\ttotal: 7.08s\tremaining: 2.94s\n",
      "707:\tlearn: 0.1323608\ttotal: 7.09s\tremaining: 2.92s\n",
      "708:\tlearn: 0.1322995\ttotal: 7.1s\tremaining: 2.91s\n",
      "709:\tlearn: 0.1322170\ttotal: 7.1s\tremaining: 2.9s\n",
      "710:\tlearn: 0.1321320\ttotal: 7.11s\tremaining: 2.89s\n",
      "711:\tlearn: 0.1320738\ttotal: 7.11s\tremaining: 2.88s\n",
      "712:\tlearn: 0.1320177\ttotal: 7.12s\tremaining: 2.87s\n",
      "713:\tlearn: 0.1319617\ttotal: 7.13s\tremaining: 2.85s\n",
      "714:\tlearn: 0.1318337\ttotal: 7.13s\tremaining: 2.84s\n",
      "715:\tlearn: 0.1317977\ttotal: 7.14s\tremaining: 2.83s\n",
      "716:\tlearn: 0.1317737\ttotal: 7.14s\tremaining: 2.82s\n",
      "717:\tlearn: 0.1317097\ttotal: 7.15s\tremaining: 2.81s\n",
      "718:\tlearn: 0.1316685\ttotal: 7.16s\tremaining: 2.8s\n",
      "719:\tlearn: 0.1316106\ttotal: 7.16s\tremaining: 2.79s\n",
      "720:\tlearn: 0.1315417\ttotal: 7.17s\tremaining: 2.77s\n",
      "721:\tlearn: 0.1314864\ttotal: 7.17s\tremaining: 2.76s\n",
      "722:\tlearn: 0.1314112\ttotal: 7.18s\tremaining: 2.75s\n",
      "723:\tlearn: 0.1313495\ttotal: 7.19s\tremaining: 2.74s\n",
      "724:\tlearn: 0.1313048\ttotal: 7.19s\tremaining: 2.73s\n",
      "725:\tlearn: 0.1312567\ttotal: 7.2s\tremaining: 2.72s\n",
      "726:\tlearn: 0.1312130\ttotal: 7.21s\tremaining: 2.71s\n",
      "727:\tlearn: 0.1311701\ttotal: 7.21s\tremaining: 2.69s\n",
      "728:\tlearn: 0.1311351\ttotal: 7.22s\tremaining: 2.68s\n",
      "729:\tlearn: 0.1310581\ttotal: 7.23s\tremaining: 2.67s\n",
      "730:\tlearn: 0.1309877\ttotal: 7.24s\tremaining: 2.66s\n",
      "731:\tlearn: 0.1309296\ttotal: 7.24s\tremaining: 2.65s\n",
      "732:\tlearn: 0.1308543\ttotal: 7.25s\tremaining: 2.64s\n",
      "733:\tlearn: 0.1308027\ttotal: 7.25s\tremaining: 2.63s\n",
      "734:\tlearn: 0.1307098\ttotal: 7.26s\tremaining: 2.62s\n",
      "735:\tlearn: 0.1306122\ttotal: 7.27s\tremaining: 2.61s\n",
      "736:\tlearn: 0.1305243\ttotal: 7.28s\tremaining: 2.6s\n",
      "737:\tlearn: 0.1304704\ttotal: 7.29s\tremaining: 2.59s\n",
      "738:\tlearn: 0.1303867\ttotal: 7.29s\tremaining: 2.58s\n",
      "739:\tlearn: 0.1303413\ttotal: 7.3s\tremaining: 2.56s\n",
      "740:\tlearn: 0.1303041\ttotal: 7.31s\tremaining: 2.55s\n",
      "741:\tlearn: 0.1302396\ttotal: 7.32s\tremaining: 2.54s\n",
      "742:\tlearn: 0.1301726\ttotal: 7.32s\tremaining: 2.53s\n",
      "743:\tlearn: 0.1301084\ttotal: 7.33s\tremaining: 2.52s\n",
      "744:\tlearn: 0.1300571\ttotal: 7.34s\tremaining: 2.51s\n",
      "745:\tlearn: 0.1300116\ttotal: 7.34s\tremaining: 2.5s\n",
      "746:\tlearn: 0.1299217\ttotal: 7.35s\tremaining: 2.49s\n",
      "747:\tlearn: 0.1298728\ttotal: 7.36s\tremaining: 2.48s\n",
      "748:\tlearn: 0.1298348\ttotal: 7.37s\tremaining: 2.47s\n",
      "749:\tlearn: 0.1297801\ttotal: 7.37s\tremaining: 2.46s\n",
      "750:\tlearn: 0.1297006\ttotal: 7.38s\tremaining: 2.45s\n",
      "751:\tlearn: 0.1296048\ttotal: 7.38s\tremaining: 2.44s\n",
      "752:\tlearn: 0.1295329\ttotal: 7.4s\tremaining: 2.43s\n",
      "753:\tlearn: 0.1294921\ttotal: 7.41s\tremaining: 2.42s\n",
      "754:\tlearn: 0.1294074\ttotal: 7.42s\tremaining: 2.41s\n",
      "755:\tlearn: 0.1293608\ttotal: 7.43s\tremaining: 2.4s\n",
      "756:\tlearn: 0.1293038\ttotal: 7.44s\tremaining: 2.39s\n",
      "757:\tlearn: 0.1292227\ttotal: 7.45s\tremaining: 2.38s\n",
      "758:\tlearn: 0.1291701\ttotal: 7.46s\tremaining: 2.37s\n",
      "759:\tlearn: 0.1291419\ttotal: 7.46s\tremaining: 2.36s\n",
      "760:\tlearn: 0.1290874\ttotal: 7.47s\tremaining: 2.35s\n",
      "761:\tlearn: 0.1290366\ttotal: 7.48s\tremaining: 2.33s\n",
      "762:\tlearn: 0.1290020\ttotal: 7.48s\tremaining: 2.32s\n",
      "763:\tlearn: 0.1289818\ttotal: 7.49s\tremaining: 2.31s\n",
      "764:\tlearn: 0.1289208\ttotal: 7.5s\tremaining: 2.3s\n",
      "765:\tlearn: 0.1288873\ttotal: 7.5s\tremaining: 2.29s\n",
      "766:\tlearn: 0.1288648\ttotal: 7.51s\tremaining: 2.28s\n",
      "767:\tlearn: 0.1287858\ttotal: 7.51s\tremaining: 2.27s\n",
      "768:\tlearn: 0.1287739\ttotal: 7.52s\tremaining: 2.26s\n",
      "769:\tlearn: 0.1287243\ttotal: 7.53s\tremaining: 2.25s\n",
      "770:\tlearn: 0.1287046\ttotal: 7.54s\tremaining: 2.24s\n",
      "771:\tlearn: 0.1286631\ttotal: 7.54s\tremaining: 2.23s\n",
      "772:\tlearn: 0.1286328\ttotal: 7.55s\tremaining: 2.22s\n",
      "773:\tlearn: 0.1285650\ttotal: 7.55s\tremaining: 2.21s\n",
      "774:\tlearn: 0.1285012\ttotal: 7.56s\tremaining: 2.19s\n",
      "775:\tlearn: 0.1284439\ttotal: 7.57s\tremaining: 2.18s\n",
      "776:\tlearn: 0.1283649\ttotal: 7.57s\tremaining: 2.17s\n",
      "777:\tlearn: 0.1283458\ttotal: 7.58s\tremaining: 2.16s\n",
      "778:\tlearn: 0.1282775\ttotal: 7.59s\tremaining: 2.15s\n",
      "779:\tlearn: 0.1282336\ttotal: 7.59s\tremaining: 2.14s\n",
      "780:\tlearn: 0.1281701\ttotal: 7.6s\tremaining: 2.13s\n",
      "781:\tlearn: 0.1281116\ttotal: 7.61s\tremaining: 2.12s\n",
      "782:\tlearn: 0.1280574\ttotal: 7.61s\tremaining: 2.11s\n",
      "783:\tlearn: 0.1280321\ttotal: 7.62s\tremaining: 2.1s\n",
      "784:\tlearn: 0.1279915\ttotal: 7.63s\tremaining: 2.09s\n",
      "785:\tlearn: 0.1279438\ttotal: 7.63s\tremaining: 2.08s\n",
      "786:\tlearn: 0.1278903\ttotal: 7.64s\tremaining: 2.07s\n",
      "787:\tlearn: 0.1278367\ttotal: 7.64s\tremaining: 2.06s\n",
      "788:\tlearn: 0.1277950\ttotal: 7.65s\tremaining: 2.05s\n",
      "789:\tlearn: 0.1277491\ttotal: 7.66s\tremaining: 2.04s\n",
      "790:\tlearn: 0.1277088\ttotal: 7.66s\tremaining: 2.02s\n",
      "791:\tlearn: 0.1276563\ttotal: 7.67s\tremaining: 2.01s\n",
      "792:\tlearn: 0.1276089\ttotal: 7.68s\tremaining: 2s\n",
      "793:\tlearn: 0.1275734\ttotal: 7.68s\tremaining: 1.99s\n",
      "794:\tlearn: 0.1274957\ttotal: 7.69s\tremaining: 1.98s\n",
      "795:\tlearn: 0.1274238\ttotal: 7.69s\tremaining: 1.97s\n",
      "796:\tlearn: 0.1273368\ttotal: 7.7s\tremaining: 1.96s\n",
      "797:\tlearn: 0.1272741\ttotal: 7.71s\tremaining: 1.95s\n",
      "798:\tlearn: 0.1272274\ttotal: 7.71s\tremaining: 1.94s\n",
      "799:\tlearn: 0.1271140\ttotal: 7.72s\tremaining: 1.93s\n",
      "800:\tlearn: 0.1270578\ttotal: 7.72s\tremaining: 1.92s\n",
      "801:\tlearn: 0.1270237\ttotal: 7.73s\tremaining: 1.91s\n",
      "802:\tlearn: 0.1269685\ttotal: 7.73s\tremaining: 1.9s\n",
      "803:\tlearn: 0.1269014\ttotal: 7.74s\tremaining: 1.89s\n",
      "804:\tlearn: 0.1268519\ttotal: 7.75s\tremaining: 1.88s\n",
      "805:\tlearn: 0.1268236\ttotal: 7.75s\tremaining: 1.86s\n",
      "806:\tlearn: 0.1267540\ttotal: 7.76s\tremaining: 1.85s\n",
      "807:\tlearn: 0.1267132\ttotal: 7.76s\tremaining: 1.84s\n",
      "808:\tlearn: 0.1266526\ttotal: 7.77s\tremaining: 1.83s\n",
      "809:\tlearn: 0.1265878\ttotal: 7.77s\tremaining: 1.82s\n",
      "810:\tlearn: 0.1265548\ttotal: 7.78s\tremaining: 1.81s\n",
      "811:\tlearn: 0.1264883\ttotal: 7.79s\tremaining: 1.8s\n",
      "812:\tlearn: 0.1264218\ttotal: 7.79s\tremaining: 1.79s\n",
      "813:\tlearn: 0.1264003\ttotal: 7.8s\tremaining: 1.78s\n",
      "814:\tlearn: 0.1263500\ttotal: 7.8s\tremaining: 1.77s\n",
      "815:\tlearn: 0.1262780\ttotal: 7.81s\tremaining: 1.76s\n",
      "816:\tlearn: 0.1261998\ttotal: 7.82s\tremaining: 1.75s\n",
      "817:\tlearn: 0.1261659\ttotal: 7.83s\tremaining: 1.74s\n",
      "818:\tlearn: 0.1261420\ttotal: 7.83s\tremaining: 1.73s\n",
      "819:\tlearn: 0.1261091\ttotal: 7.84s\tremaining: 1.72s\n",
      "820:\tlearn: 0.1260350\ttotal: 7.85s\tremaining: 1.71s\n",
      "821:\tlearn: 0.1259911\ttotal: 7.85s\tremaining: 1.7s\n",
      "822:\tlearn: 0.1259385\ttotal: 7.86s\tremaining: 1.69s\n",
      "823:\tlearn: 0.1258557\ttotal: 7.87s\tremaining: 1.68s\n",
      "824:\tlearn: 0.1258002\ttotal: 7.88s\tremaining: 1.67s\n",
      "825:\tlearn: 0.1257715\ttotal: 7.88s\tremaining: 1.66s\n",
      "826:\tlearn: 0.1257463\ttotal: 7.89s\tremaining: 1.65s\n",
      "827:\tlearn: 0.1256969\ttotal: 7.9s\tremaining: 1.64s\n",
      "828:\tlearn: 0.1256305\ttotal: 7.91s\tremaining: 1.63s\n",
      "829:\tlearn: 0.1255745\ttotal: 7.91s\tremaining: 1.62s\n",
      "830:\tlearn: 0.1255187\ttotal: 7.92s\tremaining: 1.61s\n",
      "831:\tlearn: 0.1254832\ttotal: 7.92s\tremaining: 1.6s\n",
      "832:\tlearn: 0.1254333\ttotal: 7.93s\tremaining: 1.59s\n",
      "833:\tlearn: 0.1253699\ttotal: 7.94s\tremaining: 1.58s\n",
      "834:\tlearn: 0.1253165\ttotal: 7.95s\tremaining: 1.57s\n",
      "835:\tlearn: 0.1252758\ttotal: 7.96s\tremaining: 1.56s\n",
      "836:\tlearn: 0.1252327\ttotal: 7.96s\tremaining: 1.55s\n",
      "837:\tlearn: 0.1251678\ttotal: 7.97s\tremaining: 1.54s\n",
      "838:\tlearn: 0.1251024\ttotal: 7.98s\tremaining: 1.53s\n",
      "839:\tlearn: 0.1250537\ttotal: 7.99s\tremaining: 1.52s\n",
      "840:\tlearn: 0.1250215\ttotal: 8s\tremaining: 1.51s\n",
      "841:\tlearn: 0.1249969\ttotal: 8.01s\tremaining: 1.5s\n",
      "842:\tlearn: 0.1249440\ttotal: 8.01s\tremaining: 1.49s\n",
      "843:\tlearn: 0.1249067\ttotal: 8.02s\tremaining: 1.48s\n"
     ]
    },
    {
     "name": "stdout",
     "output_type": "stream",
     "text": [
      "844:\tlearn: 0.1248428\ttotal: 8.03s\tremaining: 1.47s\n",
      "845:\tlearn: 0.1247584\ttotal: 8.04s\tremaining: 1.46s\n",
      "846:\tlearn: 0.1247075\ttotal: 8.04s\tremaining: 1.45s\n",
      "847:\tlearn: 0.1246813\ttotal: 8.05s\tremaining: 1.44s\n",
      "848:\tlearn: 0.1246112\ttotal: 8.06s\tremaining: 1.43s\n",
      "849:\tlearn: 0.1245685\ttotal: 8.07s\tremaining: 1.42s\n",
      "850:\tlearn: 0.1245012\ttotal: 8.08s\tremaining: 1.41s\n",
      "851:\tlearn: 0.1244209\ttotal: 8.09s\tremaining: 1.41s\n",
      "852:\tlearn: 0.1243719\ttotal: 8.1s\tremaining: 1.4s\n",
      "853:\tlearn: 0.1243492\ttotal: 8.11s\tremaining: 1.39s\n",
      "854:\tlearn: 0.1243089\ttotal: 8.11s\tremaining: 1.38s\n",
      "855:\tlearn: 0.1242527\ttotal: 8.12s\tremaining: 1.37s\n",
      "856:\tlearn: 0.1241810\ttotal: 8.13s\tremaining: 1.36s\n",
      "857:\tlearn: 0.1241176\ttotal: 8.14s\tremaining: 1.35s\n",
      "858:\tlearn: 0.1240566\ttotal: 8.14s\tremaining: 1.34s\n",
      "859:\tlearn: 0.1240074\ttotal: 8.15s\tremaining: 1.33s\n",
      "860:\tlearn: 0.1239493\ttotal: 8.16s\tremaining: 1.32s\n",
      "861:\tlearn: 0.1238969\ttotal: 8.16s\tremaining: 1.31s\n",
      "862:\tlearn: 0.1238348\ttotal: 8.17s\tremaining: 1.3s\n",
      "863:\tlearn: 0.1237924\ttotal: 8.18s\tremaining: 1.29s\n",
      "864:\tlearn: 0.1237464\ttotal: 8.19s\tremaining: 1.28s\n",
      "865:\tlearn: 0.1237025\ttotal: 8.2s\tremaining: 1.27s\n",
      "866:\tlearn: 0.1236568\ttotal: 8.2s\tremaining: 1.26s\n",
      "867:\tlearn: 0.1236061\ttotal: 8.21s\tremaining: 1.25s\n",
      "868:\tlearn: 0.1234999\ttotal: 8.22s\tremaining: 1.24s\n",
      "869:\tlearn: 0.1234397\ttotal: 8.23s\tremaining: 1.23s\n",
      "870:\tlearn: 0.1233821\ttotal: 8.23s\tremaining: 1.22s\n",
      "871:\tlearn: 0.1233340\ttotal: 8.24s\tremaining: 1.21s\n",
      "872:\tlearn: 0.1232512\ttotal: 8.25s\tremaining: 1.2s\n",
      "873:\tlearn: 0.1232094\ttotal: 8.26s\tremaining: 1.19s\n",
      "874:\tlearn: 0.1231882\ttotal: 8.27s\tremaining: 1.18s\n",
      "875:\tlearn: 0.1231315\ttotal: 8.28s\tremaining: 1.17s\n",
      "876:\tlearn: 0.1230615\ttotal: 8.28s\tremaining: 1.16s\n",
      "877:\tlearn: 0.1230145\ttotal: 8.29s\tremaining: 1.15s\n",
      "878:\tlearn: 0.1229723\ttotal: 8.3s\tremaining: 1.14s\n",
      "879:\tlearn: 0.1229257\ttotal: 8.31s\tremaining: 1.13s\n",
      "880:\tlearn: 0.1228541\ttotal: 8.31s\tremaining: 1.12s\n",
      "881:\tlearn: 0.1227986\ttotal: 8.32s\tremaining: 1.11s\n",
      "882:\tlearn: 0.1227643\ttotal: 8.33s\tremaining: 1.1s\n",
      "883:\tlearn: 0.1226539\ttotal: 8.34s\tremaining: 1.09s\n",
      "884:\tlearn: 0.1225842\ttotal: 8.35s\tremaining: 1.08s\n",
      "885:\tlearn: 0.1225178\ttotal: 8.35s\tremaining: 1.07s\n",
      "886:\tlearn: 0.1224741\ttotal: 8.36s\tremaining: 1.06s\n",
      "887:\tlearn: 0.1224196\ttotal: 8.37s\tremaining: 1.05s\n",
      "888:\tlearn: 0.1223397\ttotal: 8.37s\tremaining: 1.04s\n",
      "889:\tlearn: 0.1222630\ttotal: 8.38s\tremaining: 1.03s\n",
      "890:\tlearn: 0.1221966\ttotal: 8.39s\tremaining: 1.03s\n",
      "891:\tlearn: 0.1221421\ttotal: 8.39s\tremaining: 1.02s\n",
      "892:\tlearn: 0.1220973\ttotal: 8.4s\tremaining: 1.01s\n",
      "893:\tlearn: 0.1220343\ttotal: 8.41s\tremaining: 997ms\n",
      "894:\tlearn: 0.1220071\ttotal: 8.41s\tremaining: 987ms\n",
      "895:\tlearn: 0.1219633\ttotal: 8.42s\tremaining: 977ms\n",
      "896:\tlearn: 0.1219277\ttotal: 8.43s\tremaining: 968ms\n",
      "897:\tlearn: 0.1219151\ttotal: 8.43s\tremaining: 958ms\n",
      "898:\tlearn: 0.1218745\ttotal: 8.44s\tremaining: 948ms\n",
      "899:\tlearn: 0.1217987\ttotal: 8.45s\tremaining: 939ms\n",
      "900:\tlearn: 0.1217460\ttotal: 8.46s\tremaining: 929ms\n",
      "901:\tlearn: 0.1216799\ttotal: 8.47s\tremaining: 920ms\n",
      "902:\tlearn: 0.1216350\ttotal: 8.47s\tremaining: 910ms\n",
      "903:\tlearn: 0.1215947\ttotal: 8.48s\tremaining: 901ms\n",
      "904:\tlearn: 0.1215307\ttotal: 8.49s\tremaining: 892ms\n",
      "905:\tlearn: 0.1214792\ttotal: 8.5s\tremaining: 882ms\n",
      "906:\tlearn: 0.1214198\ttotal: 8.51s\tremaining: 872ms\n",
      "907:\tlearn: 0.1213947\ttotal: 8.52s\tremaining: 863ms\n",
      "908:\tlearn: 0.1213285\ttotal: 8.52s\tremaining: 853ms\n",
      "909:\tlearn: 0.1212745\ttotal: 8.53s\tremaining: 844ms\n",
      "910:\tlearn: 0.1212261\ttotal: 8.54s\tremaining: 834ms\n",
      "911:\tlearn: 0.1211747\ttotal: 8.54s\tremaining: 824ms\n",
      "912:\tlearn: 0.1211304\ttotal: 8.55s\tremaining: 815ms\n",
      "913:\tlearn: 0.1210652\ttotal: 8.56s\tremaining: 805ms\n",
      "914:\tlearn: 0.1210076\ttotal: 8.56s\tremaining: 796ms\n",
      "915:\tlearn: 0.1209865\ttotal: 8.57s\tremaining: 786ms\n",
      "916:\tlearn: 0.1209505\ttotal: 8.58s\tremaining: 777ms\n",
      "917:\tlearn: 0.1209068\ttotal: 8.59s\tremaining: 767ms\n",
      "918:\tlearn: 0.1208862\ttotal: 8.6s\tremaining: 758ms\n",
      "919:\tlearn: 0.1208527\ttotal: 8.6s\tremaining: 748ms\n",
      "920:\tlearn: 0.1208200\ttotal: 8.61s\tremaining: 739ms\n",
      "921:\tlearn: 0.1207759\ttotal: 8.62s\tremaining: 729ms\n",
      "922:\tlearn: 0.1207507\ttotal: 8.62s\tremaining: 719ms\n",
      "923:\tlearn: 0.1207066\ttotal: 8.63s\tremaining: 710ms\n",
      "924:\tlearn: 0.1206095\ttotal: 8.64s\tremaining: 700ms\n",
      "925:\tlearn: 0.1205633\ttotal: 8.65s\tremaining: 691ms\n",
      "926:\tlearn: 0.1205344\ttotal: 8.65s\tremaining: 681ms\n",
      "927:\tlearn: 0.1204698\ttotal: 8.66s\tremaining: 672ms\n",
      "928:\tlearn: 0.1203869\ttotal: 8.67s\tremaining: 663ms\n",
      "929:\tlearn: 0.1203431\ttotal: 8.68s\tremaining: 653ms\n",
      "930:\tlearn: 0.1202759\ttotal: 8.69s\tremaining: 644ms\n",
      "931:\tlearn: 0.1202349\ttotal: 8.7s\tremaining: 634ms\n",
      "932:\tlearn: 0.1201797\ttotal: 8.7s\tremaining: 625ms\n",
      "933:\tlearn: 0.1201501\ttotal: 8.71s\tremaining: 615ms\n",
      "934:\tlearn: 0.1200906\ttotal: 8.71s\tremaining: 606ms\n",
      "935:\tlearn: 0.1200455\ttotal: 8.72s\tremaining: 596ms\n",
      "936:\tlearn: 0.1199497\ttotal: 8.73s\tremaining: 587ms\n",
      "937:\tlearn: 0.1198872\ttotal: 8.73s\tremaining: 577ms\n",
      "938:\tlearn: 0.1198287\ttotal: 8.74s\tremaining: 568ms\n",
      "939:\tlearn: 0.1197737\ttotal: 8.75s\tremaining: 558ms\n",
      "940:\tlearn: 0.1197330\ttotal: 8.76s\tremaining: 549ms\n",
      "941:\tlearn: 0.1196814\ttotal: 8.76s\tremaining: 540ms\n",
      "942:\tlearn: 0.1195887\ttotal: 8.77s\tremaining: 530ms\n",
      "943:\tlearn: 0.1195450\ttotal: 8.78s\tremaining: 521ms\n",
      "944:\tlearn: 0.1195324\ttotal: 8.79s\tremaining: 511ms\n",
      "945:\tlearn: 0.1194698\ttotal: 8.8s\tremaining: 502ms\n",
      "946:\tlearn: 0.1194132\ttotal: 8.8s\tremaining: 493ms\n",
      "947:\tlearn: 0.1193794\ttotal: 8.81s\tremaining: 483ms\n",
      "948:\tlearn: 0.1193477\ttotal: 8.82s\tremaining: 474ms\n",
      "949:\tlearn: 0.1192839\ttotal: 8.83s\tremaining: 465ms\n",
      "950:\tlearn: 0.1192287\ttotal: 8.83s\tremaining: 455ms\n",
      "951:\tlearn: 0.1191678\ttotal: 8.84s\tremaining: 446ms\n",
      "952:\tlearn: 0.1191282\ttotal: 8.85s\tremaining: 436ms\n",
      "953:\tlearn: 0.1190838\ttotal: 8.86s\tremaining: 427ms\n",
      "954:\tlearn: 0.1190303\ttotal: 8.87s\tremaining: 418ms\n",
      "955:\tlearn: 0.1189699\ttotal: 8.88s\tremaining: 408ms\n",
      "956:\tlearn: 0.1189205\ttotal: 8.88s\tremaining: 399ms\n",
      "957:\tlearn: 0.1188659\ttotal: 8.89s\tremaining: 390ms\n",
      "958:\tlearn: 0.1187818\ttotal: 8.9s\tremaining: 380ms\n",
      "959:\tlearn: 0.1187545\ttotal: 8.91s\tremaining: 371ms\n",
      "960:\tlearn: 0.1187217\ttotal: 8.91s\tremaining: 362ms\n",
      "961:\tlearn: 0.1186787\ttotal: 8.92s\tremaining: 352ms\n",
      "962:\tlearn: 0.1186408\ttotal: 8.93s\tremaining: 343ms\n",
      "963:\tlearn: 0.1186010\ttotal: 8.94s\tremaining: 334ms\n",
      "964:\tlearn: 0.1185519\ttotal: 8.94s\tremaining: 324ms\n",
      "965:\tlearn: 0.1185036\ttotal: 8.95s\tremaining: 315ms\n",
      "966:\tlearn: 0.1184629\ttotal: 8.96s\tremaining: 306ms\n",
      "967:\tlearn: 0.1184135\ttotal: 8.97s\tremaining: 296ms\n",
      "968:\tlearn: 0.1183524\ttotal: 8.97s\tremaining: 287ms\n",
      "969:\tlearn: 0.1183184\ttotal: 8.98s\tremaining: 278ms\n",
      "970:\tlearn: 0.1182661\ttotal: 8.99s\tremaining: 268ms\n",
      "971:\tlearn: 0.1182158\ttotal: 8.99s\tremaining: 259ms\n",
      "972:\tlearn: 0.1181492\ttotal: 9s\tremaining: 250ms\n",
      "973:\tlearn: 0.1181037\ttotal: 9.01s\tremaining: 241ms\n",
      "974:\tlearn: 0.1180790\ttotal: 9.02s\tremaining: 231ms\n",
      "975:\tlearn: 0.1180571\ttotal: 9.02s\tremaining: 222ms\n",
      "976:\tlearn: 0.1179996\ttotal: 9.03s\tremaining: 213ms\n",
      "977:\tlearn: 0.1179388\ttotal: 9.04s\tremaining: 203ms\n",
      "978:\tlearn: 0.1178645\ttotal: 9.05s\tremaining: 194ms\n",
      "979:\tlearn: 0.1177996\ttotal: 9.05s\tremaining: 185ms\n",
      "980:\tlearn: 0.1177712\ttotal: 9.06s\tremaining: 175ms\n",
      "981:\tlearn: 0.1177175\ttotal: 9.07s\tremaining: 166ms\n",
      "982:\tlearn: 0.1176977\ttotal: 9.07s\tremaining: 157ms\n",
      "983:\tlearn: 0.1176638\ttotal: 9.08s\tremaining: 148ms\n",
      "984:\tlearn: 0.1176109\ttotal: 9.09s\tremaining: 138ms\n",
      "985:\tlearn: 0.1175751\ttotal: 9.1s\tremaining: 129ms\n",
      "986:\tlearn: 0.1175501\ttotal: 9.11s\tremaining: 120ms\n",
      "987:\tlearn: 0.1175318\ttotal: 9.12s\tremaining: 111ms\n",
      "988:\tlearn: 0.1174586\ttotal: 9.12s\tremaining: 101ms\n",
      "989:\tlearn: 0.1174177\ttotal: 9.13s\tremaining: 92.2ms\n",
      "990:\tlearn: 0.1173836\ttotal: 9.14s\tremaining: 83ms\n",
      "991:\tlearn: 0.1173396\ttotal: 9.14s\tremaining: 73.7ms\n",
      "992:\tlearn: 0.1172810\ttotal: 9.15s\tremaining: 64.5ms\n",
      "993:\tlearn: 0.1172437\ttotal: 9.16s\tremaining: 55.3ms\n",
      "994:\tlearn: 0.1172039\ttotal: 9.17s\tremaining: 46.1ms\n",
      "995:\tlearn: 0.1171597\ttotal: 9.17s\tremaining: 36.8ms\n",
      "996:\tlearn: 0.1171097\ttotal: 9.18s\tremaining: 27.6ms\n",
      "997:\tlearn: 0.1170619\ttotal: 9.19s\tremaining: 18.4ms\n",
      "998:\tlearn: 0.1170014\ttotal: 9.2s\tremaining: 9.2ms\n",
      "999:\tlearn: 0.1169646\ttotal: 9.2s\tremaining: 0us\n",
      "Model saved\n"
     ]
    }
   ],
   "source": [
    "model_cat = fit_CatBoost(X_train, y_train)\n"
   ]
  },
  {
   "cell_type": "code",
   "execution_count": 48,
   "metadata": {},
   "outputs": [],
   "source": [
    "predictions = model_cat.predict(X_test)"
   ]
  },
  {
   "cell_type": "code",
   "execution_count": 49,
   "metadata": {
    "scrolled": true
   },
   "outputs": [
    {
     "name": "stdout",
     "output_type": "stream",
     "text": [
      "Accuracy: 0.92\n"
     ]
    }
   ],
   "source": [
    "accuracy = (predictions == y_test).mean()\n",
    "print(f\"Accuracy: {accuracy:.2f}\")"
   ]
  },
  {
   "cell_type": "markdown",
   "metadata": {},
   "source": [
    "-------------------------------------------------------------------------------------------------------------------------------"
   ]
  },
  {
   "cell_type": "markdown",
   "metadata": {},
   "source": [
    "\n",
    "## Código para el servidor"
   ]
  },
  {
   "cell_type": "code",
   "execution_count": null,
   "metadata": {},
   "outputs": [],
   "source": [
    "import predictions as pr\n",
    "# From package\n",
    "Existing_Customer = [3, 1, 3, 1144,1.625,0.061]\n",
    "Attrited_Customer = [0, 3, 3, 692,0.6,0]\n",
    "pr.predict(Attrited_Customer)"
   ]
  },
  {
   "cell_type": "code",
   "execution_count": null,
   "metadata": {
    "scrolled": true
   },
   "outputs": [],
   "source": [
    "pr.predict(Existing_Customer)"
   ]
  },
  {
   "cell_type": "code",
   "execution_count": null,
   "metadata": {},
   "outputs": [],
   "source": [
    "!python app.py"
   ]
  },
  {
   "cell_type": "code",
   "execution_count": 50,
   "metadata": {},
   "outputs": [
    {
     "data": {
      "text/plain": [
       "{'Attrition_Flag': 'Existing_Customer',\n",
       " 'sample': ['3', '1', '3', '1144', '1.625', '0.061']}"
      ]
     },
     "execution_count": 50,
     "metadata": {},
     "output_type": "execute_result"
    }
   ],
   "source": [
    "# Browser with Public DNS.\n",
    "# Existing_Customer\n",
    "req.get('http://localhost:5000/classify?Dependent_count=3&Months_Inactive_12_mon=1&Contacts_Count_12_mon=3&Total_Trans_Amt=1144&Total_Ct_Chng_Q4_Q1=1.625&Avg_Utilization_Ratio=0.061').json()"
   ]
  },
  {
   "cell_type": "code",
   "execution_count": 51,
   "metadata": {},
   "outputs": [
    {
     "data": {
      "text/plain": [
       "{'Attrition_Flag': 'Attrited_Customer',\n",
       " 'sample': ['0', '3', '3', '692', '0.65', '0']}"
      ]
     },
     "execution_count": 51,
     "metadata": {},
     "output_type": "execute_result"
    }
   ],
   "source": [
    "# Browser with Public DNS.\n",
    "# Attrited_Customer\n",
    "req.get('http://localhost:5000/classify?Dependent_count=0&Months_Inactive_12_mon=3&Contacts_Count_12_mon=3&Total_Trans_Amt=692&Total_Ct_Chng_Q4_Q1=0.65&Avg_Utilization_Ratio=0').json()"
   ]
  },
  {
   "cell_type": "markdown",
   "metadata": {},
   "source": [
    "## Packaging & Deploy"
   ]
  },
  {
   "cell_type": "code",
   "execution_count": null,
   "metadata": {},
   "outputs": [],
   "source": [
    "# 1.Create virtual environment with new python executable\n",
    "virtualenv env --python=python3.10"
   ]
  },
  {
   "cell_type": "code",
   "execution_count": null,
   "metadata": {},
   "outputs": [],
   "source": [
    "# 2.Activate it, prompt changes\n",
    "#source env/bin/activate #esto es en linux\n",
    "# In Windows, primero cambiar al path de la carpeta env \n",
    "cd env\\scripts"
   ]
  },
  {
   "cell_type": "code",
   "execution_count": null,
   "metadata": {},
   "outputs": [],
   "source": [
    "# 3.activate\n",
    "activate #windows cuando se activa el promt muestra (env) (python-3.11)"
   ]
  },
  {
   "cell_type": "code",
   "execution_count": null,
   "metadata": {},
   "outputs": [],
   "source": [
    "# 4.Install all dependencies in requirements.txt\n",
    "cd..\n",
    "cd..\n",
    "pip install -r requirements.txt"
   ]
  },
  {
   "cell_type": "code",
   "execution_count": null,
   "metadata": {},
   "outputs": [],
   "source": [
    "# 5. Test the app inside virtual environment, stop the above execution in terminal, show the log\n",
    "python app.py"
   ]
  },
  {
   "cell_type": "code",
   "execution_count": null,
   "metadata": {},
   "outputs": [],
   "source": [
    "#6. ip the app\n",
    "#In Windows\n",
    "\"C:\\Program Files\\7-Zip\\7z.exe\" a -tzip model-POC-in-production.zip app.py predictions.py aws_utils.py config.py requirements.txt dist"
   ]
  },
  {
   "cell_type": "markdown",
   "metadata": {},
   "source": [
    "## Instancia de AWS - Deploy en EC2"
   ]
  },
  {
   "cell_type": "code",
   "execution_count": null,
   "metadata": {},
   "outputs": [],
   "source": [
    "#En windows con putty, convertir certificado privado .pem a ppk\n",
    "#login as: ubuntu"
   ]
  },
  {
   "cell_type": "markdown",
   "metadata": {},
   "source": [
    "###### Cloud: Install python 3.10, pip. virtualenv and unzip"
   ]
  },
  {
   "cell_type": "code",
   "execution_count": null,
   "metadata": {},
   "outputs": [],
   "source": [
    "sudo add-apt-repository ppa:deadsnakes/ppa && sudo apt-get update && sudo apt-get install -y unzip python3.10 python3-pip virtualenv"
   ]
  },
  {
   "cell_type": "code",
   "execution_count": null,
   "metadata": {},
   "outputs": [],
   "source": [
    "# A little shorcut\n",
    "alias python=python3"
   ]
  },
  {
   "cell_type": "markdown",
   "metadata": {},
   "source": [
    "##### Local en windows con cmd o Powershell usando Putty # Dir donde esta Putty "
   ]
  },
  {
   "cell_type": "code",
   "execution_count": null,
   "metadata": {},
   "outputs": [],
   "source": [
    "cd \"C:\\Program Files\\PuTTY\"\n",
    "\n",
    "#Con PowerShell\n",
    "./pscp -i C:\\Users\\desim\\Documents\\MMA\\Imp-App-Nube\\SSH\\labsuser.ppk \"C:\\Users\\desim\\Documents\\MMA\\Imp-App-Nube\\Trabajo Final\\model-POC-in-production.zip\" ubuntu@ec2-34-226-207-234.compute-1.amazonaws.com:/home/ubuntu"
   ]
  },
  {
   "cell_type": "markdown",
   "metadata": {},
   "source": [
    "###### Cloud: Unzip"
   ]
  },
  {
   "cell_type": "code",
   "execution_count": null,
   "metadata": {},
   "outputs": [],
   "source": [
    "unzip -o model-POC-in-production.zip"
   ]
  },
  {
   "cell_type": "markdown",
   "metadata": {},
   "source": [
    "###### Cloud: TEST"
   ]
  },
  {
   "cell_type": "code",
   "execution_count": null,
   "metadata": {},
   "outputs": [],
   "source": [
    "virtualenv env --python=python3.10\n",
    "source env/bin/activate\n",
    "pip install -r requirements.txt --no-cache-dir\n",
    "python app.py"
   ]
  }
 ],
 "metadata": {
  "colab": {
   "provenance": []
  },
  "kernelspec": {
   "display_name": "python-3.10",
   "language": "python",
   "name": "python-3.10"
  },
  "language_info": {
   "codemirror_mode": {
    "name": "ipython",
    "version": 3
   },
   "file_extension": ".py",
   "mimetype": "text/x-python",
   "name": "python",
   "nbconvert_exporter": "python",
   "pygments_lexer": "ipython3",
   "version": "3.10.13"
  },
  "widgets": {
   "application/vnd.jupyter.widget-state+json": {
    "08f7b72df5ab4b0597254404a49c5df4": {
     "model_module": "@jupyter-widgets/controls",
     "model_module_version": "1.5.0",
     "model_name": "FloatProgressModel",
     "state": {
      "_dom_classes": [],
      "_model_module": "@jupyter-widgets/controls",
      "_model_module_version": "1.5.0",
      "_model_name": "FloatProgressModel",
      "_view_count": null,
      "_view_module": "@jupyter-widgets/controls",
      "_view_module_version": "1.5.0",
      "_view_name": "ProgressView",
      "bar_style": "success",
      "description": "",
      "description_tooltip": null,
      "layout": "IPY_MODEL_23540457a8b842ddad3208650c1e088e",
      "max": 1,
      "min": 0,
      "orientation": "horizontal",
      "style": "IPY_MODEL_fc5ae9be7ad2401a852f4d2a0b34c824",
      "value": 1
     }
    },
    "0fa89efc476b4677a95daef749e7fdd9": {
     "model_module": "@jupyter-widgets/controls",
     "model_module_version": "1.5.0",
     "model_name": "HTMLModel",
     "state": {
      "_dom_classes": [],
      "_model_module": "@jupyter-widgets/controls",
      "_model_module_version": "1.5.0",
      "_model_name": "HTMLModel",
      "_view_count": null,
      "_view_module": "@jupyter-widgets/controls",
      "_view_module_version": "1.5.0",
      "_view_name": "HTMLView",
      "description": "",
      "description_tooltip": null,
      "layout": "IPY_MODEL_e5763424b04649e99a2018c54f63f1b8",
      "placeholder": "​",
      "style": "IPY_MODEL_a60d714c213e44aca3af2966c195b886",
      "value": " 1/1 [00:05&lt;00:00,  5.09s/it]"
     }
    },
    "1f4f5b8f4d574d08b2ebe97e1ff5886b": {
     "model_module": "@jupyter-widgets/base",
     "model_module_version": "1.2.0",
     "model_name": "LayoutModel",
     "state": {
      "_model_module": "@jupyter-widgets/base",
      "_model_module_version": "1.2.0",
      "_model_name": "LayoutModel",
      "_view_count": null,
      "_view_module": "@jupyter-widgets/base",
      "_view_module_version": "1.2.0",
      "_view_name": "LayoutView",
      "align_content": null,
      "align_items": null,
      "align_self": null,
      "border": null,
      "bottom": null,
      "display": null,
      "flex": null,
      "flex_flow": null,
      "grid_area": null,
      "grid_auto_columns": null,
      "grid_auto_flow": null,
      "grid_auto_rows": null,
      "grid_column": null,
      "grid_gap": null,
      "grid_row": null,
      "grid_template_areas": null,
      "grid_template_columns": null,
      "grid_template_rows": null,
      "height": null,
      "justify_content": null,
      "justify_items": null,
      "left": null,
      "margin": null,
      "max_height": null,
      "max_width": null,
      "min_height": null,
      "min_width": null,
      "object_fit": null,
      "object_position": null,
      "order": null,
      "overflow": null,
      "overflow_x": null,
      "overflow_y": null,
      "padding": null,
      "right": null,
      "top": null,
      "visibility": null,
      "width": null
     }
    },
    "1f6d8ad5f442414a98d6df93dda470e3": {
     "model_module": "@jupyter-widgets/controls",
     "model_module_version": "1.5.0",
     "model_name": "HBoxModel",
     "state": {
      "_dom_classes": [],
      "_model_module": "@jupyter-widgets/controls",
      "_model_module_version": "1.5.0",
      "_model_name": "HBoxModel",
      "_view_count": null,
      "_view_module": "@jupyter-widgets/controls",
      "_view_module_version": "1.5.0",
      "_view_name": "HBoxView",
      "box_style": "",
      "children": [
       "IPY_MODEL_c69415079a8044bb840e7c0e4a6b95e8",
       "IPY_MODEL_85564ba366ac4cedbbee40aa876a7cad",
       "IPY_MODEL_b9fc3bf99ce242bbb48c7310b6d8bbd0"
      ],
      "layout": "IPY_MODEL_7df01098e7044979ae0b6fda4f0c0f54"
     }
    },
    "23540457a8b842ddad3208650c1e088e": {
     "model_module": "@jupyter-widgets/base",
     "model_module_version": "1.2.0",
     "model_name": "LayoutModel",
     "state": {
      "_model_module": "@jupyter-widgets/base",
      "_model_module_version": "1.2.0",
      "_model_name": "LayoutModel",
      "_view_count": null,
      "_view_module": "@jupyter-widgets/base",
      "_view_module_version": "1.2.0",
      "_view_name": "LayoutView",
      "align_content": null,
      "align_items": null,
      "align_self": null,
      "border": null,
      "bottom": null,
      "display": null,
      "flex": null,
      "flex_flow": null,
      "grid_area": null,
      "grid_auto_columns": null,
      "grid_auto_flow": null,
      "grid_auto_rows": null,
      "grid_column": null,
      "grid_gap": null,
      "grid_row": null,
      "grid_template_areas": null,
      "grid_template_columns": null,
      "grid_template_rows": null,
      "height": null,
      "justify_content": null,
      "justify_items": null,
      "left": null,
      "margin": null,
      "max_height": null,
      "max_width": null,
      "min_height": null,
      "min_width": null,
      "object_fit": null,
      "object_position": null,
      "order": null,
      "overflow": null,
      "overflow_x": null,
      "overflow_y": null,
      "padding": null,
      "right": null,
      "top": null,
      "visibility": null,
      "width": null
     }
    },
    "29acfbd4eef349ccba8ac5e124c56732": {
     "model_module": "@jupyter-widgets/base",
     "model_module_version": "1.2.0",
     "model_name": "LayoutModel",
     "state": {
      "_model_module": "@jupyter-widgets/base",
      "_model_module_version": "1.2.0",
      "_model_name": "LayoutModel",
      "_view_count": null,
      "_view_module": "@jupyter-widgets/base",
      "_view_module_version": "1.2.0",
      "_view_name": "LayoutView",
      "align_content": null,
      "align_items": null,
      "align_self": null,
      "border": null,
      "bottom": null,
      "display": null,
      "flex": null,
      "flex_flow": null,
      "grid_area": null,
      "grid_auto_columns": null,
      "grid_auto_flow": null,
      "grid_auto_rows": null,
      "grid_column": null,
      "grid_gap": null,
      "grid_row": null,
      "grid_template_areas": null,
      "grid_template_columns": null,
      "grid_template_rows": null,
      "height": null,
      "justify_content": null,
      "justify_items": null,
      "left": null,
      "margin": null,
      "max_height": null,
      "max_width": null,
      "min_height": null,
      "min_width": null,
      "object_fit": null,
      "object_position": null,
      "order": null,
      "overflow": null,
      "overflow_x": null,
      "overflow_y": null,
      "padding": null,
      "right": null,
      "top": null,
      "visibility": null,
      "width": null
     }
    },
    "2f7ae07378d14d789d8bbc792b65f555": {
     "model_module": "@jupyter-widgets/base",
     "model_module_version": "1.2.0",
     "model_name": "LayoutModel",
     "state": {
      "_model_module": "@jupyter-widgets/base",
      "_model_module_version": "1.2.0",
      "_model_name": "LayoutModel",
      "_view_count": null,
      "_view_module": "@jupyter-widgets/base",
      "_view_module_version": "1.2.0",
      "_view_name": "LayoutView",
      "align_content": null,
      "align_items": null,
      "align_self": null,
      "border": null,
      "bottom": null,
      "display": null,
      "flex": null,
      "flex_flow": null,
      "grid_area": null,
      "grid_auto_columns": null,
      "grid_auto_flow": null,
      "grid_auto_rows": null,
      "grid_column": null,
      "grid_gap": null,
      "grid_row": null,
      "grid_template_areas": null,
      "grid_template_columns": null,
      "grid_template_rows": null,
      "height": null,
      "justify_content": null,
      "justify_items": null,
      "left": null,
      "margin": null,
      "max_height": null,
      "max_width": null,
      "min_height": null,
      "min_width": null,
      "object_fit": null,
      "object_position": null,
      "order": null,
      "overflow": null,
      "overflow_x": null,
      "overflow_y": null,
      "padding": null,
      "right": null,
      "top": null,
      "visibility": null,
      "width": null
     }
    },
    "36b46dda5fbb43af93a65881db6e5205": {
     "model_module": "@jupyter-widgets/controls",
     "model_module_version": "1.5.0",
     "model_name": "HBoxModel",
     "state": {
      "_dom_classes": [],
      "_model_module": "@jupyter-widgets/controls",
      "_model_module_version": "1.5.0",
      "_model_name": "HBoxModel",
      "_view_count": null,
      "_view_module": "@jupyter-widgets/controls",
      "_view_module_version": "1.5.0",
      "_view_name": "HBoxView",
      "box_style": "",
      "children": [
       "IPY_MODEL_f84abd5b69e34500a99e238d737cadc7",
       "IPY_MODEL_bd2c72ea54ab4ec39360aa022a7aeb1c",
       "IPY_MODEL_0fa89efc476b4677a95daef749e7fdd9"
      ],
      "layout": "IPY_MODEL_1f4f5b8f4d574d08b2ebe97e1ff5886b"
     }
    },
    "3a4e96f70492424c8867d7c259a687ed": {
     "model_module": "@jupyter-widgets/base",
     "model_module_version": "1.2.0",
     "model_name": "LayoutModel",
     "state": {
      "_model_module": "@jupyter-widgets/base",
      "_model_module_version": "1.2.0",
      "_model_name": "LayoutModel",
      "_view_count": null,
      "_view_module": "@jupyter-widgets/base",
      "_view_module_version": "1.2.0",
      "_view_name": "LayoutView",
      "align_content": null,
      "align_items": null,
      "align_self": null,
      "border": null,
      "bottom": null,
      "display": null,
      "flex": null,
      "flex_flow": null,
      "grid_area": null,
      "grid_auto_columns": null,
      "grid_auto_flow": null,
      "grid_auto_rows": null,
      "grid_column": null,
      "grid_gap": null,
      "grid_row": null,
      "grid_template_areas": null,
      "grid_template_columns": null,
      "grid_template_rows": null,
      "height": null,
      "justify_content": null,
      "justify_items": null,
      "left": null,
      "margin": null,
      "max_height": null,
      "max_width": null,
      "min_height": null,
      "min_width": null,
      "object_fit": null,
      "object_position": null,
      "order": null,
      "overflow": null,
      "overflow_x": null,
      "overflow_y": null,
      "padding": null,
      "right": null,
      "top": null,
      "visibility": null,
      "width": null
     }
    },
    "543028be50d84340a169df30d90f3e39": {
     "model_module": "@jupyter-widgets/controls",
     "model_module_version": "1.5.0",
     "model_name": "DescriptionStyleModel",
     "state": {
      "_model_module": "@jupyter-widgets/controls",
      "_model_module_version": "1.5.0",
      "_model_name": "DescriptionStyleModel",
      "_view_count": null,
      "_view_module": "@jupyter-widgets/base",
      "_view_module_version": "1.2.0",
      "_view_name": "StyleView",
      "description_width": ""
     }
    },
    "58bbd4f66c444f0fb0fe9e4f2a424a6f": {
     "model_module": "@jupyter-widgets/base",
     "model_module_version": "1.2.0",
     "model_name": "LayoutModel",
     "state": {
      "_model_module": "@jupyter-widgets/base",
      "_model_module_version": "1.2.0",
      "_model_name": "LayoutModel",
      "_view_count": null,
      "_view_module": "@jupyter-widgets/base",
      "_view_module_version": "1.2.0",
      "_view_name": "LayoutView",
      "align_content": null,
      "align_items": null,
      "align_self": null,
      "border": null,
      "bottom": null,
      "display": null,
      "flex": null,
      "flex_flow": null,
      "grid_area": null,
      "grid_auto_columns": null,
      "grid_auto_flow": null,
      "grid_auto_rows": null,
      "grid_column": null,
      "grid_gap": null,
      "grid_row": null,
      "grid_template_areas": null,
      "grid_template_columns": null,
      "grid_template_rows": null,
      "height": null,
      "justify_content": null,
      "justify_items": null,
      "left": null,
      "margin": null,
      "max_height": null,
      "max_width": null,
      "min_height": null,
      "min_width": null,
      "object_fit": null,
      "object_position": null,
      "order": null,
      "overflow": null,
      "overflow_x": null,
      "overflow_y": null,
      "padding": null,
      "right": null,
      "top": null,
      "visibility": null,
      "width": null
     }
    },
    "5ee19a563df74a6ca0dc38a46993ec40": {
     "model_module": "@jupyter-widgets/controls",
     "model_module_version": "1.5.0",
     "model_name": "HTMLModel",
     "state": {
      "_dom_classes": [],
      "_model_module": "@jupyter-widgets/controls",
      "_model_module_version": "1.5.0",
      "_model_name": "HTMLModel",
      "_view_count": null,
      "_view_module": "@jupyter-widgets/controls",
      "_view_module_version": "1.5.0",
      "_view_name": "HTMLView",
      "description": "",
      "description_tooltip": null,
      "layout": "IPY_MODEL_a3b4247ccd414c3589f1c717d07fdd42",
      "placeholder": "​",
      "style": "IPY_MODEL_78add2c4ec184b67948b9f6dd92d55f4",
      "value": "Generate report structure: 100%"
     }
    },
    "67923f4aafc8493c9fa9aac5d90da48a": {
     "model_module": "@jupyter-widgets/controls",
     "model_module_version": "1.5.0",
     "model_name": "HBoxModel",
     "state": {
      "_dom_classes": [],
      "_model_module": "@jupyter-widgets/controls",
      "_model_module_version": "1.5.0",
      "_model_name": "HBoxModel",
      "_view_count": null,
      "_view_module": "@jupyter-widgets/controls",
      "_view_module_version": "1.5.0",
      "_view_name": "HBoxView",
      "box_style": "",
      "children": [
       "IPY_MODEL_5ee19a563df74a6ca0dc38a46993ec40",
       "IPY_MODEL_08f7b72df5ab4b0597254404a49c5df4",
       "IPY_MODEL_912c617004ae4f1585324b07a605e221"
      ],
      "layout": "IPY_MODEL_2f7ae07378d14d789d8bbc792b65f555"
     }
    },
    "78add2c4ec184b67948b9f6dd92d55f4": {
     "model_module": "@jupyter-widgets/controls",
     "model_module_version": "1.5.0",
     "model_name": "DescriptionStyleModel",
     "state": {
      "_model_module": "@jupyter-widgets/controls",
      "_model_module_version": "1.5.0",
      "_model_name": "DescriptionStyleModel",
      "_view_count": null,
      "_view_module": "@jupyter-widgets/base",
      "_view_module_version": "1.2.0",
      "_view_name": "StyleView",
      "description_width": ""
     }
    },
    "7df01098e7044979ae0b6fda4f0c0f54": {
     "model_module": "@jupyter-widgets/base",
     "model_module_version": "1.2.0",
     "model_name": "LayoutModel",
     "state": {
      "_model_module": "@jupyter-widgets/base",
      "_model_module_version": "1.2.0",
      "_model_name": "LayoutModel",
      "_view_count": null,
      "_view_module": "@jupyter-widgets/base",
      "_view_module_version": "1.2.0",
      "_view_name": "LayoutView",
      "align_content": null,
      "align_items": null,
      "align_self": null,
      "border": null,
      "bottom": null,
      "display": null,
      "flex": null,
      "flex_flow": null,
      "grid_area": null,
      "grid_auto_columns": null,
      "grid_auto_flow": null,
      "grid_auto_rows": null,
      "grid_column": null,
      "grid_gap": null,
      "grid_row": null,
      "grid_template_areas": null,
      "grid_template_columns": null,
      "grid_template_rows": null,
      "height": null,
      "justify_content": null,
      "justify_items": null,
      "left": null,
      "margin": null,
      "max_height": null,
      "max_width": null,
      "min_height": null,
      "min_width": null,
      "object_fit": null,
      "object_position": null,
      "order": null,
      "overflow": null,
      "overflow_x": null,
      "overflow_y": null,
      "padding": null,
      "right": null,
      "top": null,
      "visibility": null,
      "width": null
     }
    },
    "85564ba366ac4cedbbee40aa876a7cad": {
     "model_module": "@jupyter-widgets/controls",
     "model_module_version": "1.5.0",
     "model_name": "FloatProgressModel",
     "state": {
      "_dom_classes": [],
      "_model_module": "@jupyter-widgets/controls",
      "_model_module_version": "1.5.0",
      "_model_name": "FloatProgressModel",
      "_view_count": null,
      "_view_module": "@jupyter-widgets/controls",
      "_view_module_version": "1.5.0",
      "_view_name": "ProgressView",
      "bar_style": "success",
      "description": "",
      "description_tooltip": null,
      "layout": "IPY_MODEL_3a4e96f70492424c8867d7c259a687ed",
      "max": 5,
      "min": 0,
      "orientation": "horizontal",
      "style": "IPY_MODEL_8859cbbe4100446cb2ceebddcc27c661",
      "value": 5
     }
    },
    "8859cbbe4100446cb2ceebddcc27c661": {
     "model_module": "@jupyter-widgets/controls",
     "model_module_version": "1.5.0",
     "model_name": "ProgressStyleModel",
     "state": {
      "_model_module": "@jupyter-widgets/controls",
      "_model_module_version": "1.5.0",
      "_model_name": "ProgressStyleModel",
      "_view_count": null,
      "_view_module": "@jupyter-widgets/base",
      "_view_module_version": "1.2.0",
      "_view_name": "StyleView",
      "bar_color": null,
      "description_width": ""
     }
    },
    "912c617004ae4f1585324b07a605e221": {
     "model_module": "@jupyter-widgets/controls",
     "model_module_version": "1.5.0",
     "model_name": "HTMLModel",
     "state": {
      "_dom_classes": [],
      "_model_module": "@jupyter-widgets/controls",
      "_model_module_version": "1.5.0",
      "_model_name": "HTMLModel",
      "_view_count": null,
      "_view_module": "@jupyter-widgets/controls",
      "_view_module_version": "1.5.0",
      "_view_name": "HTMLView",
      "description": "",
      "description_tooltip": null,
      "layout": "IPY_MODEL_58bbd4f66c444f0fb0fe9e4f2a424a6f",
      "placeholder": "​",
      "style": "IPY_MODEL_cb3e23a32b6d44debb8b27ffe54ad9fa",
      "value": " 1/1 [00:08&lt;00:00,  8.06s/it]"
     }
    },
    "946b92d1f6cf416ba3842a99529f2d58": {
     "model_module": "@jupyter-widgets/controls",
     "model_module_version": "1.5.0",
     "model_name": "DescriptionStyleModel",
     "state": {
      "_model_module": "@jupyter-widgets/controls",
      "_model_module_version": "1.5.0",
      "_model_name": "DescriptionStyleModel",
      "_view_count": null,
      "_view_module": "@jupyter-widgets/base",
      "_view_module_version": "1.2.0",
      "_view_name": "StyleView",
      "description_width": ""
     }
    },
    "965299d3ac7b4ccba6317e5360f7b87b": {
     "model_module": "@jupyter-widgets/base",
     "model_module_version": "1.2.0",
     "model_name": "LayoutModel",
     "state": {
      "_model_module": "@jupyter-widgets/base",
      "_model_module_version": "1.2.0",
      "_model_name": "LayoutModel",
      "_view_count": null,
      "_view_module": "@jupyter-widgets/base",
      "_view_module_version": "1.2.0",
      "_view_name": "LayoutView",
      "align_content": null,
      "align_items": null,
      "align_self": null,
      "border": null,
      "bottom": null,
      "display": null,
      "flex": null,
      "flex_flow": null,
      "grid_area": null,
      "grid_auto_columns": null,
      "grid_auto_flow": null,
      "grid_auto_rows": null,
      "grid_column": null,
      "grid_gap": null,
      "grid_row": null,
      "grid_template_areas": null,
      "grid_template_columns": null,
      "grid_template_rows": null,
      "height": null,
      "justify_content": null,
      "justify_items": null,
      "left": null,
      "margin": null,
      "max_height": null,
      "max_width": null,
      "min_height": null,
      "min_width": null,
      "object_fit": null,
      "object_position": null,
      "order": null,
      "overflow": null,
      "overflow_x": null,
      "overflow_y": null,
      "padding": null,
      "right": null,
      "top": null,
      "visibility": null,
      "width": null
     }
    },
    "a0fb75b2a6b34d4cb2964eb0ec46266d": {
     "model_module": "@jupyter-widgets/base",
     "model_module_version": "1.2.0",
     "model_name": "LayoutModel",
     "state": {
      "_model_module": "@jupyter-widgets/base",
      "_model_module_version": "1.2.0",
      "_model_name": "LayoutModel",
      "_view_count": null,
      "_view_module": "@jupyter-widgets/base",
      "_view_module_version": "1.2.0",
      "_view_name": "LayoutView",
      "align_content": null,
      "align_items": null,
      "align_self": null,
      "border": null,
      "bottom": null,
      "display": null,
      "flex": null,
      "flex_flow": null,
      "grid_area": null,
      "grid_auto_columns": null,
      "grid_auto_flow": null,
      "grid_auto_rows": null,
      "grid_column": null,
      "grid_gap": null,
      "grid_row": null,
      "grid_template_areas": null,
      "grid_template_columns": null,
      "grid_template_rows": null,
      "height": null,
      "justify_content": null,
      "justify_items": null,
      "left": null,
      "margin": null,
      "max_height": null,
      "max_width": null,
      "min_height": null,
      "min_width": null,
      "object_fit": null,
      "object_position": null,
      "order": null,
      "overflow": null,
      "overflow_x": null,
      "overflow_y": null,
      "padding": null,
      "right": null,
      "top": null,
      "visibility": null,
      "width": null
     }
    },
    "a3b4247ccd414c3589f1c717d07fdd42": {
     "model_module": "@jupyter-widgets/base",
     "model_module_version": "1.2.0",
     "model_name": "LayoutModel",
     "state": {
      "_model_module": "@jupyter-widgets/base",
      "_model_module_version": "1.2.0",
      "_model_name": "LayoutModel",
      "_view_count": null,
      "_view_module": "@jupyter-widgets/base",
      "_view_module_version": "1.2.0",
      "_view_name": "LayoutView",
      "align_content": null,
      "align_items": null,
      "align_self": null,
      "border": null,
      "bottom": null,
      "display": null,
      "flex": null,
      "flex_flow": null,
      "grid_area": null,
      "grid_auto_columns": null,
      "grid_auto_flow": null,
      "grid_auto_rows": null,
      "grid_column": null,
      "grid_gap": null,
      "grid_row": null,
      "grid_template_areas": null,
      "grid_template_columns": null,
      "grid_template_rows": null,
      "height": null,
      "justify_content": null,
      "justify_items": null,
      "left": null,
      "margin": null,
      "max_height": null,
      "max_width": null,
      "min_height": null,
      "min_width": null,
      "object_fit": null,
      "object_position": null,
      "order": null,
      "overflow": null,
      "overflow_x": null,
      "overflow_y": null,
      "padding": null,
      "right": null,
      "top": null,
      "visibility": null,
      "width": null
     }
    },
    "a60d714c213e44aca3af2966c195b886": {
     "model_module": "@jupyter-widgets/controls",
     "model_module_version": "1.5.0",
     "model_name": "DescriptionStyleModel",
     "state": {
      "_model_module": "@jupyter-widgets/controls",
      "_model_module_version": "1.5.0",
      "_model_name": "DescriptionStyleModel",
      "_view_count": null,
      "_view_module": "@jupyter-widgets/base",
      "_view_module_version": "1.2.0",
      "_view_name": "StyleView",
      "description_width": ""
     }
    },
    "b9fc3bf99ce242bbb48c7310b6d8bbd0": {
     "model_module": "@jupyter-widgets/controls",
     "model_module_version": "1.5.0",
     "model_name": "HTMLModel",
     "state": {
      "_dom_classes": [],
      "_model_module": "@jupyter-widgets/controls",
      "_model_module_version": "1.5.0",
      "_model_name": "HTMLModel",
      "_view_count": null,
      "_view_module": "@jupyter-widgets/controls",
      "_view_module_version": "1.5.0",
      "_view_name": "HTMLView",
      "description": "",
      "description_tooltip": null,
      "layout": "IPY_MODEL_29acfbd4eef349ccba8ac5e124c56732",
      "placeholder": "​",
      "style": "IPY_MODEL_946b92d1f6cf416ba3842a99529f2d58",
      "value": " 230/230 [00:43&lt;00:00,  6.24it/s, Completed]"
     }
    },
    "bd2c72ea54ab4ec39360aa022a7aeb1c": {
     "model_module": "@jupyter-widgets/controls",
     "model_module_version": "1.5.0",
     "model_name": "FloatProgressModel",
     "state": {
      "_dom_classes": [],
      "_model_module": "@jupyter-widgets/controls",
      "_model_module_version": "1.5.0",
      "_model_name": "FloatProgressModel",
      "_view_count": null,
      "_view_module": "@jupyter-widgets/controls",
      "_view_module_version": "1.5.0",
      "_view_name": "ProgressView",
      "bar_style": "success",
      "description": "",
      "description_tooltip": null,
      "layout": "IPY_MODEL_965299d3ac7b4ccba6317e5360f7b87b",
      "max": 1,
      "min": 0,
      "orientation": "horizontal",
      "style": "IPY_MODEL_c507e653b2144ef4b3f12f486ebe18af",
      "value": 1
     }
    },
    "bf74a291fa514140ac4201a98294a3c1": {
     "model_module": "@jupyter-widgets/controls",
     "model_module_version": "1.5.0",
     "model_name": "DescriptionStyleModel",
     "state": {
      "_model_module": "@jupyter-widgets/controls",
      "_model_module_version": "1.5.0",
      "_model_name": "DescriptionStyleModel",
      "_view_count": null,
      "_view_module": "@jupyter-widgets/base",
      "_view_module_version": "1.2.0",
      "_view_name": "StyleView",
      "description_width": ""
     }
    },
    "c507e653b2144ef4b3f12f486ebe18af": {
     "model_module": "@jupyter-widgets/controls",
     "model_module_version": "1.5.0",
     "model_name": "ProgressStyleModel",
     "state": {
      "_model_module": "@jupyter-widgets/controls",
      "_model_module_version": "1.5.0",
      "_model_name": "ProgressStyleModel",
      "_view_count": null,
      "_view_module": "@jupyter-widgets/base",
      "_view_module_version": "1.2.0",
      "_view_name": "StyleView",
      "bar_color": null,
      "description_width": ""
     }
    },
    "c69415079a8044bb840e7c0e4a6b95e8": {
     "model_module": "@jupyter-widgets/controls",
     "model_module_version": "1.5.0",
     "model_name": "HTMLModel",
     "state": {
      "_dom_classes": [],
      "_model_module": "@jupyter-widgets/controls",
      "_model_module_version": "1.5.0",
      "_model_name": "HTMLModel",
      "_view_count": null,
      "_view_module": "@jupyter-widgets/controls",
      "_view_module_version": "1.5.0",
      "_view_name": "HTMLView",
      "description": "",
      "description_tooltip": null,
      "layout": "IPY_MODEL_d000142b5aca49e4bcb15c3c42a73a5a",
      "placeholder": "​",
      "style": "IPY_MODEL_bf74a291fa514140ac4201a98294a3c1",
      "value": "Summarize dataset: 100%"
     }
    },
    "cb3e23a32b6d44debb8b27ffe54ad9fa": {
     "model_module": "@jupyter-widgets/controls",
     "model_module_version": "1.5.0",
     "model_name": "DescriptionStyleModel",
     "state": {
      "_model_module": "@jupyter-widgets/controls",
      "_model_module_version": "1.5.0",
      "_model_name": "DescriptionStyleModel",
      "_view_count": null,
      "_view_module": "@jupyter-widgets/base",
      "_view_module_version": "1.2.0",
      "_view_name": "StyleView",
      "description_width": ""
     }
    },
    "d000142b5aca49e4bcb15c3c42a73a5a": {
     "model_module": "@jupyter-widgets/base",
     "model_module_version": "1.2.0",
     "model_name": "LayoutModel",
     "state": {
      "_model_module": "@jupyter-widgets/base",
      "_model_module_version": "1.2.0",
      "_model_name": "LayoutModel",
      "_view_count": null,
      "_view_module": "@jupyter-widgets/base",
      "_view_module_version": "1.2.0",
      "_view_name": "LayoutView",
      "align_content": null,
      "align_items": null,
      "align_self": null,
      "border": null,
      "bottom": null,
      "display": null,
      "flex": null,
      "flex_flow": null,
      "grid_area": null,
      "grid_auto_columns": null,
      "grid_auto_flow": null,
      "grid_auto_rows": null,
      "grid_column": null,
      "grid_gap": null,
      "grid_row": null,
      "grid_template_areas": null,
      "grid_template_columns": null,
      "grid_template_rows": null,
      "height": null,
      "justify_content": null,
      "justify_items": null,
      "left": null,
      "margin": null,
      "max_height": null,
      "max_width": null,
      "min_height": null,
      "min_width": null,
      "object_fit": null,
      "object_position": null,
      "order": null,
      "overflow": null,
      "overflow_x": null,
      "overflow_y": null,
      "padding": null,
      "right": null,
      "top": null,
      "visibility": null,
      "width": null
     }
    },
    "e5763424b04649e99a2018c54f63f1b8": {
     "model_module": "@jupyter-widgets/base",
     "model_module_version": "1.2.0",
     "model_name": "LayoutModel",
     "state": {
      "_model_module": "@jupyter-widgets/base",
      "_model_module_version": "1.2.0",
      "_model_name": "LayoutModel",
      "_view_count": null,
      "_view_module": "@jupyter-widgets/base",
      "_view_module_version": "1.2.0",
      "_view_name": "LayoutView",
      "align_content": null,
      "align_items": null,
      "align_self": null,
      "border": null,
      "bottom": null,
      "display": null,
      "flex": null,
      "flex_flow": null,
      "grid_area": null,
      "grid_auto_columns": null,
      "grid_auto_flow": null,
      "grid_auto_rows": null,
      "grid_column": null,
      "grid_gap": null,
      "grid_row": null,
      "grid_template_areas": null,
      "grid_template_columns": null,
      "grid_template_rows": null,
      "height": null,
      "justify_content": null,
      "justify_items": null,
      "left": null,
      "margin": null,
      "max_height": null,
      "max_width": null,
      "min_height": null,
      "min_width": null,
      "object_fit": null,
      "object_position": null,
      "order": null,
      "overflow": null,
      "overflow_x": null,
      "overflow_y": null,
      "padding": null,
      "right": null,
      "top": null,
      "visibility": null,
      "width": null
     }
    },
    "f84abd5b69e34500a99e238d737cadc7": {
     "model_module": "@jupyter-widgets/controls",
     "model_module_version": "1.5.0",
     "model_name": "HTMLModel",
     "state": {
      "_dom_classes": [],
      "_model_module": "@jupyter-widgets/controls",
      "_model_module_version": "1.5.0",
      "_model_name": "HTMLModel",
      "_view_count": null,
      "_view_module": "@jupyter-widgets/controls",
      "_view_module_version": "1.5.0",
      "_view_name": "HTMLView",
      "description": "",
      "description_tooltip": null,
      "layout": "IPY_MODEL_a0fb75b2a6b34d4cb2964eb0ec46266d",
      "placeholder": "​",
      "style": "IPY_MODEL_543028be50d84340a169df30d90f3e39",
      "value": "Render HTML: 100%"
     }
    },
    "fc5ae9be7ad2401a852f4d2a0b34c824": {
     "model_module": "@jupyter-widgets/controls",
     "model_module_version": "1.5.0",
     "model_name": "ProgressStyleModel",
     "state": {
      "_model_module": "@jupyter-widgets/controls",
      "_model_module_version": "1.5.0",
      "_model_name": "ProgressStyleModel",
      "_view_count": null,
      "_view_module": "@jupyter-widgets/base",
      "_view_module_version": "1.2.0",
      "_view_name": "StyleView",
      "bar_color": null,
      "description_width": ""
     }
    }
   }
  }
 },
 "nbformat": 4,
 "nbformat_minor": 1
}

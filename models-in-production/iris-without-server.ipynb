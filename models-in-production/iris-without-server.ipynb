{
 "cells": [
  {
   "cell_type": "markdown",
   "metadata": {},
   "source": [
    "# Iris flower classifier (serverless version)"
   ]
  },
  {
   "cell_type": "markdown",
   "metadata": {},
   "source": [
    "## Limpieza del ambiente anterior\n",
    "- Retornar el código a la versión Scikit-learn \"con server\" `git reset --hard`\n",
    "- Desactivar el virtual environment y borrarlo `deactivate && rm -rf env`\n",
    "- Comentar `from tensorflow.keras.models import model_from_json` en `predictions.py`\n",
    "\n",
    "## Creacion del nuevo ambiente\n",
    "- Crear un nuevo virtual environment\n",
    "```bash\n",
    "virtualenv env --python=python3.10\n",
    "source env/bin/activate\n",
    "pip install -r requirements-zappa.txt\n",
    "```\n",
    "- Probar la aplicacion en este nuevo ambiente\n",
    "- http://localhost:5000/classify?sepal_length=5.1&sepal_width=3.5&petal_length=1.4&petal_width=0.2\n",
    "- Instalar zappa `pip install zappa`\n",
    "- Configurar `zappa init`\n",
    "- Correr el primer deploy `zappa deploy dev`\n",
    "- https://4j4x4rgjkd.execute-api.us-east-2.amazonaws.com/dev/classify?sepal_length=5.1&sepal_width=3.5&petal_length=1.4&petal_width=0.2"
   ]
  },
  {
   "cell_type": "markdown",
   "metadata": {},
   "source": [
    "## Mantenimiento\n",
    "- Inspeccionar logs `zappa tail dev`\n",
    "- Updates posteriores `zappa update dev`\n",
    "- Limpieza del entorno `zappa undeploy dev`"
   ]
  }
 ],
 "metadata": {
  "kernelspec": {
   "display_name": "python-3.10",
   "language": "python",
   "name": "python-3.10"
  },
  "language_info": {
   "codemirror_mode": {
    "name": "ipython",
    "version": 3
   },
   "file_extension": ".py",
   "mimetype": "text/x-python",
   "name": "python",
   "nbconvert_exporter": "python",
   "pygments_lexer": "ipython3",
   "version": "3.10.12"
  }
 },
 "nbformat": 4,
 "nbformat_minor": 4
}

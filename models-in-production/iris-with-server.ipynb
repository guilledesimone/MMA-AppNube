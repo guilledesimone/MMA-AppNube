{
 "cells": [
  {
   "cell_type": "markdown",
   "metadata": {
    "colab_type": "text",
    "id": "Zn-SzvN_pd6F"
   },
   "source": [
    "# Iris flower classifier (server version)"
   ]
  },
  {
   "cell_type": "code",
   "execution_count": 5,
   "metadata": {},
   "outputs": [],
   "source": [
    "# Using Python 3.10 inside a Conda Environment\n",
    "import warnings\n",
    "warnings.filterwarnings('ignore')"
   ]
  },
  {
   "cell_type": "code",
   "execution_count": 6,
   "metadata": {
    "colab": {
     "autoexec": {
      "startup": false,
      "wait_interval": 0
     },
     "base_uri": "https://localhost:8080/",
     "height": 113
    },
    "colab_type": "code",
    "executionInfo": {
     "elapsed": 1406,
     "status": "ok",
     "timestamp": 1525300096805,
     "user": {
      "displayName": "Ramiro Savoie",
      "photoUrl": "//lh6.googleusercontent.com/-nvircRVyhys/AAAAAAAAAAI/AAAAAAAAkZc/bDG7THSJMxQ/s50-c-k-no/photo.jpg",
      "userId": "103932675305159588469"
     },
     "user_tz": 180
    },
    "id": "sOYTXpCldDgm",
    "outputId": "3bb0fc4b-e7d7-48d8-ea54-b3cb91a566b2"
   },
   "outputs": [],
   "source": [
    "# SciPy\n",
    "import numpy as np\n",
    "import pandas as pd\n",
    "import seaborn as sns\n",
    "import matplotlib.pyplot as plt\n",
    "%matplotlib inline\n",
    "\n",
    "# Utilities\n",
    "import os\n",
    "import pickle\n",
    "import requests as req\n",
    "from io import BytesIO\n",
    "import boto3\n",
    "\n",
    "# MachineLearning\n",
    "from sklearn.preprocessing import LabelEncoder, StandardScaler\n",
    "from sklearn.model_selection import train_test_split\n",
    "from sklearn.naive_bayes import GaussianNB\n",
    "from sklearn.metrics import accuracy_score\n",
    "from sklearn.metrics import confusion_matrix\n",
    "from sklearn.neighbors import KNeighborsClassifier\n",
    "from sklearn.ensemble import RandomForestClassifier\n",
    "from sklearn.model_selection import cross_val_score\n",
    "from sklearn.model_selection import GridSearchCV\n",
    "from sklearn.neighbors import _dist_metrics #ira?\n",
    "from keras.utils import to_categorical\n",
    "\n",
    "\n",
    "# DeepLearning\n",
    "import keras\n",
    "from keras import models\n",
    "from keras import layers\n",
    "\n",
    "# Main modules\n",
    "import predictions as pr\n",
    "import aws_utils as au"
   ]
  },
  {
   "cell_type": "code",
   "execution_count": 7,
   "metadata": {},
   "outputs": [],
   "source": [
    "REGION = 'us-east-1'\n",
    "BUCKET_NAME = 'mma-models-in-production' # Unique through all accounts\n",
    "FOLDER = 'dist' # Should be clean before the execution"
   ]
  },
  {
   "cell_type": "markdown",
   "metadata": {},
   "source": [
    "## Exploración de la data"
   ]
  },
  {
   "cell_type": "code",
   "execution_count": 8,
   "metadata": {
    "colab": {
     "autoexec": {
      "startup": false,
      "wait_interval": 0
     },
     "base_uri": "https://localhost:8080/",
     "height": 204
    },
    "colab_type": "code",
    "executionInfo": {
     "elapsed": 627,
     "status": "ok",
     "timestamp": 1525300101089,
     "user": {
      "displayName": "Ramiro Savoie",
      "photoUrl": "//lh6.googleusercontent.com/-nvircRVyhys/AAAAAAAAAAI/AAAAAAAAkZc/bDG7THSJMxQ/s50-c-k-no/photo.jpg",
      "userId": "103932675305159588469"
     },
     "user_tz": 180
    },
    "id": "HMMXVhPddVHq",
    "outputId": "bd0be447-8111-4623-a907-9ecbee138297"
   },
   "outputs": [],
   "source": [
    "iris = sns.load_dataset('iris')"
   ]
  },
  {
   "cell_type": "code",
   "execution_count": 9,
   "metadata": {
    "colab": {
     "autoexec": {
      "startup": false,
      "wait_interval": 0
     },
     "base_uri": "https://localhost:8080/",
     "height": 74
    },
    "colab_type": "code",
    "executionInfo": {
     "elapsed": 676,
     "status": "ok",
     "timestamp": 1525300102469,
     "user": {
      "displayName": "Ramiro Savoie",
      "photoUrl": "//lh6.googleusercontent.com/-nvircRVyhys/AAAAAAAAAAI/AAAAAAAAkZc/bDG7THSJMxQ/s50-c-k-no/photo.jpg",
      "userId": "103932675305159588469"
     },
     "user_tz": 180
    },
    "id": "RXXZBHR8dZsR",
    "outputId": "d9c494bc-db8e-4b12-93e6-3d6f285f828d"
   },
   "outputs": [
    {
     "name": "stdout",
     "output_type": "stream",
     "text": [
      "<class 'pandas.core.frame.DataFrame'>\n",
      "RangeIndex: 150 entries, 0 to 149\n",
      "Data columns (total 5 columns):\n",
      " #   Column        Non-Null Count  Dtype  \n",
      "---  ------        --------------  -----  \n",
      " 0   sepal_length  150 non-null    float64\n",
      " 1   sepal_width   150 non-null    float64\n",
      " 2   petal_length  150 non-null    float64\n",
      " 3   petal_width   150 non-null    float64\n",
      " 4   species       150 non-null    object \n",
      "dtypes: float64(4), object(1)\n",
      "memory usage: 6.0+ KB\n"
     ]
    }
   ],
   "source": [
    "iris.info()"
   ]
  },
  {
   "cell_type": "code",
   "execution_count": 10,
   "metadata": {},
   "outputs": [
    {
     "data": {
      "text/html": [
       "<div>\n",
       "<style scoped>\n",
       "    .dataframe tbody tr th:only-of-type {\n",
       "        vertical-align: middle;\n",
       "    }\n",
       "\n",
       "    .dataframe tbody tr th {\n",
       "        vertical-align: top;\n",
       "    }\n",
       "\n",
       "    .dataframe thead th {\n",
       "        text-align: right;\n",
       "    }\n",
       "</style>\n",
       "<table border=\"1\" class=\"dataframe\">\n",
       "  <thead>\n",
       "    <tr style=\"text-align: right;\">\n",
       "      <th></th>\n",
       "      <th>sepal_length</th>\n",
       "      <th>sepal_width</th>\n",
       "      <th>petal_length</th>\n",
       "      <th>petal_width</th>\n",
       "      <th>species</th>\n",
       "    </tr>\n",
       "  </thead>\n",
       "  <tbody>\n",
       "    <tr>\n",
       "      <th>130</th>\n",
       "      <td>7.4</td>\n",
       "      <td>2.8</td>\n",
       "      <td>6.1</td>\n",
       "      <td>1.9</td>\n",
       "      <td>virginica</td>\n",
       "    </tr>\n",
       "    <tr>\n",
       "      <th>39</th>\n",
       "      <td>5.1</td>\n",
       "      <td>3.4</td>\n",
       "      <td>1.5</td>\n",
       "      <td>0.2</td>\n",
       "      <td>setosa</td>\n",
       "    </tr>\n",
       "    <tr>\n",
       "      <th>99</th>\n",
       "      <td>5.7</td>\n",
       "      <td>2.8</td>\n",
       "      <td>4.1</td>\n",
       "      <td>1.3</td>\n",
       "      <td>versicolor</td>\n",
       "    </tr>\n",
       "    <tr>\n",
       "      <th>105</th>\n",
       "      <td>7.6</td>\n",
       "      <td>3.0</td>\n",
       "      <td>6.6</td>\n",
       "      <td>2.1</td>\n",
       "      <td>virginica</td>\n",
       "    </tr>\n",
       "    <tr>\n",
       "      <th>42</th>\n",
       "      <td>4.4</td>\n",
       "      <td>3.2</td>\n",
       "      <td>1.3</td>\n",
       "      <td>0.2</td>\n",
       "      <td>setosa</td>\n",
       "    </tr>\n",
       "  </tbody>\n",
       "</table>\n",
       "</div>"
      ],
      "text/plain": [
       "     sepal_length  sepal_width  petal_length  petal_width     species\n",
       "130           7.4          2.8           6.1          1.9   virginica\n",
       "39            5.1          3.4           1.5          0.2      setosa\n",
       "99            5.7          2.8           4.1          1.3  versicolor\n",
       "105           7.6          3.0           6.6          2.1   virginica\n",
       "42            4.4          3.2           1.3          0.2      setosa"
      ]
     },
     "execution_count": 10,
     "metadata": {},
     "output_type": "execute_result"
    }
   ],
   "source": [
    "iris.sample(5)"
   ]
  },
  {
   "cell_type": "markdown",
   "metadata": {},
   "source": [
    "¿Que tenemos que hacer con este dataset?"
   ]
  },
  {
   "cell_type": "code",
   "execution_count": 11,
   "metadata": {
    "colab": {
     "autoexec": {
      "startup": false,
      "wait_interval": 0
     },
     "base_uri": "https://localhost:8080/",
     "height": 986
    },
    "colab_type": "code",
    "executionInfo": {
     "elapsed": 4928,
     "status": "ok",
     "timestamp": 1525300108701,
     "user": {
      "displayName": "Ramiro Savoie",
      "photoUrl": "//lh6.googleusercontent.com/-nvircRVyhys/AAAAAAAAAAI/AAAAAAAAkZc/bDG7THSJMxQ/s50-c-k-no/photo.jpg",
      "userId": "103932675305159588469"
     },
     "user_tz": 180
    },
    "id": "huvp7b6me7CS",
    "outputId": "77a6e221-0f16-4f76-f94c-02c851a8114e"
   },
   "outputs": [
    {
     "data": {
      "image/png": "[encoded data removed]",
      "text/plain": [
       "<Figure size 1063.95x979.2 with 20 Axes>"
      ]
     },
     "metadata": {
      "needs_background": "light"
     },
     "output_type": "display_data"
    }
   ],
   "source": [
    "sns.pairplot(iris, hue='species', size=3.4);"
   ]
  },
  {
   "cell_type": "markdown",
   "metadata": {
    "colab_type": "text",
    "id": "uQbKGnCX-wYi"
   },
   "source": [
    "## Primer modelo"
   ]
  },
  {
   "cell_type": "code",
   "execution_count": 12,
   "metadata": {
    "scrolled": true
   },
   "outputs": [],
   "source": [
    "def fit_normalizer(input_data: pd.DataFrame) -> StandardScaler:\n",
    "    \"\"\"\n",
    "        Fit a scikit-learn Normalizer based on input_data.\n",
    "    \"\"\"    \n",
    "    scaler = StandardScaler()\n",
    "    print('Fitting a Normalizer with given input')    \n",
    "    scaler.fit(input_data)\n",
    "    \n",
    "    file_name = 'normalizer.pkl'\n",
    "    with open(os.path.join(FOLDER, file_name), 'wb') as f:\n",
    "        pickle.dump(scaler, f)\n",
    "    \n",
    "    # TODO Part 2\n",
    "    # au.upload_to_s3(BUCKET_NAME, FOLDER, file_name)        \n",
    "    \n",
    "    print('Normalizer saved')\n",
    "    return scaler"
   ]
  },
  {
   "cell_type": "code",
   "execution_count": 13,
   "metadata": {},
   "outputs": [
    {
     "name": "stdout",
     "output_type": "stream",
     "text": [
      "Fitting a Normalizer with given input\n",
      "Normalizer saved\n"
     ]
    }
   ],
   "source": [
    "normalizer = fit_normalizer(iris.drop(\"species\", axis=1))"
   ]
  },
  {
   "cell_type": "code",
   "execution_count": 14,
   "metadata": {},
   "outputs": [],
   "source": [
    "X = normalizer.transform(iris.drop(\"species\", axis=1))"
   ]
  },
  {
   "cell_type": "code",
   "execution_count": 15,
   "metadata": {},
   "outputs": [],
   "source": [
    "def fit_encoder(target_list: list) -> LabelEncoder:\n",
    "    \"\"\"\n",
    "        Fit a scikit-learn LabelEncoder based on target_list.\n",
    "    \"\"\"    \n",
    "    encoder = LabelEncoder()\n",
    "    print('Fitting a LabelEncoder with given target')\n",
    "    encoder.fit(target_list)\n",
    "    \n",
    "    print('Found classes', encoder.classes_)\n",
    "    print('Testing encoder', encoder.transform(encoder.classes_))\n",
    "    \n",
    "    file_name = 'encoder.pkl'\n",
    "    with open(os.path.join(FOLDER, file_name), 'wb') as f:\n",
    "        pickle.dump(encoder, f)\n",
    "\n",
    "    # TODO Part 2        \n",
    "    # au.upload_to_s3(BUCKET_NAME, FOLDER, file_name)        \n",
    "    \n",
    "    print('Encoder saved')\n",
    "    return encoder"
   ]
  },
  {
   "cell_type": "code",
   "execution_count": 16,
   "metadata": {},
   "outputs": [
    {
     "name": "stdout",
     "output_type": "stream",
     "text": [
      "Fitting a LabelEncoder with given target\n",
      "Found classes ['setosa' 'versicolor' 'virginica']\n",
      "Testing encoder [0 1 2]\n",
      "Encoder saved\n"
     ]
    }
   ],
   "source": [
    "# All the target column\n",
    "target_list = iris['species'].tolist()\n",
    "encoder = fit_encoder(target_list)"
   ]
  },
  {
   "cell_type": "code",
   "execution_count": 17,
   "metadata": {},
   "outputs": [],
   "source": [
    "def encode_and_one_hot_target(target_list: list, encoder: LabelEncoder) -> np.ndarray:\n",
    "    print('Encoding target with given encoder')\n",
    "    targets_encoded = encoder.transform(target_list)\n",
    "\n",
    "    print('Convert encoded classes integers to dummy variables')\n",
    "    targets_one_hot = to_categorical(targets_encoded)\n",
    "    \n",
    "    print('Target final shape', targets_one_hot.shape)\n",
    "    return targets_one_hot"
   ]
  },
  {
   "cell_type": "code",
   "execution_count": 18,
   "metadata": {},
   "outputs": [
    {
     "name": "stdout",
     "output_type": "stream",
     "text": [
      "Encoding target with given encoder\n",
      "Convert encoded classes integers to dummy variables\n",
      "Target final shape (150, 3)\n"
     ]
    }
   ],
   "source": [
    "Y = encode_and_one_hot_target(target_list, encoder)"
   ]
  },
  {
   "cell_type": "code",
   "execution_count": 19,
   "metadata": {
    "colab": {
     "autoexec": {
      "startup": false,
      "wait_interval": 0
     }
    },
    "colab_type": "code",
    "id": "X1COaB3owHG1"
   },
   "outputs": [],
   "source": [
    "X_train, X_test, y_train, y_test = train_test_split(X, Y, random_state=1, test_size = .33)"
   ]
  },
  {
   "cell_type": "code",
   "execution_count": 20,
   "metadata": {
    "colab": {
     "autoexec": {
      "startup": false,
      "wait_interval": 0
     },
     "base_uri": "https://localhost:8080/",
     "height": 36
    },
    "colab_type": "code",
    "executionInfo": {
     "elapsed": 642,
     "status": "ok",
     "timestamp": 1525300116993,
     "user": {
      "displayName": "Ramiro Savoie",
      "photoUrl": "//lh6.googleusercontent.com/-nvircRVyhys/AAAAAAAAAAI/AAAAAAAAkZc/bDG7THSJMxQ/s50-c-k-no/photo.jpg",
      "userId": "103932675305159588469"
     },
     "user_tz": 180
    },
    "id": "ma1zvYXrx-wr",
    "outputId": "34baa5da-d1ff-47e6-d6ed-2f961c0210ee"
   },
   "outputs": [
    {
     "data": {
      "text/plain": [
       "(100, 4)"
      ]
     },
     "execution_count": 20,
     "metadata": {},
     "output_type": "execute_result"
    }
   ],
   "source": [
    "X_train.shape"
   ]
  },
  {
   "cell_type": "code",
   "execution_count": 21,
   "metadata": {
    "colab": {
     "autoexec": {
      "startup": false,
      "wait_interval": 0
     },
     "base_uri": "https://localhost:8080/",
     "height": 36
    },
    "colab_type": "code",
    "executionInfo": {
     "elapsed": 864,
     "status": "ok",
     "timestamp": 1525300118030,
     "user": {
      "displayName": "Ramiro Savoie",
      "photoUrl": "//lh6.googleusercontent.com/-nvircRVyhys/AAAAAAAAAAI/AAAAAAAAkZc/bDG7THSJMxQ/s50-c-k-no/photo.jpg",
      "userId": "103932675305159588469"
     },
     "user_tz": 180
    },
    "id": "lfgEkUDMyCg2",
    "outputId": "9ce58f11-e018-45cf-b01d-4318bebdd081"
   },
   "outputs": [
    {
     "data": {
      "text/plain": [
       "(50, 4)"
      ]
     },
     "execution_count": 21,
     "metadata": {},
     "output_type": "execute_result"
    }
   ],
   "source": [
    "X_test.shape"
   ]
  },
  {
   "cell_type": "code",
   "execution_count": 22,
   "metadata": {
    "colab": {
     "autoexec": {
      "startup": false,
      "wait_interval": 0
     },
     "base_uri": "https://localhost:8080/",
     "height": 36
    },
    "colab_type": "code",
    "executionInfo": {
     "elapsed": 637,
     "status": "ok",
     "timestamp": 1525300118852,
     "user": {
      "displayName": "Ramiro Savoie",
      "photoUrl": "//lh6.googleusercontent.com/-nvircRVyhys/AAAAAAAAAAI/AAAAAAAAkZc/bDG7THSJMxQ/s50-c-k-no/photo.jpg",
      "userId": "103932675305159588469"
     },
     "user_tz": 180
    },
    "id": "y-2ZQ1nHFuJK",
    "outputId": "426ea48e-10b3-40bc-f512-2ab1f29cc49c"
   },
   "outputs": [
    {
     "data": {
      "text/plain": [
       "(100, 3)"
      ]
     },
     "execution_count": 22,
     "metadata": {},
     "output_type": "execute_result"
    }
   ],
   "source": [
    "y_train.shape"
   ]
  },
  {
   "cell_type": "code",
   "execution_count": 23,
   "metadata": {
    "colab": {
     "autoexec": {
      "startup": false,
      "wait_interval": 0
     },
     "base_uri": "https://localhost:8080/",
     "height": 36
    },
    "colab_type": "code",
    "executionInfo": {
     "elapsed": 647,
     "status": "ok",
     "timestamp": 1525300119694,
     "user": {
      "displayName": "Ramiro Savoie",
      "photoUrl": "//lh6.googleusercontent.com/-nvircRVyhys/AAAAAAAAAAI/AAAAAAAAkZc/bDG7THSJMxQ/s50-c-k-no/photo.jpg",
      "userId": "103932675305159588469"
     },
     "user_tz": 180
    },
    "id": "y33dG30WFuJO",
    "outputId": "ef5ef877-93b4-4359-c0c3-d5e678f95b2b"
   },
   "outputs": [
    {
     "data": {
      "text/plain": [
       "(50, 3)"
      ]
     },
     "execution_count": 23,
     "metadata": {},
     "output_type": "execute_result"
    }
   ],
   "source": [
    "y_test.shape"
   ]
  },
  {
   "cell_type": "code",
   "execution_count": 24,
   "metadata": {
    "colab": {
     "autoexec": {
      "startup": false,
      "wait_interval": 0
     }
    },
    "colab_type": "code",
    "id": "CmFt0h1JIQXw"
   },
   "outputs": [],
   "source": [
    "def fit_knn(X_train: np.ndarray, y_train: np.ndarray) -> KNeighborsClassifier:\n",
    "    \"\"\"\n",
    "        Fits a KNN model, saves the model weights and returns it.\n",
    "    \"\"\"\n",
    "    # Instantiate the model learning model (k=3)\n",
    "    knn = KNeighborsClassifier(n_neighbors=3)\n",
    "    \n",
    "    # Fitting the model\n",
    "    print('Fitting model')\n",
    "    model = knn.fit(X_train, y_train)\n",
    "    \n",
    "    file_name = 'model.pkl'\n",
    "    with open(os.path.join(FOLDER, file_name), 'wb') as f:\n",
    "        pickle.dump(model, f)\n",
    "      \n",
    "    # TODO Part 2    \n",
    "    # au.upload_to_s3(BUCKET_NAME, FOLDER, file_name)        \n",
    "\n",
    "    print('Model saved')\n",
    "    return model"
   ]
  },
  {
   "cell_type": "code",
   "execution_count": 25,
   "metadata": {
    "colab": {
     "autoexec": {
      "startup": false,
      "wait_interval": 0
     },
     "base_uri": "https://localhost:8080/",
     "height": 74
    },
    "colab_type": "code",
    "executionInfo": {
     "elapsed": 595,
     "status": "ok",
     "timestamp": 1525300124886,
     "user": {
      "displayName": "Ramiro Savoie",
      "photoUrl": "//lh6.googleusercontent.com/-nvircRVyhys/AAAAAAAAAAI/AAAAAAAAkZc/bDG7THSJMxQ/s50-c-k-no/photo.jpg",
      "userId": "103932675305159588469"
     },
     "user_tz": 180
    },
    "id": "UpTA7eVpIhHB",
    "outputId": "49a725f9-b75f-4aee-fa47-e1cd57059a7d"
   },
   "outputs": [
    {
     "name": "stdout",
     "output_type": "stream",
     "text": [
      "Fitting model\n",
      "Model saved\n"
     ]
    }
   ],
   "source": [
    "model = fit_knn(X_train, y_train)"
   ]
  },
  {
   "cell_type": "code",
   "execution_count": 26,
   "metadata": {
    "colab": {
     "autoexec": {
      "startup": false,
      "wait_interval": 0
     }
    },
    "colab_type": "code",
    "id": "3zHHNB5VIhWI"
   },
   "outputs": [],
   "source": [
    "Y_pred = model.predict(X_test)"
   ]
  },
  {
   "cell_type": "code",
   "execution_count": 27,
   "metadata": {
    "colab": {
     "autoexec": {
      "startup": false,
      "wait_interval": 0
     },
     "base_uri": "https://localhost:8080/",
     "height": 36
    },
    "colab_type": "code",
    "executionInfo": {
     "elapsed": 587,
     "status": "ok",
     "timestamp": 1525300126347,
     "user": {
      "displayName": "Ramiro Savoie",
      "photoUrl": "//lh6.googleusercontent.com/-nvircRVyhys/AAAAAAAAAAI/AAAAAAAAkZc/bDG7THSJMxQ/s50-c-k-no/photo.jpg",
      "userId": "103932675305159588469"
     },
     "user_tz": 180
    },
    "id": "z1nlOsGYFuJo",
    "outputId": "0b1e1e5a-3613-42cf-f4e3-8f53a6144356"
   },
   "outputs": [
    {
     "data": {
      "text/plain": [
       "0.98"
      ]
     },
     "execution_count": 27,
     "metadata": {},
     "output_type": "execute_result"
    }
   ],
   "source": [
    "accuracy_score(y_test, Y_pred)"
   ]
  },
  {
   "cell_type": "markdown",
   "metadata": {},
   "source": [
    "## Código para el servido"
   ]
  },
  {
   "cell_type": "markdown",
   "metadata": {},
   "source": [
    "- Todos los componentes del modelo exportado en la carpeta `dist`: `encoder.pkl`, `model.pkl` y `normalizer.pkl`\n",
    "- Inspeccionemos el código de `predictions.predict()`"
   ]
  },
  {
   "cell_type": "code",
   "execution_count": 28,
   "metadata": {},
   "outputs": [
    {
     "name": "stdout",
     "output_type": "stream",
     "text": [
      "Fetching binaries\n",
      "Loading normalizer.pkl from local\n",
      "Loading encoder.pkl from local\n",
      "Loading model.pkl from local\n",
      "Received sample: [6.3, 2.5, 4.9, 1.5]\n",
      "After normalization: [[ 0.55333328 -1.28296331  0.64908342  0.3957741 ]]\n",
      "y_probabilities: [[0. 1. 0.]]\n",
      "y_class: [1]\n",
      "y_class_decoded: ['versicolor']\n"
     ]
    },
    {
     "data": {
      "text/plain": [
       "{'sample': [6.3, 2.5, 4.9, 1.5], 'class': 'versicolor', 'confidence': 100.0}"
      ]
     },
     "execution_count": 28,
     "metadata": {},
     "output_type": "execute_result"
    }
   ],
   "source": [
    "# From package\n",
    "versicolor = [6.3, 2.5, 4.9, 1.5]\n",
    "virginica = [7.9, 3.8, 6.4, 2.0]\n",
    "pr.predict(versicolor)"
   ]
  },
  {
   "cell_type": "code",
   "execution_count": null,
   "metadata": {
    "collapsed": true
   },
   "outputs": [],
   "source": []
  },
  {
   "cell_type": "markdown",
   "metadata": {},
   "source": []
  },
  {
   "cell_type": "markdown",
   "metadata": {},
   "source": [
    "- Inspeccionemos el código de `app.classify()`"
   ]
  },
  {
   "cell_type": "markdown",
   "metadata": {},
   "source": [
    "```bash\n",
    "# Terminal\n",
    "conda activate python-3.10\n",
    "# Run Flask locally\n",
    "python app.py\n",
    "```"
   ]
  },
  {
   "cell_type": "code",
   "execution_count": null,
   "metadata": {},
   "outputs": [],
   "source": [
    "!python app.py"
   ]
  },
  {
   "cell_type": "code",
   "execution_count": 30,
   "metadata": {
    "scrolled": true
   },
   "outputs": [
    {
     "data": {
      "text/plain": [
       "{'class': 'setosa',\n",
       " 'confidence': 100.0,\n",
       " 'sample': ['5.1', '3.5', '1.4', '0.2']}"
      ]
     },
     "execution_count": 30,
     "metadata": {},
     "output_type": "execute_result"
    }
   ],
   "source": [
    "# Browser with Public DNS.\n",
    "req.get('http://localhost:5000/classify?sepal_length=5.1&sepal_width=3.5&petal_length=1.4&petal_width=0.2').json()"
   ]
  },
  {
   "cell_type": "markdown",
   "metadata": {},
   "source": [
    "- ¿Que vemos en el log del server?\n",
    "\n",
    "##### En el enviroment con python 3.10 y scikit-learn 1.3.0 no funcionó muestra  \"ModuleNotFoundError: No module named  'sklearn.neighbors._dist_metrics'\" \n",
    "\n",
    "Lo corri en el enviroment base con Python 3.9.7 y scikit-learn 0.24.2"
   ]
  },
  {
   "cell_type": "markdown",
   "metadata": {},
   "source": [
    "## Packaging & Deploy"
   ]
  },
  {
   "cell_type": "markdown",
   "metadata": {},
   "source": [
    "- Exportar todas las dependencias utilizadas a un archivo `requirements.txt` (con versión)  \n",
    "- Armar y probar la aplicación en un virtual environment\n",
    "- ¿Que es un virtual environment? Permite empaquetar el ejecutable de python y los módulos instalados.\n",
    "- Todo esto prepara la aplicación para correr en la nube."
   ]
  },
  {
   "cell_type": "markdown",
   "metadata": {},
   "source": [
    "```bash\n",
    "# Terminal\n",
    "# Install virtual environments package with pip\n",
    "pip install virtualenv\n",
    "\n",
    "# Create virtual environment with new python executable\n",
    "virtualenv env --python=python3.10\n",
    "\n",
    "# Activate it, prompt changes\n",
    "source env/bin/activate\n",
    "# In Windows, primero cambiar al path de la carpeta env\n",
    "Scripts\\activate\n",
    "\n",
    "# Install all dependencies in requirements.txt\n",
    "pip install -r requirements.txt\n",
    "\n",
    "# Test the app inside virtual environment, stop the above execution in terminal, show the log\n",
    "python app.py\n",
    "\n",
    "# Zip the app, without virtual environment, what are we omitting?\n",
    "zip -r models-in-production.zip app.py predictions.py aws_utils.py config.py requirements.txt dist\n",
    "\n",
    "#In Windows\n",
    "\"C:\\Program Files\\7-Zip\\7z.exe\" a -tzip models-in-production.zip app.py predictions.py aws_utils.py config.py requirements2.txt\n",
    "\n",
    "```"
   ]
  },
  {
   "cell_type": "markdown",
   "metadata": {},
   "source": [
    "## Instancia de AWS\n",
    "- En AWS Academy, ir a la derecha en \"AWS details\" / \"Cloud Access\" / \"AWS CLI\" / \"Show\"\n",
    "- Bajar tambien el SSH key y pegarlo en la carpera `.ssh` con permisos `400`\n",
    "- Instanciar una t2.micro con Ubuntu 22.04, SSH habilitado y la clave rsa que nos sugiere\n",
    "- Mientras se aprovisiona habilitar el puerto 5000 en el security group\n",
    "- Conectarse con su DNS público"
   ]
  },
  {
   "cell_type": "markdown",
   "metadata": {},
   "source": [
    "```bash\n",
    "# Cloud: Connect to instance\n",
    "ssh -i ~/.ssh/vockey.pem ubuntu@ec2-3-91-238-157.compute-1.amazonaws.com\n",
    "ssh -i ~/.ssh/vockey.pem ubuntu@ec2-54-198-226-151.compute-1.amazonaws.com\n",
    "\n",
    "# Cloud: Install python 3.10, pip. virtualenv and unzip\n",
    "sudo add-apt-repository ppa:deadsnakes/ppa && sudo apt-get update && sudo apt-get install -y unzip python3.10 python3-pip virtualenv\n",
    "\n",
    "# A little shorcut\n",
    "alias python=python3\n",
    "\n",
    "# Local: Upload the packaged app\n",
    "scp -i ~/.ssh/vockey.pem models-in-production.zip ubuntu@ec2-3-91-238-157.compute-1.amazonaws.com:/home/ubuntu\n",
    "scp -i ~/.ssh/vockey.pem models-in-production.zip ubuntu@ec2-3-91-238-157.compute-1.amazonaws.com:/home/ubuntu\n",
    "\n",
    "\n",
    "# Cloud\n",
    "unzip -o models-in-production.zip\n",
    "\n",
    "# Cloud, same steps as local\n",
    "virtualenv env --python=python3.10\n",
    "source env/bin/activate\n",
    "pip install -r requirements.txt --no-cache-dir\n",
    "python app.py\n",
    "```"
   ]
  },
  {
   "cell_type": "markdown",
   "metadata": {},
   "source": [
    "```bash\n",
    "# Extra\n",
    "# nohup means: do not terminate this process even when the stty is cut off.\n",
    "# & at the end means: run this command as a background task\n",
    "nohup python app.py &\n",
    "ps -ef | grep app.py\n",
    "# https://stackoverflow.com/questions/17385794/how-to-get-the-process-id-to-kill-a-nohup-process\n",
    "# https://stackoverflow.com/questions/23029443/run-python-flask-on-ec2-in-the-backgroud\n",
    "\n",
    "# If you lost your SSH connection, connect again and kill the old process\n",
    "fuser -k 5000/tcp\n",
    "```"
   ]
  },
  {
   "cell_type": "code",
   "execution_count": null,
   "metadata": {},
   "outputs": [],
   "source": [
    "# Browser with Public DNS.\n",
    "req.get('http://ec2-3-91-238-157.compute-1.amazonaws.com:5000/classify?sepal_length=5.1&sepal_width=3.5&petal_length=1.4&petal_width=0.2').json()"
   ]
  },
  {
   "cell_type": "markdown",
   "metadata": {},
   "source": [
    "## Modelo dinámico"
   ]
  },
  {
   "cell_type": "markdown",
   "metadata": {},
   "source": [
    "¿Que es más probable que cambie, el modelo o la API?"
   ]
  },
  {
   "cell_type": "markdown",
   "metadata": {},
   "source": [
    "- Crear un bucket para los modelos `mma-models-in-production`\n",
    "- Subir los tres componentes del modelo con la Consola\n",
    "- Mostrar `aws_utils.py`\n",
    "- Configurar `YOUR_AWS_ACCESS_KEY_ID`, `YOUR_AWS_SECRET_ACCESS_KEY` y el nombre del bucket en `config.py`\n",
    "- Cambiar el nombre del bucket en la variable de entorno de esta misma notebook\n",
    "- Descomentar `TODO Part 2` en `predictions.fetch_pickle()`\n",
    "- Borrar `models-in-production.zip` y el contenido de la carpeta `dist`"
   ]
  },
  {
   "cell_type": "markdown",
   "metadata": {},
   "source": [
    "```bash\n",
    "# Cloud: Stop service in instance\n",
    "\n",
    "# Local: Zip the new app\n",
    "zip -r models-in-production.zip app.py predictions.py aws_utils.py config.py requirements.txt dist\n",
    "\n",
    "# Local: Upload the new packaged app\n",
    "scp -i ~/.ssh/vockey.pem models-in-production.zip ubuntu@ec2-3-91-238-157.compute-1.amazonaws.com:/home/ubuntu\n",
    "\n",
    "# Cloud:\n",
    "unzip -o models-in-production.zip\n",
    "\n",
    "# Cloud, restart service\n",
    "python app.py\n",
    "```"
   ]
  },
  {
   "cell_type": "code",
   "execution_count": null,
   "metadata": {},
   "outputs": [],
   "source": [
    "# Browser with Public DNS.\n",
    "req.get('http://ec2-3-91-238-157.compute-1.amazonaws.com:5000/classify?sepal_length=5.1&sepal_width=3.5&petal_length=1.4&petal_width=0.2').json()"
   ]
  },
  {
   "cell_type": "markdown",
   "metadata": {
    "colab_type": "text",
    "id": "AxXlazZWVd-C"
   },
   "source": [
    "## Segundo modelo"
   ]
  },
  {
   "cell_type": "code",
   "execution_count": null,
   "metadata": {
    "colab": {
     "autoexec": {
      "startup": false,
      "wait_interval": 0
     }
    },
    "colab_type": "code",
    "id": "meTa6S-RNFB7"
   },
   "outputs": [],
   "source": [
    "def fit_random_forest(X_train, y_train):\n",
    "    \"\"\"\n",
    "        Fits a Random Forest model, saves the model weights, uploads to S3 and return it.\n",
    "    \"\"\"    \n",
    "    rfc = RandomForestClassifier(n_jobs=-1, criterion = 'entropy', random_state = 0, max_features= 'sqrt')  \n",
    "\n",
    "    param_grid = {  \n",
    "               \"n_estimators\" : [5, 8, 10],  \n",
    "               \"max_depth\" : [4, 5, 6],  \n",
    "               \"min_samples_leaf\" : [8, 10, 12]}  \n",
    "\n",
    "    CV_rf = GridSearchCV(estimator=rfc, param_grid=param_grid, cv=5)\n",
    "    \n",
    "    CV_rf.fit(X_train, y_train)    \n",
    "    print(f'best_params: {CV_rf.best_params_}')\n",
    "    \n",
    "    file_name = 'model.pkl'\n",
    "    with open(os.path.join(FOLDER, file_name), 'wb') as f:\n",
    "        pickle.dump(model, f)\n",
    "    \n",
    "    # TODO Part 2, uncomment all TODO Part 2 above in fit_normalizer() and fit_encoder() and run\n",
    "    # au.upload_to_s3(BUCKET_NAME, FOLDER, file_name)   \n",
    "    \n",
    "    return CV_rf"
   ]
  },
  {
   "cell_type": "code",
   "execution_count": null,
   "metadata": {},
   "outputs": [],
   "source": [
    "model = fit_random_forest(X_train, y_train)"
   ]
  },
  {
   "cell_type": "markdown",
   "metadata": {},
   "source": [
    "- ¿Se subio a S3? Veamos en la consola"
   ]
  },
  {
   "cell_type": "code",
   "execution_count": null,
   "metadata": {
    "colab": {
     "autoexec": {
      "startup": false,
      "wait_interval": 0
     }
    },
    "colab_type": "code",
    "id": "a9JlVZMCFuJ3"
   },
   "outputs": [],
   "source": [
    "y_pred = model.predict(X_test)"
   ]
  },
  {
   "cell_type": "code",
   "execution_count": null,
   "metadata": {},
   "outputs": [],
   "source": [
    "accuracy_score(y_test, Y_pred)"
   ]
  },
  {
   "cell_type": "code",
   "execution_count": null,
   "metadata": {},
   "outputs": [],
   "source": [
    "# Browser with Public DNS.\n",
    "req.get('http://ec2-3-91-238-157.compute-1.amazonaws.com:5000/classify?sepal_length=5.1&sepal_width=3.5&petal_length=1.4&petal_width=0.2').json()"
   ]
  },
  {
   "cell_type": "markdown",
   "metadata": {
    "colab_type": "text",
    "id": "8YzlG5AaFuJ-"
   },
   "source": [
    "## Tercer Modelo"
   ]
  },
  {
   "cell_type": "code",
   "execution_count": null,
   "metadata": {
    "colab": {
     "autoexec": {
      "startup": false,
      "wait_interval": 0
     }
    },
    "colab_type": "code",
    "id": "eb9vo0QiFuKC"
   },
   "outputs": [],
   "source": [
    "x_train, x_test, Y_train, Y_test = train_test_split(X, Y, random_state=1, test_size = .33)"
   ]
  },
  {
   "cell_type": "code",
   "execution_count": null,
   "metadata": {
    "colab": {
     "autoexec": {
      "startup": false,
      "wait_interval": 0
     }
    },
    "colab_type": "code",
    "id": "MLrDSeCIvkgO"
   },
   "outputs": [],
   "source": [
    "def print_figure(training_values, validation_values, metric):\n",
    "    epochs = range(1, len(training_values) + 1)\n",
    "    \n",
    "    plt.clf()\n",
    "    plt.plot(epochs, training_values, 'bo', label='Training ' + metric) # bo es blue dot\n",
    "    plt.plot(epochs, validation_values, 'b', label='Validation ' + metric)\n",
    "    plt.title('Training and validation ' + metric)\n",
    "    plt.xlabel('Epochs')\n",
    "    plt.ylabel(metric)\n",
    "    plt.legend()\n",
    "\n",
    "    plt.show()   "
   ]
  },
  {
   "cell_type": "code",
   "execution_count": null,
   "metadata": {
    "colab": {
     "autoexec": {
      "startup": false,
      "wait_interval": 0
     }
    },
    "colab_type": "code",
    "id": "QOTWX0hUvkgP"
   },
   "outputs": [],
   "source": [
    "def print_loss(history):\n",
    "    history_dict = history.history\n",
    "    loss_values = history_dict['loss']\n",
    "    val_loss_values = history_dict['val_loss']\n",
    "    \n",
    "    print_figure(loss_values, val_loss_values, 'Loss')"
   ]
  },
  {
   "cell_type": "code",
   "execution_count": null,
   "metadata": {
    "colab": {
     "autoexec": {
      "startup": false,
      "wait_interval": 0
     }
    },
    "colab_type": "code",
    "id": "Maj80DYFvkgS"
   },
   "outputs": [],
   "source": [
    "def print_acc(history):\n",
    "    history_dict = history.history\n",
    "    acc_values = history_dict['accuracy']\n",
    "    val_acc_values = history_dict['val_accuracy']\n",
    "    \n",
    "    print_figure(acc_values, val_acc_values, 'Accuracy')"
   ]
  },
  {
   "cell_type": "code",
   "execution_count": null,
   "metadata": {
    "colab": {
     "autoexec": {
      "startup": false,
      "wait_interval": 0
     }
    },
    "colab_type": "code",
    "id": "42nMRE_AFuKH"
   },
   "outputs": [],
   "source": [
    "# Simple Neural Network\n",
    "model = models.Sequential()\n",
    "model.add(layers.Dense(32, activation='relu', input_shape=(4,)))\n",
    "model.add(layers.Dense(32, activation='relu'))\n",
    "model.add(layers.Dense(3, activation='softmax'))"
   ]
  },
  {
   "cell_type": "code",
   "execution_count": null,
   "metadata": {
    "colab": {
     "autoexec": {
      "startup": false,
      "wait_interval": 0
     }
    },
    "colab_type": "code",
    "id": "uNuCvfkbFuKK"
   },
   "outputs": [],
   "source": [
    "model.compile(optimizer='rmsprop',\n",
    "              loss='categorical_crossentropy',\n",
    "              metrics=['accuracy'])"
   ]
  },
  {
   "cell_type": "code",
   "execution_count": null,
   "metadata": {
    "colab": {
     "autoexec": {
      "startup": false,
      "wait_interval": 0
     }
    },
    "colab_type": "code",
    "id": "46HuOdMPFuKO"
   },
   "outputs": [],
   "source": [
    "x_val = x_train[:50]\n",
    "partial_x_train = x_train[50:]\n",
    "\n",
    "y_val = Y_train[:50]\n",
    "partial_y_train = Y_train[50:]"
   ]
  },
  {
   "cell_type": "code",
   "execution_count": null,
   "metadata": {
    "colab": {
     "autoexec": {
      "startup": false,
      "wait_interval": 0
     },
     "base_uri": "https://localhost:8080/",
     "height": 36
    },
    "colab_type": "code",
    "executionInfo": {
     "elapsed": 629,
     "status": "ok",
     "timestamp": 1525300183530,
     "user": {
      "displayName": "Ramiro Savoie",
      "photoUrl": "//lh6.googleusercontent.com/-nvircRVyhys/AAAAAAAAAAI/AAAAAAAAkZc/bDG7THSJMxQ/s50-c-k-no/photo.jpg",
      "userId": "103932675305159588469"
     },
     "user_tz": 180
    },
    "id": "iORm3TGSFuKV",
    "outputId": "0b56a0cf-7f11-4d8d-9f7a-2e3f8fc733f8"
   },
   "outputs": [],
   "source": [
    "partial_x_train.shape"
   ]
  },
  {
   "cell_type": "code",
   "execution_count": null,
   "metadata": {
    "colab": {
     "autoexec": {
      "startup": false,
      "wait_interval": 0
     },
     "base_uri": "https://localhost:8080/",
     "height": 36
    },
    "colab_type": "code",
    "executionInfo": {
     "elapsed": 721,
     "status": "ok",
     "timestamp": 1525300185667,
     "user": {
      "displayName": "Ramiro Savoie",
      "photoUrl": "//lh6.googleusercontent.com/-nvircRVyhys/AAAAAAAAAAI/AAAAAAAAkZc/bDG7THSJMxQ/s50-c-k-no/photo.jpg",
      "userId": "103932675305159588469"
     },
     "user_tz": 180
    },
    "id": "xVGVfBo3FuKa",
    "outputId": "44628dbd-291b-49bd-9c9c-0501a5bebf79"
   },
   "outputs": [],
   "source": [
    "partial_y_train.shape"
   ]
  },
  {
   "cell_type": "code",
   "execution_count": null,
   "metadata": {
    "colab": {
     "autoexec": {
      "startup": false,
      "wait_interval": 0
     },
     "base_uri": "https://localhost:8080/",
     "height": 1214
    },
    "colab_type": "code",
    "executionInfo": {
     "elapsed": 2832,
     "status": "ok",
     "timestamp": 1525300188687,
     "user": {
      "displayName": "Ramiro Savoie",
      "photoUrl": "//lh6.googleusercontent.com/-nvircRVyhys/AAAAAAAAAAI/AAAAAAAAkZc/bDG7THSJMxQ/s50-c-k-no/photo.jpg",
      "userId": "103932675305159588469"
     },
     "user_tz": 180
    },
    "id": "--nFa5GMFuKe",
    "outputId": "72261730-a1a9-48ed-e221-36cee24bdab3"
   },
   "outputs": [],
   "source": [
    "%time history = model.fit(partial_x_train, partial_y_train, epochs=30, batch_size=10, validation_data=(x_val, y_val))"
   ]
  },
  {
   "cell_type": "code",
   "execution_count": null,
   "metadata": {},
   "outputs": [],
   "source": [
    "# Serialize model to JSON\n",
    "file_name = 'model.json'\n",
    "model_json = model.to_json()"
   ]
  },
  {
   "cell_type": "code",
   "execution_count": null,
   "metadata": {},
   "outputs": [],
   "source": [
    "# Network architecture\n",
    "model_json"
   ]
  },
  {
   "cell_type": "code",
   "execution_count": null,
   "metadata": {},
   "outputs": [],
   "source": [
    "with open(os.path.join(FOLDER, file_name), \"w\") as json_file:\n",
    "    json_file.write(model_json)\n",
    "au.upload_to_s3(BUCKET_NAME, FOLDER, file_name) \n",
    "print(\"Saved model definition to disk\")"
   ]
  },
  {
   "cell_type": "code",
   "execution_count": null,
   "metadata": {},
   "outputs": [],
   "source": [
    "# Serialize weights to HDF5\n",
    "file_name = 'model.h5'\n",
    "model.save_weights(os.path.join(FOLDER, file_name))\n",
    "au.upload_to_s3(BUCKET_NAME, FOLDER, file_name) \n",
    "print(\"Saved model weights to disk\")"
   ]
  },
  {
   "cell_type": "markdown",
   "metadata": {},
   "source": [
    "- ¿Se subio a S3? Veamos en la consola"
   ]
  },
  {
   "cell_type": "code",
   "execution_count": null,
   "metadata": {
    "colab": {
     "autoexec": {
      "startup": false,
      "wait_interval": 0
     },
     "base_uri": "https://localhost:8080/",
     "height": 295
    },
    "colab_type": "code",
    "executionInfo": {
     "elapsed": 1211,
     "status": "ok",
     "timestamp": 1525300195088,
     "user": {
      "displayName": "Ramiro Savoie",
      "photoUrl": "//lh6.googleusercontent.com/-nvircRVyhys/AAAAAAAAAAI/AAAAAAAAkZc/bDG7THSJMxQ/s50-c-k-no/photo.jpg",
      "userId": "103932675305159588469"
     },
     "user_tz": 180
    },
    "id": "ENMZdzVBvkgl",
    "outputId": "0c07e521-6d29-449b-fb90-eb8495a3c3ab"
   },
   "outputs": [],
   "source": [
    "print_loss(history)"
   ]
  },
  {
   "cell_type": "code",
   "execution_count": null,
   "metadata": {
    "colab": {
     "autoexec": {
      "startup": false,
      "wait_interval": 0
     },
     "base_uri": "https://localhost:8080/",
     "height": 295
    },
    "colab_type": "code",
    "executionInfo": {
     "elapsed": 1025,
     "status": "ok",
     "timestamp": 1525300201456,
     "user": {
      "displayName": "Ramiro Savoie",
      "photoUrl": "//lh6.googleusercontent.com/-nvircRVyhys/AAAAAAAAAAI/AAAAAAAAkZc/bDG7THSJMxQ/s50-c-k-no/photo.jpg",
      "userId": "103932675305159588469"
     },
     "user_tz": 180
    },
    "id": "wxU2ycUUvkgq",
    "outputId": "23e7966e-105b-43c7-d56b-de5b68e476ac"
   },
   "outputs": [],
   "source": [
    "print_acc(history)"
   ]
  },
  {
   "cell_type": "markdown",
   "metadata": {},
   "source": [
    "- Descomentar `TODO Part 3` en `predictions.predict()`\n",
    "- Relanzar local la API"
   ]
  },
  {
   "cell_type": "code",
   "execution_count": null,
   "metadata": {},
   "outputs": [],
   "source": [
    "# Browser\n",
    "req.get('http://localhost:5000/classify?sepal_length=5.1&sepal_width=3.5&petal_length=1.4&petal_width=0.2').json()"
   ]
  },
  {
   "cell_type": "markdown",
   "metadata": {},
   "source": [
    "```bash\n",
    "# Stop service in instance\n",
    "\n",
    "# Local: Zip the new app\n",
    "zip -r models-in-production.zip app.py predictions.py aws_utils.py config.py requirements.txt dist\n",
    "\n",
    "# Local: Upload the new packaged app\n",
    "scp -i ~/.ssh/vockey.pem models-in-production.zip ubuntu@ec2-3-91-238-157.compute-1.amazonaws.com:/home/ubuntu\n",
    "\n",
    "# Cloud\n",
    "unzip -o models-in-production.zip\n",
    "\n",
    "# Cloud: restart service\n",
    "python app.py\n",
    "```"
   ]
  },
  {
   "cell_type": "code",
   "execution_count": null,
   "metadata": {},
   "outputs": [],
   "source": [
    "# Browser with Public DNS.\n",
    "req.get('http://ec2-3-91-238-157.compute-1.amazonaws.com:5000/classify?sepal_length=5.1&sepal_width=3.5&petal_length=1.4&petal_width=0.2').json()"
   ]
  },
  {
   "cell_type": "markdown",
   "metadata": {},
   "source": [
    "## Limpieza\n",
    "- Terminar la instancia creada.\n",
    "- Borrar el bucket creado.\n",
    "- Borrar las `AWS_ACCESS_KEY_ID`, `AWS_SECRET_ACCESS_KEY` y `AWS_SESSION_TOKEN`de `config.py`\n",
    "- Volver a comentar `# TODO Part 2` y `# TODO Part 3`"
   ]
  }
 ],
 "metadata": {
  "accelerator": "GPU",
  "colab": {
   "collapsed_sections": [
    "PsJ_uFOr-7ex",
    "AxXlazZWVd-C"
   ],
   "default_view": {},
   "name": "Desafío I.ipynb",
   "provenance": [],
   "version": "0.3.2",
   "views": {}
  },
  "kernelspec": {
   "display_name": "python-3.10",
   "language": "python",
   "name": "python-3.10"
  },
  "language_info": {
   "codemirror_mode": {
    "name": "ipython",
    "version": 3
   },
   "file_extension": ".py",
   "mimetype": "text/x-python",
   "name": "python",
   "nbconvert_exporter": "python",
   "pygments_lexer": "ipython3",
   "version": "3.9.7"
  }
 },
 "nbformat": 4,
 "nbformat_minor": 4
}
